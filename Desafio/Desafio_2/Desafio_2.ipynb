{
  "nbformat": 4,
  "nbformat_minor": 0,
  "metadata": {
    "colab": {
      "provenance": [],
      "authorship_tag": "ABX9TyPMXX8pRoZX4Ksp118OF9LD",
      "include_colab_link": true
    },
    "kernelspec": {
      "name": "python3",
      "display_name": "Python 3"
    },
    "language_info": {
      "name": "python"
    }
  },
  "cells": [
    {
      "cell_type": "markdown",
      "metadata": {
        "id": "view-in-github",
        "colab_type": "text"
      },
      "source": [
        "<a href=\"https://colab.research.google.com/github/jmestanza/natural-language-processing-practice/blob/main/Desafio/Desafio_2/Desafio_2.ipynb\" target=\"_parent\"><img src=\"https://colab.research.google.com/assets/colab-badge.svg\" alt=\"Open In Colab\"/></a>"
      ]
    },
    {
      "cell_type": "markdown",
      "source": [
        "Crear sus propios vectores con Gensim\n",
        "basado en lo visto en clase con otro\n",
        "dataset.\n",
        "Probar términos de interés y explicar\n",
        "similitudes en el espacio de embeddings.\n",
        "Intentar plantear y probar tests de\n",
        "analogías. Graficar los embeddings\n",
        "resultantes.\n",
        "Sacar conclusiones."
      ],
      "metadata": {
        "id": "ItlvXdgo_tqp"
      }
    },
    {
      "cell_type": "markdown",
      "source": [
        "Algunos de los sitios de textos sugeridos fueron:\n",
        "- [Project Gutenberg](https://www.gutenberg.org/browse/scores/top)\n",
        "- [Textos.info](https://www.textos.info/)\n",
        "\n",
        "Se eligió analizar los textos pertenecientes a [The Project Gutenberg eBook of The Adventures of Sherlock Holmes](https://www.gutenberg.org/cache/epub/1661/pg1661.txt)\n"
      ],
      "metadata": {
        "id": "pFC94kllBtua"
      }
    },
    {
      "cell_type": "code",
      "source": [
        "import os\n",
        "filename = 'dataset.txt'\n",
        "text_path = 'https://raw.githubusercontent.com/jmestanza/natural-language-processing-practice/refs/heads/main/desafios/Desafio_2/the_adventures_of_sherlock_holmes.txt'\n",
        "curr_dir = os.getcwd()\n",
        "dataset_path = os.path.join(curr_dir, filename)\n",
        "if not os.path.exists(dataset_path):\n",
        "  !wget {text_path} -O {filename}\n",
        "\n",
        "os.listdir(curr_dir)\n"
      ],
      "metadata": {
        "colab": {
          "base_uri": "https://localhost:8080/"
        },
        "id": "FgdNH4GdFvk7",
        "outputId": "d4bb40f7-196c-42c2-d445-87c22a283d69"
      },
      "execution_count": 9,
      "outputs": [
        {
          "output_type": "execute_result",
          "data": {
            "text/plain": [
              "['.config', 'dataset.txt', '.ipynb_checkpoints', 'sample_data']"
            ]
          },
          "metadata": {},
          "execution_count": 9
        }
      ]
    },
    {
      "cell_type": "code",
      "source": [
        "with open(dataset_path, 'r') as f:\n",
        "  text = f.read()\n",
        "\n",
        "print(text[:1500])"
      ],
      "metadata": {
        "colab": {
          "base_uri": "https://localhost:8080/"
        },
        "id": "X-2-XwJ7G7Eq",
        "outputId": "acfb5af8-c9d8-4a69-8b8a-d6b65dae42e4"
      },
      "execution_count": 15,
      "outputs": [
        {
          "output_type": "stream",
          "name": "stdout",
          "text": [
            "The Project Gutenberg eBook of The Adventures of Sherlock Holmes\n",
            "    \n",
            "This ebook is for the use of anyone anywhere in the United States and\n",
            "most other parts of the world at no cost and with almost no restrictions\n",
            "whatsoever. You may copy it, give it away or re-use it under the terms\n",
            "of the Project Gutenberg License included with this ebook or online\n",
            "at www.gutenberg.org. If you are not located in the United States,\n",
            "you will have to check the laws of the country where you are located\n",
            "before using this eBook.\n",
            "\n",
            "Title: The Adventures of Sherlock Holmes\n",
            "\n",
            "Author: Arthur Conan Doyle\n",
            "\n",
            "Release date: March 1, 1999 [eBook #1661]\n",
            "                Most recently updated: October 10, 2023\n",
            "\n",
            "Language: English\n",
            "\n",
            "Credits: an anonymous Project Gutenberg volunteer and Jose Menendez\n",
            "\n",
            "\n",
            "*** START OF THE PROJECT GUTENBERG EBOOK THE ADVENTURES OF SHERLOCK HOLMES ***\n",
            "\n",
            "\n",
            "\n",
            "\n",
            "The Adventures of Sherlock Holmes\n",
            "\n",
            "by Arthur Conan Doyle\n",
            "\n",
            "\n",
            "Contents\n",
            "\n",
            "   I.     A Scandal in Bohemia\n",
            "   II.    The Red-Headed League\n",
            "   III.   A Case of Identity\n",
            "   IV.    The Boscombe Valley Mystery\n",
            "   V.     The Five Orange Pips\n",
            "   VI.    The Man with the Twisted Lip\n",
            "   VII.   The Adventure of the Blue Carbuncle\n",
            "   VIII.  The Adventure of the Speckled Band\n",
            "   IX.    The Adventure of the Engineer’s Thumb\n",
            "   X.     The Adventure of the Noble Bachelor\n",
            "   XI.    The Adventure of the Beryl Coronet\n",
            "   XII.   The Adventure of the Copper Beeches\n",
            "\n",
            "\n",
            "\n",
            "\n",
            "I. A SCANDAL IN BOHEMIA\n",
            "\n",
            "\n",
            "I.\n",
            "\n",
            "To Sherlock Holmes she is always _the_ woman. I have seldom heard \n"
          ]
        }
      ]
    },
    {
      "cell_type": "markdown",
      "source": [
        "## Limpieza de dataset\n",
        "Debemos obtener sólo los textos de adentro de los capítulos y el titulo"
      ],
      "metadata": {
        "id": "DHNPvr52LHLe"
      }
    },
    {
      "cell_type": "code",
      "source": [
        "import re\n",
        "\n",
        "# Read the text file\n",
        "with open(dataset_path, \"r\", encoding=\"utf-8\") as file:\n",
        "    text = file.read()\n",
        "\n",
        "# Remove everything before the actual content\n",
        "start_marker = \"*** START OF THE PROJECT GUTENBERG EBOOK\"\n",
        "end_marker = \"*** END OF THE PROJECT GUTENBERG EBOOK\"\n",
        "\n",
        "# Keep only the content between the start and end markers\n",
        "text = text.split(start_marker, 1)[-1].split(end_marker, 1)[0]\n",
        "\n",
        "# Define a pattern to match chapter titles (Roman numerals followed by title)\n",
        "chapter_pattern = re.compile(r\"\\n([IVXLCDM]+)\\.\\s([^\\n]+)\\n\")\n",
        "\n",
        "# Find all matches (chapter titles)\n",
        "matches = list(chapter_pattern.finditer(text))\n",
        "\n",
        "# Split the text into chapters\n",
        "chapters = []\n",
        "start = matches[0].end() if matches else 0  # Start at first chapter if found\n",
        "\n",
        "for i in range(len(matches)):\n",
        "    end = matches[i + 1].start() if i + 1 < len(matches) else len(text)\n",
        "\n",
        "    chapter_title = matches[i].group(2)  # Extract chapter title (ignore Roman numeral)\n",
        "    chapter_content = text[matches[i].end():end].strip()\n",
        "\n",
        "    # Remove repeated chapter numbers (e.g., \"I.\") at the start of content\n",
        "    chapter_content = re.sub(r\"^\\n?[IVXLCDM]+\\.\\n+\", \"\", chapter_content).strip()\n",
        "\n",
        "    # Store as \"Chapter Title\\nContent\"\n",
        "    chapters.append(f\"{chapter_title}\\n\\n{chapter_content}\")\n",
        "\n",
        "# Print the first 300 characters of each chapter\n",
        "for i, chapter in enumerate(chapters, 1):\n",
        "    print(f\"Chapter {i}: {chapter[:300]}...\\n\")\n"
      ],
      "metadata": {
        "colab": {
          "base_uri": "https://localhost:8080/"
        },
        "id": "aAjFbkw3LEHI",
        "outputId": "ff898ce0-bd0d-428f-b705-6e6c6bb27620"
      },
      "execution_count": 31,
      "outputs": [
        {
          "output_type": "stream",
          "name": "stdout",
          "text": [
            "Chapter 1: A SCANDAL IN BOHEMIA\n",
            "\n",
            "To Sherlock Holmes she is always _the_ woman. I have seldom heard him\n",
            "mention her under any other name. In his eyes she eclipses and\n",
            "predominates the whole of her sex. It was not that he felt any emotion\n",
            "akin to love for Irene Adler. All emotions, and that one particularly,\n",
            "wer...\n",
            "\n",
            "Chapter 2: THE RED-HEADED LEAGUE\n",
            "\n",
            "I had called upon my friend, Mr. Sherlock Holmes, one day in the\n",
            " autumn of last year and found him in deep conversation with a very\n",
            " stout, florid-faced, elderly gentleman with fiery red hair. With an\n",
            " apology for my intrusion, I was about to withdraw when Holmes pulled\n",
            " me a...\n",
            "\n",
            "Chapter 3: A CASE OF IDENTITY\n",
            "\n",
            "“My dear fellow,” said Sherlock Holmes as we sat on either side of the\n",
            "fire in his lodgings at Baker Street, “life is infinitely stranger than\n",
            "anything which the mind of man could invent. We would not dare to\n",
            "conceive the things which are really mere commonplaces of existence. If...\n",
            "\n",
            "Chapter 4: THE BOSCOMBE VALLEY MYSTERY\n",
            "\n",
            "We were seated at breakfast one morning, my wife and I, when the maid\n",
            "brought in a telegram. It was from Sherlock Holmes and ran in this way:\n",
            "\n",
            "“Have you a couple of days to spare? Have just been wired for from the\n",
            "west of England in connection with Boscombe Valley traged...\n",
            "\n",
            "Chapter 5: THE FIVE ORANGE PIPS\n",
            "\n",
            "When I glance over my notes and records of the Sherlock Holmes cases\n",
            "between the years ’82 and ’90, I am faced by so many which present\n",
            "strange and interesting features that it is no easy matter to know\n",
            "which to choose and which to leave. Some, however, have already gained\n",
            "publ...\n",
            "\n",
            "Chapter 6: THE MAN WITH THE TWISTED LIP\n",
            "\n",
            "Isa Whitney, brother of the late Elias Whitney, D.D., Principal of the\n",
            "Theological College of St. George’s, was much addicted to opium. The\n",
            "habit grew upon him, as I understand, from some foolish freak when he\n",
            "was at college; for having read De Quincey’s description of ...\n",
            "\n",
            "Chapter 7: THE ADVENTURE OF THE BLUE CARBUNCLE\n",
            "\n",
            "I had called upon my friend Sherlock Holmes upon the second morning\n",
            "after Christmas, with the intention of wishing him the compliments of\n",
            "the season. He was lounging upon the sofa in a purple dressing-gown, a\n",
            "pipe-rack within his reach upon the right, and a pile ...\n",
            "\n",
            "Chapter 8: THE ADVENTURE OF THE SPECKLED BAND\n",
            "\n",
            "On glancing over my notes of the seventy odd cases in which I have\n",
            "during the last eight years studied the methods of my friend Sherlock\n",
            "Holmes, I find many tragic, some comic, a large number merely strange,\n",
            "but none commonplace; for, working as he did rather for ...\n",
            "\n",
            "Chapter 9: THE ADVENTURE OF THE ENGINEER’S THUMB\n",
            "\n",
            "Of all the problems which have been submitted to my friend, Mr.\n",
            "Sherlock Holmes, for solution during the years of our intimacy, there\n",
            "were only two which I was the means of introducing to his notice—that\n",
            "of Mr. Hatherley’s thumb, and that of Colonel Warburton’s...\n",
            "\n",
            "Chapter 10: THE ADVENTURE OF THE NOBLE BACHELOR\n",
            "\n",
            "The Lord St. Simon marriage, and its curious termination, have long\n",
            "ceased to be a subject of interest in those exalted circles in which\n",
            "the unfortunate bridegroom moves. Fresh scandals have eclipsed it, and\n",
            "their more piquant details have drawn the gossips away ...\n",
            "\n",
            "Chapter 11: THE ADVENTURE OF THE BERYL CORONET\n",
            "\n",
            "“Holmes,” said I as I stood one morning in our bow-window looking down\n",
            "the street, “here is a madman coming along. It seems rather sad that\n",
            "his relatives should allow him to come out alone.”\n",
            "\n",
            "My friend rose lazily from his armchair and stood with his hands in the\n",
            "...\n",
            "\n",
            "Chapter 12: THE ADVENTURE OF THE COPPER BEECHES\n",
            "\n",
            "“To the man who loves art for its own sake,” remarked Sherlock Holmes,\n",
            "tossing aside the advertisement sheet of _The Daily Telegraph_, “it is\n",
            "frequently in its least important and lowliest manifestations that the\n",
            "keenest pleasure is to be derived. It is pleasant ...\n",
            "\n"
          ]
        }
      ]
    },
    {
      "cell_type": "code",
      "source": [
        "new_text = '\\n'.join(chapters)\n",
        "print(new_text[:1500])"
      ],
      "metadata": {
        "colab": {
          "base_uri": "https://localhost:8080/"
        },
        "id": "cyvHFxpkNinv",
        "outputId": "c50ab206-b866-4e50-abbc-c2b4d6b7db07"
      },
      "execution_count": 37,
      "outputs": [
        {
          "output_type": "stream",
          "name": "stdout",
          "text": [
            "A SCANDAL IN BOHEMIA\n",
            "\n",
            "To Sherlock Holmes she is always _the_ woman. I have seldom heard him\n",
            "mention her under any other name. In his eyes she eclipses and\n",
            "predominates the whole of her sex. It was not that he felt any emotion\n",
            "akin to love for Irene Adler. All emotions, and that one particularly,\n",
            "were abhorrent to his cold, precise but admirably balanced mind. He\n",
            "was, I take it, the most perfect reasoning and observing machine that\n",
            "the world has seen, but as a lover he would have placed himself in a\n",
            "false position. He never spoke of the softer passions, save with a gibe\n",
            "and a sneer. They were admirable things for the observer—excellent for\n",
            "drawing the veil from men’s motives and actions. But for the trained\n",
            "reasoner to admit such intrusions into his own delicate and finely\n",
            "adjusted temperament was to introduce a distracting factor which might\n",
            "throw a doubt upon all his mental results. Grit in a sensitive\n",
            "instrument, or a crack in one of his own high-power lenses, would not\n",
            "be more disturbing than a strong emotion in a nature such as his. And\n",
            "yet there was but one woman to him, and that woman was the late Irene\n",
            "Adler, of dubious and questionable memory.\n",
            "\n",
            "I had seen little of Holmes lately. My marriage had drifted us away\n",
            "from each other. My own complete happiness, and the home-centred\n",
            "interests which rise up around the man who first finds himself master\n",
            "of his own establishment, were sufficient to absorb all my attention,\n",
            "while Holmes, who loathed every form of society with his\n"
          ]
        }
      ]
    },
    {
      "cell_type": "code",
      "source": [
        "with open('dataset_clean.txt', 'w') as f:\n",
        "  f.write(new_text)"
      ],
      "metadata": {
        "id": "t6-4w9RRbBxT"
      },
      "execution_count": 38,
      "outputs": []
    },
    {
      "cell_type": "markdown",
      "source": [
        "Observando el dataset limpio, vemos que\n",
        "- `\\n\\n` (consecutive endline)\n",
        "- `_the_` (emphasis)\n",
        "- `“Seven!”` (punctuation)\n",
        "- `“Absolutely?”` (punctuation)\n",
        "- `John’s` (punctuation)\n",
        "- `II.` (roman numbers)\n",
        "- `won’t` (contractions)\n",
        "- `half-dragged` (hyphened compound-words)\n",
        "- `“‘The Church of St. Monica,` (abbreviation)\n",
        "- `\\t\\t“MY DEAR MR. SHERLOCK HOLMES` (tabs/spaces)\n",
        "- `_née_` (tilde)\n",
        "- `“‘Never.’` (quotes)\n",
        "- `“THE RED-HEADED LEAGUE IS DISSOLVED. October 9, 1890.”` (numbered date)\n",
        "- `sitting-room`\n",
        "- `“‘December 22nd. Twenty-four geese at 7_s_. 6_d_.’”`\n",
        "\n",
        "Deberíamos aplicar un preprocesamiento al texto.\n",
        "\n",
        "Una práctica recomendada es pasar todo a minúscula"
      ],
      "metadata": {
        "id": "omgwSL9NbH8m"
      }
    },
    {
      "cell_type": "markdown",
      "source": [
        "## 1 - Preprocesamiento"
      ],
      "metadata": {
        "id": "cjlZz6kqZexn"
      }
    },
    {
      "cell_type": "markdown",
      "source": [
        "Viendo"
      ],
      "metadata": {
        "id": "MU-gKEMJa_Av"
      }
    },
    {
      "cell_type": "code",
      "source": [],
      "metadata": {
        "id": "d0j6ndLma8pv"
      },
      "execution_count": null,
      "outputs": []
    }
  ]
}