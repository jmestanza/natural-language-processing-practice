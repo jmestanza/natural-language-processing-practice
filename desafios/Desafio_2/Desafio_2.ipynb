{
  "nbformat": 4,
  "nbformat_minor": 0,
  "metadata": {
    "colab": {
      "provenance": [],
      "include_colab_link": true
    },
    "kernelspec": {
      "name": "python3",
      "display_name": "Python 3"
    },
    "language_info": {
      "name": "python"
    }
  },
  "cells": [
    {
      "cell_type": "markdown",
      "metadata": {
        "id": "view-in-github",
        "colab_type": "text"
      },
      "source": [
        "<a href=\"https://colab.research.google.com/github/jmestanza/natural-language-processing-practice/blob/main/desafios/Desafio_2/Desafio_2.ipynb\" target=\"_parent\"><img src=\"https://colab.research.google.com/assets/colab-badge.svg\" alt=\"Open In Colab\"/></a>"
      ]
    },
    {
      "cell_type": "markdown",
      "source": [
        "Crear sus propios vectores con Gensim\n",
        "basado en lo visto en clase con otro\n",
        "dataset.\n",
        "Probar términos de interés y explicar\n",
        "similitudes en el espacio de embeddings.\n",
        "Intentar plantear y probar tests de\n",
        "analogías. Graficar los embeddings\n",
        "resultantes.\n",
        "Sacar conclusiones."
      ],
      "metadata": {
        "id": "ItlvXdgo_tqp"
      }
    },
    {
      "cell_type": "markdown",
      "source": [
        "Algunos de los sitios de textos sugeridos fueron:\n",
        "- [Project Gutenberg](https://www.gutenberg.org/browse/scores/top)\n",
        "- [Textos.info](https://www.textos.info/)\n",
        "\n",
        "Se eligió analizar los textos pertenecientes a [The Project Gutenberg eBook of The Adventures of Sherlock Holmes](https://www.gutenberg.org/cache/epub/1661/pg1661.txt)\n"
      ],
      "metadata": {
        "id": "pFC94kllBtua"
      }
    },
    {
      "cell_type": "markdown",
      "source": [
        "Por razones de compatibilidad con gensim, pandas y numpy hay que correr la siguiente linea de código."
      ],
      "metadata": {
        "id": "XPzpE--p1_0L"
      }
    },
    {
      "cell_type": "code",
      "source": [
        "!pip uninstall -y numpy gensim pandas\n",
        "!pip install --upgrade numpy gensim pandas==2.2.2"
      ],
      "metadata": {
        "colab": {
          "base_uri": "https://localhost:8080/"
        },
        "id": "8aPNpbiO1uNG",
        "outputId": "c387967d-8755-4b39-a82b-f15d758f2ef1"
      },
      "execution_count": 1,
      "outputs": [
        {
          "output_type": "stream",
          "name": "stdout",
          "text": [
            "Found existing installation: numpy 1.26.4\n",
            "Uninstalling numpy-1.26.4:\n",
            "  Successfully uninstalled numpy-1.26.4\n",
            "Found existing installation: gensim 4.3.3\n",
            "Uninstalling gensim-4.3.3:\n",
            "  Successfully uninstalled gensim-4.3.3\n",
            "Found existing installation: pandas 2.2.2\n",
            "Uninstalling pandas-2.2.2:\n",
            "  Successfully uninstalled pandas-2.2.2\n",
            "Collecting numpy\n",
            "  Using cached numpy-2.2.4-cp311-cp311-manylinux_2_17_x86_64.manylinux2014_x86_64.whl.metadata (62 kB)\n",
            "Collecting gensim\n",
            "  Using cached gensim-4.3.3-cp311-cp311-manylinux_2_17_x86_64.manylinux2014_x86_64.whl.metadata (8.1 kB)\n",
            "Collecting pandas==2.2.2\n",
            "  Using cached pandas-2.2.2-cp311-cp311-manylinux_2_17_x86_64.manylinux2014_x86_64.whl.metadata (19 kB)\n",
            "Requirement already satisfied: python-dateutil>=2.8.2 in /usr/local/lib/python3.11/dist-packages (from pandas==2.2.2) (2.8.2)\n",
            "Requirement already satisfied: pytz>=2020.1 in /usr/local/lib/python3.11/dist-packages (from pandas==2.2.2) (2025.1)\n",
            "Requirement already satisfied: tzdata>=2022.7 in /usr/local/lib/python3.11/dist-packages (from pandas==2.2.2) (2025.1)\n",
            "Collecting numpy\n",
            "  Using cached numpy-1.26.4-cp311-cp311-manylinux_2_17_x86_64.manylinux2014_x86_64.whl.metadata (61 kB)\n",
            "Requirement already satisfied: scipy<1.14.0,>=1.7.0 in /usr/local/lib/python3.11/dist-packages (from gensim) (1.13.1)\n",
            "Requirement already satisfied: smart-open>=1.8.1 in /usr/local/lib/python3.11/dist-packages (from gensim) (7.1.0)\n",
            "Requirement already satisfied: six>=1.5 in /usr/local/lib/python3.11/dist-packages (from python-dateutil>=2.8.2->pandas==2.2.2) (1.17.0)\n",
            "Requirement already satisfied: wrapt in /usr/local/lib/python3.11/dist-packages (from smart-open>=1.8.1->gensim) (1.17.2)\n",
            "Using cached pandas-2.2.2-cp311-cp311-manylinux_2_17_x86_64.manylinux2014_x86_64.whl (13.0 MB)\n",
            "Using cached gensim-4.3.3-cp311-cp311-manylinux_2_17_x86_64.manylinux2014_x86_64.whl (26.7 MB)\n",
            "Using cached numpy-1.26.4-cp311-cp311-manylinux_2_17_x86_64.manylinux2014_x86_64.whl (18.3 MB)\n",
            "Installing collected packages: numpy, pandas, gensim\n",
            "Successfully installed gensim-4.3.3 numpy-1.26.4 pandas-2.2.2\n"
          ]
        }
      ]
    },
    {
      "cell_type": "code",
      "source": [
        "import pandas as pd"
      ],
      "metadata": {
        "id": "mLLj-qHsKzb7"
      },
      "execution_count": 2,
      "outputs": []
    },
    {
      "cell_type": "code",
      "source": [
        "import os\n",
        "filename = 'dataset.txt'\n",
        "text_path = 'https://raw.githubusercontent.com/jmestanza/natural-language-processing-practice/refs/heads/main/desafios/Desafio_2/the_adventures_of_sherlock_holmes.txt'\n",
        "curr_dir = os.getcwd()\n",
        "dataset_path = os.path.join(curr_dir, filename)\n",
        "if not os.path.exists(dataset_path):\n",
        "  !wget {text_path} -O {filename}\n",
        "\n",
        "os.listdir(curr_dir)\n"
      ],
      "metadata": {
        "colab": {
          "base_uri": "https://localhost:8080/"
        },
        "id": "FgdNH4GdFvk7",
        "outputId": "54726a8b-bc58-4f51-a095-f24290924b4d"
      },
      "execution_count": 3,
      "outputs": [
        {
          "output_type": "execute_result",
          "data": {
            "text/plain": [
              "['.config',\n",
              " 'dataset_nltk_preprocessed.txt',\n",
              " 'dataset_clean.txt',\n",
              " 'dataset_clean_preprocessed.txt',\n",
              " 'dataset.txt',\n",
              " 'sample_data']"
            ]
          },
          "metadata": {},
          "execution_count": 3
        }
      ]
    },
    {
      "cell_type": "code",
      "source": [
        "with open(dataset_path, 'r') as f:\n",
        "  text = f.read()\n",
        "\n",
        "print(text[:1500])"
      ],
      "metadata": {
        "colab": {
          "base_uri": "https://localhost:8080/"
        },
        "id": "X-2-XwJ7G7Eq",
        "outputId": "f897f87c-a442-4c78-ba4b-df4f952c252c"
      },
      "execution_count": 4,
      "outputs": [
        {
          "output_type": "stream",
          "name": "stdout",
          "text": [
            "﻿The Project Gutenberg eBook of The Adventures of Sherlock Holmes\n",
            "    \n",
            "This ebook is for the use of anyone anywhere in the United States and\n",
            "most other parts of the world at no cost and with almost no restrictions\n",
            "whatsoever. You may copy it, give it away or re-use it under the terms\n",
            "of the Project Gutenberg License included with this ebook or online\n",
            "at www.gutenberg.org. If you are not located in the United States,\n",
            "you will have to check the laws of the country where you are located\n",
            "before using this eBook.\n",
            "\n",
            "Title: The Adventures of Sherlock Holmes\n",
            "\n",
            "Author: Arthur Conan Doyle\n",
            "\n",
            "Release date: March 1, 1999 [eBook #1661]\n",
            "                Most recently updated: October 10, 2023\n",
            "\n",
            "Language: English\n",
            "\n",
            "Credits: an anonymous Project Gutenberg volunteer and Jose Menendez\n",
            "\n",
            "\n",
            "*** START OF THE PROJECT GUTENBERG EBOOK THE ADVENTURES OF SHERLOCK HOLMES ***\n",
            "\n",
            "\n",
            "\n",
            "\n",
            "The Adventures of Sherlock Holmes\n",
            "\n",
            "by Arthur Conan Doyle\n",
            "\n",
            "\n",
            "Contents\n",
            "\n",
            "   I.     A Scandal in Bohemia\n",
            "   II.    The Red-Headed League\n",
            "   III.   A Case of Identity\n",
            "   IV.    The Boscombe Valley Mystery\n",
            "   V.     The Five Orange Pips\n",
            "   VI.    The Man with the Twisted Lip\n",
            "   VII.   The Adventure of the Blue Carbuncle\n",
            "   VIII.  The Adventure of the Speckled Band\n",
            "   IX.    The Adventure of the Engineer’s Thumb\n",
            "   X.     The Adventure of the Noble Bachelor\n",
            "   XI.    The Adventure of the Beryl Coronet\n",
            "   XII.   The Adventure of the Copper Beeches\n",
            "\n",
            "\n",
            "\n",
            "\n",
            "I. A SCANDAL IN BOHEMIA\n",
            "\n",
            "\n",
            "I.\n",
            "\n",
            "To Sherlock Holmes she is always _the_ woman. I have seldom heard\n"
          ]
        }
      ]
    },
    {
      "cell_type": "markdown",
      "source": [
        "## Limpieza de dataset\n",
        "Debemos obtener solo los textos de adentro de los capítulos y subcapítulos.\n",
        "\n",
        "Además debemos ignorar el texto que viene con la metadata de la obra (presente en el principio y final del dataset).\n",
        "\n",
        "La estructura es\n",
        "\n",
        "\n",
        "```\n",
        "I. Chapter title\n",
        "I.\n",
        "text\n",
        "II.\n",
        "text\n",
        "```\n",
        "\n"
      ],
      "metadata": {
        "id": "DHNPvr52LHLe"
      }
    },
    {
      "cell_type": "code",
      "source": [
        "import re\n",
        "\n",
        "# Read the text file\n",
        "with open(dataset_path, \"r\", encoding=\"utf-8\") as file:\n",
        "    text = file.read()\n",
        "\n",
        "# Remove everything before the actual content\n",
        "start_marker = \"*** START OF THE PROJECT GUTENBERG EBOOK\"\n",
        "end_marker = \"*** END OF THE PROJECT GUTENBERG EBOOK\"\n",
        "\n",
        "# Keep only the content between the start and end markers\n",
        "text = text.split(start_marker, 1)[-1].split(end_marker, 1)[0]\n",
        "\n",
        "# Define a pattern to match chapter titles (Roman numerals followed by title)\n",
        "chapter_pattern = re.compile(r\"\\n([IVXLCDM]+)\\.\\s([^\\n]+)\\n\")\n",
        "\n",
        "# Find all matches (chapter titles)\n",
        "matches = list(chapter_pattern.finditer(text))\n",
        "\n",
        "# Split the text into chapters\n",
        "chapters = []\n",
        "start = matches[0].end() if matches else 0  # Start at first chapter if found\n",
        "chapter_contents = []\n",
        "\n",
        "for i in range(len(matches)):\n",
        "    end = matches[i + 1].start() if i + 1 < len(matches) else len(text)\n",
        "\n",
        "    chapter_title = matches[i].group(2)  # Extract chapter title (ignore Roman numeral)\n",
        "    chapter_content = text[matches[i].end():end].strip()\n",
        "\n",
        "    # Remove subchapter numbers (standalone Roman numerals followed by a newline)\n",
        "    chapter_content = re.sub(r\"^\\n?[IVXLCDM]+\\.\\n+\", \"\", chapter_content, flags=re.MULTILINE).strip()\n",
        "\n",
        "    chapters.append(chapter_title)\n",
        "    # adding title as part of the content\n",
        "    chapter_contents.append(f\"{chapter_title}\\n{chapter_content}\")\n",
        "\n",
        "df_text = pd.DataFrame({'chapter': chapters, 'content': chapter_contents})\n",
        "df_text.head()"
      ],
      "metadata": {
        "colab": {
          "base_uri": "https://localhost:8080/",
          "height": 206
        },
        "id": "aAjFbkw3LEHI",
        "outputId": "223dee34-6f95-40bf-ee40-8445e9b6a8dc"
      },
      "execution_count": 5,
      "outputs": [
        {
          "output_type": "execute_result",
          "data": {
            "text/plain": [
              "                       chapter  \\\n",
              "0         A SCANDAL IN BOHEMIA   \n",
              "1        THE RED-HEADED LEAGUE   \n",
              "2           A CASE OF IDENTITY   \n",
              "3  THE BOSCOMBE VALLEY MYSTERY   \n",
              "4         THE FIVE ORANGE PIPS   \n",
              "\n",
              "                                             content  \n",
              "0  A SCANDAL IN BOHEMIA\\nTo Sherlock Holmes she i...  \n",
              "1  THE RED-HEADED LEAGUE\\nI had called upon my fr...  \n",
              "2  A CASE OF IDENTITY\\n“My dear fellow,” said She...  \n",
              "3  THE BOSCOMBE VALLEY MYSTERY\\nWe were seated at...  \n",
              "4  THE FIVE ORANGE PIPS\\nWhen I glance over my no...  "
            ],
            "text/html": [
              "\n",
              "  <div id=\"df-707f7963-efbf-40b2-ace5-450d538ab7bf\" class=\"colab-df-container\">\n",
              "    <div>\n",
              "<style scoped>\n",
              "    .dataframe tbody tr th:only-of-type {\n",
              "        vertical-align: middle;\n",
              "    }\n",
              "\n",
              "    .dataframe tbody tr th {\n",
              "        vertical-align: top;\n",
              "    }\n",
              "\n",
              "    .dataframe thead th {\n",
              "        text-align: right;\n",
              "    }\n",
              "</style>\n",
              "<table border=\"1\" class=\"dataframe\">\n",
              "  <thead>\n",
              "    <tr style=\"text-align: right;\">\n",
              "      <th></th>\n",
              "      <th>chapter</th>\n",
              "      <th>content</th>\n",
              "    </tr>\n",
              "  </thead>\n",
              "  <tbody>\n",
              "    <tr>\n",
              "      <th>0</th>\n",
              "      <td>A SCANDAL IN BOHEMIA</td>\n",
              "      <td>A SCANDAL IN BOHEMIA\\nTo Sherlock Holmes she i...</td>\n",
              "    </tr>\n",
              "    <tr>\n",
              "      <th>1</th>\n",
              "      <td>THE RED-HEADED LEAGUE</td>\n",
              "      <td>THE RED-HEADED LEAGUE\\nI had called upon my fr...</td>\n",
              "    </tr>\n",
              "    <tr>\n",
              "      <th>2</th>\n",
              "      <td>A CASE OF IDENTITY</td>\n",
              "      <td>A CASE OF IDENTITY\\n“My dear fellow,” said She...</td>\n",
              "    </tr>\n",
              "    <tr>\n",
              "      <th>3</th>\n",
              "      <td>THE BOSCOMBE VALLEY MYSTERY</td>\n",
              "      <td>THE BOSCOMBE VALLEY MYSTERY\\nWe were seated at...</td>\n",
              "    </tr>\n",
              "    <tr>\n",
              "      <th>4</th>\n",
              "      <td>THE FIVE ORANGE PIPS</td>\n",
              "      <td>THE FIVE ORANGE PIPS\\nWhen I glance over my no...</td>\n",
              "    </tr>\n",
              "  </tbody>\n",
              "</table>\n",
              "</div>\n",
              "    <div class=\"colab-df-buttons\">\n",
              "\n",
              "  <div class=\"colab-df-container\">\n",
              "    <button class=\"colab-df-convert\" onclick=\"convertToInteractive('df-707f7963-efbf-40b2-ace5-450d538ab7bf')\"\n",
              "            title=\"Convert this dataframe to an interactive table.\"\n",
              "            style=\"display:none;\">\n",
              "\n",
              "  <svg xmlns=\"http://www.w3.org/2000/svg\" height=\"24px\" viewBox=\"0 -960 960 960\">\n",
              "    <path d=\"M120-120v-720h720v720H120Zm60-500h600v-160H180v160Zm220 220h160v-160H400v160Zm0 220h160v-160H400v160ZM180-400h160v-160H180v160Zm440 0h160v-160H620v160ZM180-180h160v-160H180v160Zm440 0h160v-160H620v160Z\"/>\n",
              "  </svg>\n",
              "    </button>\n",
              "\n",
              "  <style>\n",
              "    .colab-df-container {\n",
              "      display:flex;\n",
              "      gap: 12px;\n",
              "    }\n",
              "\n",
              "    .colab-df-convert {\n",
              "      background-color: #E8F0FE;\n",
              "      border: none;\n",
              "      border-radius: 50%;\n",
              "      cursor: pointer;\n",
              "      display: none;\n",
              "      fill: #1967D2;\n",
              "      height: 32px;\n",
              "      padding: 0 0 0 0;\n",
              "      width: 32px;\n",
              "    }\n",
              "\n",
              "    .colab-df-convert:hover {\n",
              "      background-color: #E2EBFA;\n",
              "      box-shadow: 0px 1px 2px rgba(60, 64, 67, 0.3), 0px 1px 3px 1px rgba(60, 64, 67, 0.15);\n",
              "      fill: #174EA6;\n",
              "    }\n",
              "\n",
              "    .colab-df-buttons div {\n",
              "      margin-bottom: 4px;\n",
              "    }\n",
              "\n",
              "    [theme=dark] .colab-df-convert {\n",
              "      background-color: #3B4455;\n",
              "      fill: #D2E3FC;\n",
              "    }\n",
              "\n",
              "    [theme=dark] .colab-df-convert:hover {\n",
              "      background-color: #434B5C;\n",
              "      box-shadow: 0px 1px 3px 1px rgba(0, 0, 0, 0.15);\n",
              "      filter: drop-shadow(0px 1px 2px rgba(0, 0, 0, 0.3));\n",
              "      fill: #FFFFFF;\n",
              "    }\n",
              "  </style>\n",
              "\n",
              "    <script>\n",
              "      const buttonEl =\n",
              "        document.querySelector('#df-707f7963-efbf-40b2-ace5-450d538ab7bf button.colab-df-convert');\n",
              "      buttonEl.style.display =\n",
              "        google.colab.kernel.accessAllowed ? 'block' : 'none';\n",
              "\n",
              "      async function convertToInteractive(key) {\n",
              "        const element = document.querySelector('#df-707f7963-efbf-40b2-ace5-450d538ab7bf');\n",
              "        const dataTable =\n",
              "          await google.colab.kernel.invokeFunction('convertToInteractive',\n",
              "                                                    [key], {});\n",
              "        if (!dataTable) return;\n",
              "\n",
              "        const docLinkHtml = 'Like what you see? Visit the ' +\n",
              "          '<a target=\"_blank\" href=https://colab.research.google.com/notebooks/data_table.ipynb>data table notebook</a>'\n",
              "          + ' to learn more about interactive tables.';\n",
              "        element.innerHTML = '';\n",
              "        dataTable['output_type'] = 'display_data';\n",
              "        await google.colab.output.renderOutput(dataTable, element);\n",
              "        const docLink = document.createElement('div');\n",
              "        docLink.innerHTML = docLinkHtml;\n",
              "        element.appendChild(docLink);\n",
              "      }\n",
              "    </script>\n",
              "  </div>\n",
              "\n",
              "\n",
              "<div id=\"df-fddcf31d-ac39-4186-914d-120b2879ab37\">\n",
              "  <button class=\"colab-df-quickchart\" onclick=\"quickchart('df-fddcf31d-ac39-4186-914d-120b2879ab37')\"\n",
              "            title=\"Suggest charts\"\n",
              "            style=\"display:none;\">\n",
              "\n",
              "<svg xmlns=\"http://www.w3.org/2000/svg\" height=\"24px\"viewBox=\"0 0 24 24\"\n",
              "     width=\"24px\">\n",
              "    <g>\n",
              "        <path d=\"M19 3H5c-1.1 0-2 .9-2 2v14c0 1.1.9 2 2 2h14c1.1 0 2-.9 2-2V5c0-1.1-.9-2-2-2zM9 17H7v-7h2v7zm4 0h-2V7h2v10zm4 0h-2v-4h2v4z\"/>\n",
              "    </g>\n",
              "</svg>\n",
              "  </button>\n",
              "\n",
              "<style>\n",
              "  .colab-df-quickchart {\n",
              "      --bg-color: #E8F0FE;\n",
              "      --fill-color: #1967D2;\n",
              "      --hover-bg-color: #E2EBFA;\n",
              "      --hover-fill-color: #174EA6;\n",
              "      --disabled-fill-color: #AAA;\n",
              "      --disabled-bg-color: #DDD;\n",
              "  }\n",
              "\n",
              "  [theme=dark] .colab-df-quickchart {\n",
              "      --bg-color: #3B4455;\n",
              "      --fill-color: #D2E3FC;\n",
              "      --hover-bg-color: #434B5C;\n",
              "      --hover-fill-color: #FFFFFF;\n",
              "      --disabled-bg-color: #3B4455;\n",
              "      --disabled-fill-color: #666;\n",
              "  }\n",
              "\n",
              "  .colab-df-quickchart {\n",
              "    background-color: var(--bg-color);\n",
              "    border: none;\n",
              "    border-radius: 50%;\n",
              "    cursor: pointer;\n",
              "    display: none;\n",
              "    fill: var(--fill-color);\n",
              "    height: 32px;\n",
              "    padding: 0;\n",
              "    width: 32px;\n",
              "  }\n",
              "\n",
              "  .colab-df-quickchart:hover {\n",
              "    background-color: var(--hover-bg-color);\n",
              "    box-shadow: 0 1px 2px rgba(60, 64, 67, 0.3), 0 1px 3px 1px rgba(60, 64, 67, 0.15);\n",
              "    fill: var(--button-hover-fill-color);\n",
              "  }\n",
              "\n",
              "  .colab-df-quickchart-complete:disabled,\n",
              "  .colab-df-quickchart-complete:disabled:hover {\n",
              "    background-color: var(--disabled-bg-color);\n",
              "    fill: var(--disabled-fill-color);\n",
              "    box-shadow: none;\n",
              "  }\n",
              "\n",
              "  .colab-df-spinner {\n",
              "    border: 2px solid var(--fill-color);\n",
              "    border-color: transparent;\n",
              "    border-bottom-color: var(--fill-color);\n",
              "    animation:\n",
              "      spin 1s steps(1) infinite;\n",
              "  }\n",
              "\n",
              "  @keyframes spin {\n",
              "    0% {\n",
              "      border-color: transparent;\n",
              "      border-bottom-color: var(--fill-color);\n",
              "      border-left-color: var(--fill-color);\n",
              "    }\n",
              "    20% {\n",
              "      border-color: transparent;\n",
              "      border-left-color: var(--fill-color);\n",
              "      border-top-color: var(--fill-color);\n",
              "    }\n",
              "    30% {\n",
              "      border-color: transparent;\n",
              "      border-left-color: var(--fill-color);\n",
              "      border-top-color: var(--fill-color);\n",
              "      border-right-color: var(--fill-color);\n",
              "    }\n",
              "    40% {\n",
              "      border-color: transparent;\n",
              "      border-right-color: var(--fill-color);\n",
              "      border-top-color: var(--fill-color);\n",
              "    }\n",
              "    60% {\n",
              "      border-color: transparent;\n",
              "      border-right-color: var(--fill-color);\n",
              "    }\n",
              "    80% {\n",
              "      border-color: transparent;\n",
              "      border-right-color: var(--fill-color);\n",
              "      border-bottom-color: var(--fill-color);\n",
              "    }\n",
              "    90% {\n",
              "      border-color: transparent;\n",
              "      border-bottom-color: var(--fill-color);\n",
              "    }\n",
              "  }\n",
              "</style>\n",
              "\n",
              "  <script>\n",
              "    async function quickchart(key) {\n",
              "      const quickchartButtonEl =\n",
              "        document.querySelector('#' + key + ' button');\n",
              "      quickchartButtonEl.disabled = true;  // To prevent multiple clicks.\n",
              "      quickchartButtonEl.classList.add('colab-df-spinner');\n",
              "      try {\n",
              "        const charts = await google.colab.kernel.invokeFunction(\n",
              "            'suggestCharts', [key], {});\n",
              "      } catch (error) {\n",
              "        console.error('Error during call to suggestCharts:', error);\n",
              "      }\n",
              "      quickchartButtonEl.classList.remove('colab-df-spinner');\n",
              "      quickchartButtonEl.classList.add('colab-df-quickchart-complete');\n",
              "    }\n",
              "    (() => {\n",
              "      let quickchartButtonEl =\n",
              "        document.querySelector('#df-fddcf31d-ac39-4186-914d-120b2879ab37 button');\n",
              "      quickchartButtonEl.style.display =\n",
              "        google.colab.kernel.accessAllowed ? 'block' : 'none';\n",
              "    })();\n",
              "  </script>\n",
              "</div>\n",
              "\n",
              "    </div>\n",
              "  </div>\n"
            ],
            "application/vnd.google.colaboratory.intrinsic+json": {
              "type": "dataframe",
              "variable_name": "df_text",
              "summary": "{\n  \"name\": \"df_text\",\n  \"rows\": 12,\n  \"fields\": [\n    {\n      \"column\": \"chapter\",\n      \"properties\": {\n        \"dtype\": \"string\",\n        \"num_unique_values\": 12,\n        \"samples\": [\n          \"THE ADVENTURE OF THE BERYL CORONET\",\n          \"THE ADVENTURE OF THE NOBLE BACHELOR\",\n          \"A SCANDAL IN BOHEMIA\"\n        ],\n        \"semantic_type\": \"\",\n        \"description\": \"\"\n      }\n    },\n    {\n      \"column\": \"content\",\n      \"properties\": {\n        \"dtype\": \"string\",\n        \"num_unique_values\": 12,\n        \"samples\": [\n          \"THE ADVENTURE OF THE BERYL CORONET\\n\\u201cHolmes,\\u201d said I as I stood one morning in our bow-window looking down\\nthe street, \\u201chere is a madman coming along. It seems rather sad that\\nhis relatives should allow him to come out alone.\\u201d\\n\\nMy friend rose lazily from his armchair and stood with his hands in the\\npockets of his dressing-gown, looking over my shoulder. It was a\\nbright, crisp February morning, and the snow of the day before still\\nlay deep upon the ground, shimmering brightly in the wintry sun. Down\\nthe centre of Baker Street it had been ploughed into a brown crumbly\\nband by the traffic, but at either side and on the heaped-up edges of\\nthe footpaths it still lay as white as when it fell. The grey pavement\\nhad been cleaned and scraped, but was still dangerously slippery, so\\nthat there were fewer passengers than usual. Indeed, from the direction\\nof the Metropolitan Station no one was coming save the single gentleman\\nwhose eccentric conduct had drawn my attention.\\n\\nHe was a man of about fifty, tall, portly, and imposing, with a\\nmassive, strongly marked face and a commanding figure. He was dressed\\nin a sombre yet rich style, in black frock-coat, shining hat, neat\\nbrown gaiters, and well-cut pearl-grey trousers. Yet his actions were\\nin absurd contrast to the dignity of his dress and features, for he was\\nrunning hard, with occasional little springs, such as a weary man gives\\nwho is little accustomed to set any tax upon his legs. As he ran he\\njerked his hands up and down, waggled his head, and writhed his face\\ninto the most extraordinary contortions.\\n\\n\\u201cWhat on earth can be the matter with him?\\u201d I asked. \\u201cHe is looking up\\nat the numbers of the houses.\\u201d\\n\\n\\u201cI believe that he is coming here,\\u201d said Holmes, rubbing his hands.\\n\\n\\u201cHere?\\u201d\\n\\n\\u201cYes; I rather think he is coming to consult me professionally. I think\\nthat I recognise the symptoms. Ha! did I not tell you?\\u201d As he spoke,\\nthe man, puffing and blowing, rushed at our door and pulled at our bell\\nuntil the whole house resounded with the clanging.\\n\\nA few moments later he was in our room, still puffing, still\\ngesticulating, but with so fixed a look of grief and despair in his\\neyes that our smiles were turned in an instant to horror and pity. For\\na while he could not get his words out, but swayed his body and plucked\\nat his hair like one who has been driven to the extreme limits of his\\nreason. Then, suddenly springing to his feet, he beat his head against\\nthe wall with such force that we both rushed upon him and tore him away\\nto the centre of the room. Sherlock Holmes pushed him down into the\\neasy-chair and, sitting beside him, patted his hand and chatted with\\nhim in the easy, soothing tones which he knew so well how to employ.\\n\\n\\u201cYou have come to me to tell your story, have you not?\\u201d said he. \\u201cYou\\nare fatigued with your haste. Pray wait until you have recovered\\nyourself, and then I shall be most happy to look into any little\\nproblem which you may submit to me.\\u201d\\n\\nThe man sat for a minute or more with a heaving chest, fighting against\\nhis emotion. Then he passed his handkerchief over his brow, set his\\nlips tight, and turned his face towards us.\\n\\n\\u201cNo doubt you think me mad?\\u201d said he.\\n\\n\\u201cI see that you have had some great trouble,\\u201d responded Holmes.\\n\\n\\u201cGod knows I have!\\u2014a trouble which is enough to unseat my reason, so\\nsudden and so terrible is it. Public disgrace I might have faced,\\nalthough I am a man whose character has never yet borne a stain.\\nPrivate affliction also is the lot of every man; but the two coming\\ntogether, and in so frightful a form, have been enough to shake my very\\nsoul. Besides, it is not I alone. The very noblest in the land may\\nsuffer unless some way be found out of this horrible affair.\\u201d\\n\\n\\u201cPray compose yourself, sir,\\u201d said Holmes, \\u201cand let me have a clear\\naccount of who you are and what it is that has befallen you.\\u201d\\n\\n\\u201cMy name,\\u201d answered our visitor, \\u201cis probably familiar to your ears. I\\nam Alexander Holder, of the banking firm of Holder & Stevenson, of\\nThreadneedle Street.\\u201d\\n\\nThe name was indeed well known to us as belonging to the senior partner\\nin the second largest private banking concern in the City of London.\\nWhat could have happened, then, to bring one of the foremost citizens\\nof London to this most pitiable pass? We waited, all curiosity, until\\nwith another effort he braced himself to tell his story.\\n\\n\\u201cI feel that time is of value,\\u201d said he; \\u201cthat is why I hastened here\\nwhen the police inspector suggested that I should secure your\\nco-operation. I came to Baker Street by the Underground and hurried\\nfrom there on foot, for the cabs go slowly through this snow. That is\\nwhy I was so out of breath, for I am a man who takes very little\\nexercise. I feel better now, and I will put the facts before you as\\nshortly and yet as clearly as I can.\\n\\n\\u201cIt is, of course, well known to you that in a successful banking\\nbusiness as much depends upon our being able to find remunerative\\ninvestments for our funds as upon our increasing our connection and the\\nnumber of our depositors. One of our most lucrative means of laying out\\nmoney is in the shape of loans, where the security is unimpeachable. We\\nhave done a good deal in this direction during the last few years, and\\nthere are many noble families to whom we have advanced large sums upon\\nthe security of their pictures, libraries, or plate.\\n\\n\\u201cYesterday morning I was seated in my office at the bank when a card\\nwas brought in to me by one of the clerks. I started when I saw the\\nname, for it was that of none other than\\u2014well, perhaps even to you I\\nhad better say no more than that it was a name which is a household\\nword all over the earth\\u2014one of the highest, noblest, most exalted names\\nin England. I was overwhelmed by the honour and attempted, when he\\nentered, to say so, but he plunged at once into business with the air\\nof a man who wishes to hurry quickly through a disagreeable task.\\n\\n\\u201c\\u2018Mr. Holder,\\u2019 said he, \\u2018I have been informed that you are in the habit\\nof advancing money.\\u2019\\n\\n\\u201c\\u2018The firm does so when the security is good.\\u2019 I answered.\\n\\n\\u201c\\u2018It is absolutely essential to me,\\u2019 said he, \\u2018that I should have \\u00a3\\n50,000 at once. I could, of course, borrow so trifling a sum ten times\\nover from my friends, but I much prefer to make it a matter of business\\nand to carry out that business myself. In my position you can readily\\nunderstand that it is unwise to place one\\u2019s self under obligations.\\u2019\\n\\n\\u201c\\u2018For how long, may I ask, do you want this sum?\\u2019 I asked.\\n\\n\\u201c\\u2018Next Monday I have a large sum due to me, and I shall then most\\ncertainly repay what you advance, with whatever interest you think it\\nright to charge. But it is very essential to me that the money should\\nbe paid at once.\\u2019\\n\\n\\u201c\\u2018I should be happy to advance it without further parley from my own\\nprivate purse,\\u2019 said I, \\u2018were it not that the strain would be rather\\nmore than it could bear. If, on the other hand, I am to do it in the\\nname of the firm, then in justice to my partner I must insist that,\\neven in your case, every businesslike precaution should be taken.\\u2019\\n\\n\\u201c\\u2018I should much prefer to have it so,\\u2019 said he, raising up a square,\\nblack morocco case which he had laid beside his chair. \\u2018You have\\ndoubtless heard of the Beryl Coronet?\\u2019\\n\\n\\u201c\\u2018One of the most precious public possessions of the empire,\\u2019 said I.\\n\\n\\u201c\\u2018Precisely.\\u2019 He opened the case, and there, imbedded in soft,\\nflesh-coloured velvet, lay the magnificent piece of jewellery which he\\nhad named. \\u2018There are thirty-nine enormous beryls,\\u2019 said he, \\u2018and the\\nprice of the gold chasing is incalculable. The lowest estimate would\\nput the worth of the coronet at double the sum which I have asked. I am\\nprepared to leave it with you as my security.\\u2019\\n\\n\\u201cI took the precious case into my hands and looked in some perplexity\\nfrom it to my illustrious client.\\n\\n\\u201c\\u2018You doubt its value?\\u2019 he asked.\\n\\n\\u201c\\u2018Not at all. I only doubt\\u2014\\u2019\\n\\n\\u201c\\u2018The propriety of my leaving it. You may set your mind at rest about\\nthat. I should not dream of doing so were it not absolutely certain\\nthat I should be able in four days to reclaim it. It is a pure matter\\nof form. Is the security sufficient?\\u2019\\n\\n\\u201c\\u2018Ample.\\u2019\\n\\n\\u201c\\u2018You understand, Mr. Holder, that I am giving you a strong proof of\\nthe confidence which I have in you, founded upon all that I have heard\\nof you. I rely upon you not only to be discreet and to refrain from all\\ngossip upon the matter but, above all, to preserve this coronet with\\nevery possible precaution because I need not say that a great public\\nscandal would be caused if any harm were to befall it. Any injury to it\\nwould be almost as serious as its complete loss, for there are no\\nberyls in the world to match these, and it would be impossible to\\nreplace them. I leave it with you, however, with every confidence, and\\nI shall call for it in person on Monday morning.\\u2019\\n\\n\\u201cSeeing that my client was anxious to leave, I said no more but,\\ncalling for my cashier, I ordered him to pay over fifty \\u00a3 1000 notes.\\nWhen I was alone once more, however, with the precious case lying upon\\nthe table in front of me, I could not but think with some misgivings of\\nthe immense responsibility which it entailed upon me. There could be no\\ndoubt that, as it was a national possession, a horrible scandal would\\nensue if any misfortune should occur to it. I already regretted having\\never consented to take charge of it. However, it was too late to alter\\nthe matter now, so I locked it up in my private safe and turned once\\nmore to my work.\\n\\n\\u201cWhen evening came I felt that it would be an imprudence to leave so\\nprecious a thing in the office behind me. Bankers\\u2019 safes had been\\nforced before now, and why should not mine be? If so, how terrible\\nwould be the position in which I should find myself! I determined,\\ntherefore, that for the next few days I would always carry the case\\nbackward and forward with me, so that it might never be really out of\\nmy reach. With this intention, I called a cab and drove out to my house\\nat Streatham, carrying the jewel with me. I did not breathe freely\\nuntil I had taken it upstairs and locked it in the bureau of my\\ndressing-room.\\n\\n\\u201cAnd now a word as to my household, Mr. Holmes, for I wish you to\\nthoroughly understand the situation. My groom and my page sleep out of\\nthe house, and may be set aside altogether. I have three maid-servants\\nwho have been with me a number of years and whose absolute reliability\\nis quite above suspicion. Another, Lucy Parr, the second waiting-maid,\\nhas only been in my service a few months. She came with an excellent\\ncharacter, however, and has always given me satisfaction. She is a very\\npretty girl and has attracted admirers who have occasionally hung about\\nthe place. That is the only drawback which we have found to her, but we\\nbelieve her to be a thoroughly good girl in every way.\\n\\n\\u201cSo much for the servants. My family itself is so small that it will\\nnot take me long to describe it. I am a widower and have an only son,\\nArthur. He has been a disappointment to me, Mr. Holmes\\u2014a grievous\\ndisappointment. I have no doubt that I am myself to blame. People tell\\nme that I have spoiled him. Very likely I have. When my dear wife died\\nI felt that he was all I had to love. I could not bear to see the smile\\nfade even for a moment from his face. I have never denied him a wish.\\nPerhaps it would have been better for both of us had I been sterner,\\nbut I meant it for the best.\\n\\n\\u201cIt was naturally my intention that he should succeed me in my\\nbusiness, but he was not of a business turn. He was wild, wayward, and,\\nto speak the truth, I could not trust him in the handling of large sums\\nof money. When he was young he became a member of an aristocratic club,\\nand there, having charming manners, he was soon the intimate of a\\nnumber of men with long purses and expensive habits. He learned to play\\nheavily at cards and to squander money on the turf, until he had again\\nand again to come to me and implore me to give him an advance upon his\\nallowance, that he might settle his debts of honour. He tried more than\\nonce to break away from the dangerous company which he was keeping, but\\neach time the influence of his friend, Sir George Burnwell, was enough\\nto draw him back again.\\n\\n\\u201cAnd, indeed, I could not wonder that such a man as Sir George Burnwell\\nshould gain an influence over him, for he has frequently brought him to\\nmy house, and I have found myself that I could hardly resist the\\nfascination of his manner. He is older than Arthur, a man of the world\\nto his finger-tips, one who had been everywhere, seen everything, a\\nbrilliant talker, and a man of great personal beauty. Yet when I think\\nof him in cold blood, far away from the glamour of his presence, I am\\nconvinced from his cynical speech and the look which I have caught in\\nhis eyes that he is one who should be deeply distrusted. So I think,\\nand so, too, thinks my little Mary, who has a woman\\u2019s quick insight\\ninto character.\\n\\n\\u201cAnd now there is only she to be described. She is my niece; but when\\nmy brother died five years ago and left her alone in the world I\\nadopted her, and have looked upon her ever since as my daughter. She is\\na sunbeam in my house\\u2014sweet, loving, beautiful, a wonderful manager and\\nhousekeeper, yet as tender and quiet and gentle as a woman could be.\\nShe is my right hand. I do not know what I could do without her. In\\nonly one matter has she ever gone against my wishes. Twice my boy has\\nasked her to marry him, for he loves her devotedly, but each time she\\nhas refused him. I think that if anyone could have drawn him into the\\nright path it would have been she, and that his marriage might have\\nchanged his whole life; but now, alas! it is too late\\u2014forever too late!\\n\\n\\u201cNow, Mr. Holmes, you know the people who live under my roof, and I\\nshall continue with my miserable story.\\n\\n\\u201cWhen we were taking coffee in the drawing-room that night after\\ndinner, I told Arthur and Mary my experience, and of the precious\\ntreasure which we had under our roof, suppressing only the name of my\\nclient. Lucy Parr, who had brought in the coffee, had, I am sure, left\\nthe room; but I cannot swear that the door was closed. Mary and Arthur\\nwere much interested and wished to see the famous coronet, but I\\nthought it better not to disturb it.\\n\\n\\u201c\\u2018Where have you put it?\\u2019 asked Arthur.\\n\\n\\u201c\\u2018In my own bureau.\\u2019\\n\\n\\u201c\\u2018Well, I hope to goodness the house won\\u2019t be burgled during the\\nnight.\\u2019 said he.\\n\\n\\u201c\\u2018It is locked up,\\u2019 I answered.\\n\\n\\u201c\\u2018Oh, any old key will fit that bureau. When I was a youngster I have\\nopened it myself with the key of the box-room cupboard.\\u2019\\n\\n\\u201cHe often had a wild way of talking, so that I thought little of what\\nhe said. He followed me to my room, however, that night with a very\\ngrave face.\\n\\n\\u201c\\u2018Look here, dad,\\u2019 said he with his eyes cast down, \\u2018can you let me\\nhave \\u00a3 200?\\u2019\\n\\n\\u201c\\u2018No, I cannot!\\u2019 I answered sharply. \\u2018I have been far too generous with\\nyou in money matters.\\u2019\\n\\n\\u201c\\u2018You have been very kind,\\u2019 said he, \\u2018but I must have this money, or\\nelse I can never show my face inside the club again.\\u2019\\n\\n\\u201c\\u2018And a very good thing, too!\\u2019 I cried.\\n\\n\\u201c\\u2018Yes, but you would not have me leave it a dishonoured man,\\u2019 said he.\\n\\u2018I could not bear the disgrace. I must raise the money in some way, and\\nif you will not let me have it, then I must try other means.\\u2019\\n\\n\\u201cI was very angry, for this was the third demand during the month. \\u2018You\\nshall not have a farthing from me,\\u2019 I cried, on which he bowed and left\\nthe room without another word.\\n\\n\\u201cWhen he was gone I unlocked my bureau, made sure that my treasure was\\nsafe, and locked it again. Then I started to go round the house to see\\nthat all was secure\\u2014a duty which I usually leave to Mary but which I\\nthought it well to perform myself that night. As I came down the stairs\\nI saw Mary herself at the side window of the hall, which she closed and\\nfastened as I approached.\\n\\n\\u201c\\u2018Tell me, dad,\\u2019 said she, looking, I thought, a little disturbed, \\u2018did\\nyou give Lucy, the maid, leave to go out to-night?\\u2019\\n\\n\\u201c\\u2018Certainly not.\\u2019\\n\\n\\u201c\\u2018She came in just now by the back door. I have no doubt that she has\\nonly been to the side gate to see someone, but I think that it is\\nhardly safe and should be stopped.\\u2019\\n\\n\\u201c\\u2018You must speak to her in the morning, or I will if you prefer it. Are\\nyou sure that everything is fastened?\\u2019\\n\\n\\u201c\\u2018Quite sure, dad.\\u2019\\n\\n\\u201c\\u2018Then, good-night.\\u2019 I kissed her and went up to my bedroom again,\\nwhere I was soon asleep.\\n\\n\\u201cI am endeavouring to tell you everything, Mr. Holmes, which may have\\nany bearing upon the case, but I beg that you will question me upon any\\npoint which I do not make clear.\\u201d\\n\\n\\u201cOn the contrary, your statement is singularly lucid.\\u201d\\n\\n\\u201cI come to a part of my story now in which I should wish to be\\nparticularly so. I am not a very heavy sleeper, and the anxiety in my\\nmind tended, no doubt, to make me even less so than usual. About two in\\nthe morning, then, I was awakened by some sound in the house. It had\\nceased ere I was wide awake, but it had left an impression behind it as\\nthough a window had gently closed somewhere. I lay listening with all\\nmy ears. Suddenly, to my horror, there was a distinct sound of\\nfootsteps moving softly in the next room. I slipped out of bed, all\\npalpitating with fear, and peeped round the corner of my dressing-room\\ndoor.\\n\\n\\u201c\\u2018Arthur!\\u2019 I screamed, \\u2018you villain! you thief! How dare you touch that\\ncoronet?\\u2019\\n\\n\\u201cThe gas was half up, as I had left it, and my unhappy boy, dressed\\nonly in his shirt and trousers, was standing beside the light, holding\\nthe coronet in his hands. He appeared to be wrenching at it, or bending\\nit with all his strength. At my cry he dropped it from his grasp and\\nturned as pale as death. I snatched it up and examined it. One of the\\ngold corners, with three of the beryls in it, was missing.\\n\\n\\u201c\\u2018You blackguard!\\u2019 I shouted, beside myself with rage. \\u2018You have\\ndestroyed it! You have dishonoured me forever! Where are the jewels\\nwhich you have stolen?\\u2019\\n\\n\\u201c\\u2018Stolen!\\u2019 he cried.\\n\\n\\u201c\\u2018Yes, thief!\\u2019 I roared, shaking him by the shoulder.\\n\\n\\u201c\\u2018There are none missing. There cannot be any missing,\\u2019 said he.\\n\\n\\u201c\\u2018There are three missing. And you know where they are. Must I call you\\na liar as well as a thief? Did I not see you trying to tear off another\\npiece?\\u2019\\n\\n\\u201c\\u2018You have called me names enough,\\u2019 said he, \\u2018I will not stand it any\\nlonger. I shall not say another word about this business, since you\\nhave chosen to insult me. I will leave your house in the morning and\\nmake my own way in the world.\\u2019\\n\\n\\u201c\\u2018You shall leave it in the hands of the police!\\u2019 I cried half-mad with\\ngrief and rage. \\u2018I shall have this matter probed to the bottom.\\u2019\\n\\n\\u201c\\u2018You shall learn nothing from me,\\u2019 said he with a passion such as I\\nshould not have thought was in his nature. \\u2018If you choose to call the\\npolice, let the police find what they can.\\u2019\\n\\n\\u201cBy this time the whole house was astir, for I had raised my voice in\\nmy anger. Mary was the first to rush into my room, and, at the sight of\\nthe coronet and of Arthur\\u2019s face, she read the whole story and, with a\\nscream, fell down senseless on the ground. I sent the housemaid for the\\npolice and put the investigation into their hands at once. When the\\ninspector and a constable entered the house, Arthur, who had stood\\nsullenly with his arms folded, asked me whether it was my intention to\\ncharge him with theft. I answered that it had ceased to be a private\\nmatter, but had become a public one, since the ruined coronet was\\nnational property. I was determined that the law should have its way in\\neverything.\\n\\n\\u201c\\u2018At least,\\u2019 said he, \\u2018you will not have me arrested at once. It would\\nbe to your advantage as well as mine if I might leave the house for\\nfive minutes.\\u2019\\n\\n\\u201c\\u2018That you may get away, or perhaps that you may conceal what you have\\nstolen,\\u2019 said I. And then, realising the dreadful position in which I\\nwas placed, I implored him to remember that not only my honour but that\\nof one who was far greater than I was at stake; and that he threatened\\nto raise a scandal which would convulse the nation. He might avert it\\nall if he would but tell me what he had done with the three missing\\nstones.\\n\\n\\u201c\\u2018You may as well face the matter,\\u2019 said I; \\u2018you have been caught in\\nthe act, and no confession could make your guilt more heinous. If you\\nbut make such reparation as is in your power, by telling us where the\\nberyls are, all shall be forgiven and forgotten.\\u2019\\n\\n\\u201c\\u2018Keep your forgiveness for those who ask for it,\\u2019 he answered, turning\\naway from me with a sneer. I saw that he was too hardened for any words\\nof mine to influence him. There was but one way for it. I called in the\\ninspector and gave him into custody. A search was made at once not only\\nof his person but of his room and of every portion of the house where\\nhe could possibly have concealed the gems; but no trace of them could\\nbe found, nor would the wretched boy open his mouth for all our\\npersuasions and our threats. This morning he was removed to a cell, and\\nI, after going through all the police formalities, have hurried round\\nto you to implore you to use your skill in unravelling the matter. The\\npolice have openly confessed that they can at present make nothing of\\nit. You may go to any expense which you think necessary. I have already\\noffered a reward of \\u00a3 1000. My God, what shall I do! I have lost my\\nhonour, my gems, and my son in one night. Oh, what shall I do!\\u201d\\n\\nHe put a hand on either side of his head and rocked himself to and fro,\\ndroning to himself like a child whose grief has got beyond words.\\n\\nSherlock Holmes sat silent for some few minutes, with his brows knitted\\nand his eyes fixed upon the fire.\\n\\n\\u201cDo you receive much company?\\u201d he asked.\\n\\n\\u201cNone save my partner with his family and an occasional friend of\\nArthur\\u2019s. Sir George Burnwell has been several times lately. No one\\nelse, I think.\\u201d\\n\\n\\u201cDo you go out much in society?\\u201d\\n\\n\\u201cArthur does. Mary and I stay at home. We neither of us care for it.\\u201d\\n\\n\\u201cThat is unusual in a young girl.\\u201d\\n\\n\\u201cShe is of a quiet nature. Besides, she is not so very young. She is\\nfour-and-twenty.\\u201d\\n\\n\\u201cThis matter, from what you say, seems to have been a shock to her\\nalso.\\u201d\\n\\n\\u201cTerrible! She is even more affected than I.\\u201d\\n\\n\\u201cYou have neither of you any doubt as to your son\\u2019s guilt?\\u201d\\n\\n\\u201cHow can we have when I saw him with my own eyes with the coronet in\\nhis hands.\\u201d\\n\\n\\u201cI hardly consider that a conclusive proof. Was the remainder of the\\ncoronet at all injured?\\u201d\\n\\n\\u201cYes, it was twisted.\\u201d\\n\\n\\u201cDo you not think, then, that he might have been trying to straighten\\nit?\\u201d\\n\\n\\u201cGod bless you! You are doing what you can for him and for me. But it\\nis too heavy a task. What was he doing there at all? If his purpose\\nwere innocent, why did he not say so?\\u201d\\n\\n\\u201cPrecisely. And if it were guilty, why did he not invent a lie? His\\nsilence appears to me to cut both ways. There are several singular\\npoints about the case. What did the police think of the noise which\\nawoke you from your sleep?\\u201d\\n\\n\\u201cThey considered that it might be caused by Arthur\\u2019s closing his\\nbedroom door.\\u201d\\n\\n\\u201cA likely story! As if a man bent on felony would slam his door so as\\nto wake a household. What did they say, then, of the disappearance of\\nthese gems?\\u201d\\n\\n\\u201cThey are still sounding the planking and probing the furniture in the\\nhope of finding them.\\u201d\\n\\n\\u201cHave they thought of looking outside the house?\\u201d\\n\\n\\u201cYes, they have shown extraordinary energy. The whole garden has\\nalready been minutely examined.\\u201d\\n\\n\\u201cNow, my dear sir,\\u201d said Holmes, \\u201cis it not obvious to you now that\\nthis matter really strikes very much deeper than either you or the\\npolice were at first inclined to think? It appeared to you to be a\\nsimple case; to me it seems exceedingly complex. Consider what is\\ninvolved by your theory. You suppose that your son came down from his\\nbed, went, at great risk, to your dressing-room, opened your bureau,\\ntook out your coronet, broke off by main force a small portion of it,\\nwent off to some other place, concealed three gems out of the\\nthirty-nine, with such skill that nobody can find them, and then\\nreturned with the other thirty-six into the room in which he exposed\\nhimself to the greatest danger of being discovered. I ask you now, is\\nsuch a theory tenable?\\u201d\\n\\n\\u201cBut what other is there?\\u201d cried the banker with a gesture of despair.\\n\\u201cIf his motives were innocent, why does he not explain them?\\u201d\\n\\n\\u201cIt is our task to find that out,\\u201d replied Holmes; \\u201cso now, if you\\nplease, Mr. Holder, we will set off for Streatham together, and devote\\nan hour to glancing a little more closely into details.\\u201d\\n\\nMy friend insisted upon my accompanying them in their expedition, which\\nI was eager enough to do, for my curiosity and sympathy were deeply\\nstirred by the story to which we had listened. I confess that the guilt\\nof the banker\\u2019s son appeared to me to be as obvious as it did to his\\nunhappy father, but still I had such faith in Holmes\\u2019 judgment that I\\nfelt that there must be some grounds for hope as long as he was\\ndissatisfied with the accepted explanation. He hardly spoke a word the\\nwhole way out to the southern suburb, but sat with his chin upon his\\nbreast and his hat drawn over his eyes, sunk in the deepest thought.\\nOur client appeared to have taken fresh heart at the little glimpse of\\nhope which had been presented to him, and he even broke into a\\ndesultory chat with me over his business affairs. A short railway\\njourney and a shorter walk brought us to Fairbank, the modest residence\\nof the great financier.\\n\\nFairbank was a good-sized square house of white stone, standing back a\\nlittle from the road. A double carriage-sweep, with a snow-clad lawn,\\nstretched down in front to two large iron gates which closed the\\nentrance. On the right side was a small wooden thicket, which led into\\na narrow path between two neat hedges stretching from the road to the\\nkitchen door, and forming the tradesmen\\u2019s entrance. On the left ran a\\nlane which led to the stables, and was not itself within the grounds at\\nall, being a public, though little used, thoroughfare. Holmes left us\\nstanding at the door and walked slowly all round the house, across the\\nfront, down the tradesmen\\u2019s path, and so round by the garden behind\\ninto the stable lane. So long was he that Mr. Holder and I went into\\nthe dining-room and waited by the fire until he should return. We were\\nsitting there in silence when the door opened and a young lady came in.\\nShe was rather above the middle height, slim, with dark hair and eyes,\\nwhich seemed the darker against the absolute pallor of her skin. I do\\nnot think that I have ever seen such deadly paleness in a woman\\u2019s face.\\nHer lips, too, were bloodless, but her eyes were flushed with crying.\\nAs she swept silently into the room she impressed me with a greater\\nsense of grief than the banker had done in the morning, and it was the\\nmore striking in her as she was evidently a woman of strong character,\\nwith immense capacity for self-restraint. Disregarding my presence, she\\nwent straight to her uncle and passed her hand over his head with a\\nsweet womanly caress.\\n\\n\\u201cYou have given orders that Arthur should be liberated, have you not,\\ndad?\\u201d she asked.\\n\\n\\u201cNo, no, my girl, the matter must be probed to the bottom.\\u201d\\n\\n\\u201cBut I am so sure that he is innocent. You know what woman\\u2019s instincts\\nare. I know that he has done no harm and that you will be sorry for\\nhaving acted so harshly.\\u201d\\n\\n\\u201cWhy is he silent, then, if he is innocent?\\u201d\\n\\n\\u201cWho knows? Perhaps because he was so angry that you should suspect\\nhim.\\u201d\\n\\n\\u201cHow could I help suspecting him, when I actually saw him with the\\ncoronet in his hand?\\u201d\\n\\n\\u201cOh, but he had only picked it up to look at it. Oh, do, do take my\\nword for it that he is innocent. Let the matter drop and say no more.\\nIt is so dreadful to think of our dear Arthur in prison!\\u201d\\n\\n\\u201cI shall never let it drop until the gems are found\\u2014never, Mary! Your\\naffection for Arthur blinds you as to the awful consequences to me. Far\\nfrom hushing the thing up, I have brought a gentleman down from London\\nto inquire more deeply into it.\\u201d\\n\\n\\u201cThis gentleman?\\u201d she asked, facing round to me.\\n\\n\\u201cNo, his friend. He wished us to leave him alone. He is round in the\\nstable lane now.\\u201d\\n\\n\\u201cThe stable lane?\\u201d She raised her dark eyebrows. \\u201cWhat can he hope to\\nfind there? Ah! this, I suppose, is he. I trust, sir, that you will\\nsucceed in proving, what I feel sure is the truth, that my cousin\\nArthur is innocent of this crime.\\u201d\\n\\n\\u201cI fully share your opinion, and I trust, with you, that we may prove\\nit,\\u201d returned Holmes, going back to the mat to knock the snow from his\\nshoes. \\u201cI believe I have the honour of addressing Miss Mary Holder.\\nMight I ask you a question or two?\\u201d\\n\\n\\u201cPray do, sir, if it may help to clear this horrible affair up.\\u201d\\n\\n\\u201cYou heard nothing yourself last night?\\u201d\\n\\n\\u201cNothing, until my uncle here began to speak loudly. I heard that, and\\nI came down.\\u201d\\n\\n\\u201cYou shut up the windows and doors the night before. Did you fasten all\\nthe windows?\\u201d\\n\\n\\u201cYes.\\u201d\\n\\n\\u201cWere they all fastened this morning?\\u201d\\n\\n\\u201cYes.\\u201d\\n\\n\\u201cYou have a maid who has a sweetheart? I think that you remarked to\\nyour uncle last night that she had been out to see him?\\u201d\\n\\n\\u201cYes, and she was the girl who waited in the drawing-room, and who may\\nhave heard uncle\\u2019s remarks about the coronet.\\u201d\\n\\n\\u201cI see. You infer that she may have gone out to tell her sweetheart,\\nand that the two may have planned the robbery.\\u201d\\n\\n\\u201cBut what is the good of all these vague theories,\\u201d cried the banker\\nimpatiently, \\u201cwhen I have told you that I saw Arthur with the coronet\\nin his hands?\\u201d\\n\\n\\u201cWait a little, Mr. Holder. We must come back to that. About this girl,\\nMiss Holder. You saw her return by the kitchen door, I presume?\\u201d\\n\\n\\u201cYes; when I went to see if the door was fastened for the night I met\\nher slipping in. I saw the man, too, in the gloom.\\u201d\\n\\n\\u201cDo you know him?\\u201d\\n\\n\\u201cOh, yes! he is the greengrocer who brings our vegetables round. His\\nname is Francis Prosper.\\u201d\\n\\n\\u201cHe stood,\\u201d said Holmes, \\u201cto the left of the door\\u2014that is to say,\\nfarther up the path than is necessary to reach the door?\\u201d\\n\\n\\u201cYes, he did.\\u201d\\n\\n\\u201cAnd he is a man with a wooden leg?\\u201d\\n\\nSomething like fear sprang up in the young lady\\u2019s expressive black\\neyes. \\u201cWhy, you are like a magician,\\u201d said she. \\u201cHow do you know that?\\u201d\\nShe smiled, but there was no answering smile in Holmes\\u2019 thin, eager\\nface.\\n\\n\\u201cI should be very glad now to go upstairs,\\u201d said he. \\u201cI shall probably\\nwish to go over the outside of the house again. Perhaps I had better\\ntake a look at the lower windows before I go up.\\u201d\\n\\nHe walked swiftly round from one to the other, pausing only at the\\nlarge one which looked from the hall onto the stable lane. This he\\nopened and made a very careful examination of the sill with his\\npowerful magnifying lens. \\u201cNow we shall go upstairs,\\u201d said he at last.\\n\\nThe banker\\u2019s dressing-room was a plainly furnished little chamber, with\\na grey carpet, a large bureau, and a long mirror. Holmes went to the\\nbureau first and looked hard at the lock.\\n\\n\\u201cWhich key was used to open it?\\u201d he asked.\\n\\n\\u201cThat which my son himself indicated\\u2014that of the cupboard of the\\nlumber-room.\\u201d\\n\\n\\u201cHave you it here?\\u201d\\n\\n\\u201cThat is it on the dressing-table.\\u201d\\n\\nSherlock Holmes took it up and opened the bureau.\\n\\n\\u201cIt is a noiseless lock,\\u201d said he. \\u201cIt is no wonder that it did not\\nwake you. This case, I presume, contains the coronet. We must have a\\nlook at it.\\u201d He opened the case, and taking out the diadem he laid it\\nupon the table. It was a magnificent specimen of the jeweller\\u2019s art,\\nand the thirty-six stones were the finest that I have ever seen. At one\\nside of the coronet was a cracked edge, where a corner holding three\\ngems had been torn away.\\n\\n\\u201cNow, Mr. Holder,\\u201d said Holmes, \\u201chere is the corner which corresponds\\nto that which has been so unfortunately lost. Might I beg that you will\\nbreak it off.\\u201d\\n\\nThe banker recoiled in horror. \\u201cI should not dream of trying,\\u201d said he.\\n\\n\\u201cThen I will.\\u201d Holmes suddenly bent his strength upon it, but without\\nresult. \\u201cI feel it give a little,\\u201d said he; \\u201cbut, though I am\\nexceptionally strong in the fingers, it would take me all my time to\\nbreak it. An ordinary man could not do it. Now, what do you think would\\nhappen if I did break it, Mr. Holder? There would be a noise like a\\npistol shot. Do you tell me that all this happened within a few yards\\nof your bed and that you heard nothing of it?\\u201d\\n\\n\\u201cI do not know what to think. It is all dark to me.\\u201d\\n\\n\\u201cBut perhaps it may grow lighter as we go. What do you think, Miss\\nHolder?\\u201d\\n\\n\\u201cI confess that I still share my uncle\\u2019s perplexity.\\u201d\\n\\n\\u201cYour son had no shoes or slippers on when you saw him?\\u201d\\n\\n\\u201cHe had nothing on save only his trousers and shirt.\\u201d\\n\\n\\u201cThank you. We have certainly been favoured with extraordinary luck\\nduring this inquiry, and it will be entirely our own fault if we do not\\nsucceed in clearing the matter up. With your permission, Mr. Holder, I\\nshall now continue my investigations outside.\\u201d\\n\\nHe went alone, at his own request, for he explained that any\\nunnecessary footmarks might make his task more difficult. For an hour\\nor more he was at work, returning at last with his feet heavy with snow\\nand his features as inscrutable as ever.\\n\\n\\u201cI think that I have seen now all that there is to see, Mr. Holder,\\u201d\\nsaid he; \\u201cI can serve you best by returning to my rooms.\\u201d\\n\\n\\u201cBut the gems, Mr. Holmes. Where are they?\\u201d\\n\\n\\u201cI cannot tell.\\u201d\\n\\nThe banker wrung his hands. \\u201cI shall never see them again!\\u201d he cried.\\n\\u201cAnd my son? You give me hopes?\\u201d\\n\\n\\u201cMy opinion is in no way altered.\\u201d\\n\\n\\u201cThen, for God\\u2019s sake, what was this dark business which was acted in\\nmy house last night?\\u201d\\n\\n\\u201cIf you can call upon me at my Baker Street rooms to-morrow morning\\nbetween nine and ten I shall be happy to do what I can to make it\\nclearer. I understand that you give me _carte blanche_ to act for you,\\nprovided only that I get back the gems, and that you place no limit on\\nthe sum I may draw.\\u201d\\n\\n\\u201cI would give my fortune to have them back.\\u201d\\n\\n\\u201cVery good. I shall look into the matter between this and then.\\nGood-bye; it is just possible that I may have to come over here again\\nbefore evening.\\u201d\\n\\nIt was obvious to me that my companion\\u2019s mind was now made up about the\\ncase, although what his conclusions were was more than I could even\\ndimly imagine. Several times during our homeward journey I endeavoured\\nto sound him upon the point, but he always glided away to some other\\ntopic, until at last I gave it over in despair. It was not yet three\\nwhen we found ourselves in our rooms once more. He hurried to his\\nchamber and was down again in a few minutes dressed as a common loafer.\\nWith his collar turned up, his shiny, seedy coat, his red cravat, and\\nhis worn boots, he was a perfect sample of the class.\\n\\n\\u201cI think that this should do,\\u201d said he, glancing into the glass above\\nthe fireplace. \\u201cI only wish that you could come with me, Watson, but I\\nfear that it won\\u2019t do. I may be on the trail in this matter, or I may\\nbe following a will-o\\u2019-the-wisp, but I shall soon know which it is. I\\nhope that I may be back in a few hours.\\u201d He cut a slice of beef from\\nthe joint upon the sideboard, sandwiched it between two rounds of\\nbread, and thrusting this rude meal into his pocket he started off upon\\nhis expedition.\\n\\nI had just finished my tea when he returned, evidently in excellent\\nspirits, swinging an old elastic-sided boot in his hand. He chucked it\\ndown into a corner and helped himself to a cup of tea.\\n\\n\\u201cI only looked in as I passed,\\u201d said he. \\u201cI am going right on.\\u201d\\n\\n\\u201cWhere to?\\u201d\\n\\n\\u201cOh, to the other side of the West End. It may be some time before I\\nget back. Don\\u2019t wait up for me in case I should be late.\\u201d\\n\\n\\u201cHow are you getting on?\\u201d\\n\\n\\u201cOh, so so. Nothing to complain of. I have been out to Streatham since\\nI saw you last, but I did not call at the house. It is a very sweet\\nlittle problem, and I would not have missed it for a good deal.\\nHowever, I must not sit gossiping here, but must get these disreputable\\nclothes off and return to my highly respectable self.\\u201d\\n\\nI could see by his manner that he had stronger reasons for satisfaction\\nthan his words alone would imply. His eyes twinkled, and there was even\\na touch of colour upon his sallow cheeks. He hastened upstairs, and a\\nfew minutes later I heard the slam of the hall door, which told me that\\nhe was off once more upon his congenial hunt.\\n\\nI waited until midnight, but there was no sign of his return, so I\\nretired to my room. It was no uncommon thing for him to be away for\\ndays and nights on end when he was hot upon a scent, so that his\\nlateness caused me no surprise. I do not know at what hour he came in,\\nbut when I came down to breakfast in the morning there he was with a\\ncup of coffee in one hand and the paper in the other, as fresh and trim\\nas possible.\\n\\n\\u201cYou will excuse my beginning without you, Watson,\\u201d said he, \\u201cbut you\\nremember that our client has rather an early appointment this morning.\\u201d\\n\\n\\u201cWhy, it is after nine now,\\u201d I answered. \\u201cI should not be surprised if\\nthat were he. I thought I heard a ring.\\u201d\\n\\nIt was, indeed, our friend the financier. I was shocked by the change\\nwhich had come over him, for his face which was naturally of a broad\\nand massive mould, was now pinched and fallen in, while his hair seemed\\nto me at least a shade whiter. He entered with a weariness and lethargy\\nwhich was even more painful than his violence of the morning before,\\nand he dropped heavily into the armchair which I pushed forward for\\nhim.\\n\\n\\u201cI do not know what I have done to be so severely tried,\\u201d said he.\\n\\u201cOnly two days ago I was a happy and prosperous man, without a care in\\nthe world. Now I am left to a lonely and dishonoured age. One sorrow\\ncomes close upon the heels of another. My niece, Mary, has deserted\\nme.\\u201d\\n\\n\\u201cDeserted you?\\u201d\\n\\n\\u201cYes. Her bed this morning had not been slept in, her room was empty,\\nand a note for me lay upon the hall table. I had said to her last\\nnight, in sorrow and not in anger, that if she had married my boy all\\nmight have been well with him. Perhaps it was thoughtless of me to say\\nso. It is to that remark that she refers in this note:\\n\\n    \\u201c\\u2018MY DEAREST UNCLE,\\u2014I feel that I have brought trouble upon you,\\n    and that if I had acted differently this terrible misfortune might\\n    never have occurred. I cannot, with this thought in my mind, ever\\n    again be happy under your roof, and I feel that I must leave you\\n    forever. Do not worry about my future, for that is provided for;\\n    and, above all, do not search for me, for it will be fruitless\\n    labour and an ill-service to me. In life or in death, I am ever\\n    your loving,\\n\\n\\n    \\u201c\\u2018MARY.\\u2019\\n\\n\\n\\u201cWhat could she mean by that note, Mr. Holmes? Do you think it points\\nto suicide?\\u201d\\n\\n\\u201cNo, no, nothing of the kind. It is perhaps the best possible solution.\\nI trust, Mr. Holder, that you are nearing the end of your troubles.\\u201d\\n\\n\\u201cHa! You say so! You have heard something, Mr. Holmes; you have learned\\nsomething! Where are the gems?\\u201d\\n\\n\\u201cYou would not think \\u00a3 1000 apiece an excessive sum for them?\\u201d\\n\\n\\u201cI would pay ten.\\u201d\\n\\n\\u201cThat would be unnecessary. Three thousand will cover the matter. And\\nthere is a little reward, I fancy. Have you your cheque-book? Here is a\\npen. Better make it out for \\u00a3 4000.\\u201d\\n\\nWith a dazed face the banker made out the required check. Holmes walked\\nover to his desk, took out a little triangular piece of gold with three\\ngems in it, and threw it down upon the table.\\n\\nWith a shriek of joy our client clutched it up.\\n\\n\\u201cYou have it!\\u201d he gasped. \\u201cI am saved! I am saved!\\u201d\\n\\nThe reaction of joy was as passionate as his grief had been, and he\\nhugged his recovered gems to his bosom.\\n\\n\\u201cThere is one other thing you owe, Mr. Holder,\\u201d said Sherlock Holmes\\nrather sternly.\\n\\n\\u201cOwe!\\u201d He caught up a pen. \\u201cName the sum, and I will pay it.\\u201d\\n\\n\\u201cNo, the debt is not to me. You owe a very humble apology to that noble\\nlad, your son, who has carried himself in this matter as I should be\\nproud to see my own son do, should I ever chance to have one.\\u201d\\n\\n\\u201cThen it was not Arthur who took them?\\u201d\\n\\n\\u201cI told you yesterday, and I repeat to-day, that it was not.\\u201d\\n\\n\\u201cYou are sure of it! Then let us hurry to him at once to let him know\\nthat the truth is known.\\u201d\\n\\n\\u201cHe knows it already. When I had cleared it all up I had an interview\\nwith him, and finding that he would not tell me the story, I told it to\\nhim, on which he had to confess that I was right and to add the very\\nfew details which were not yet quite clear to me. Your news of this\\nmorning, however, may open his lips.\\u201d\\n\\n\\u201cFor Heaven\\u2019s sake, tell me, then, what is this extraordinary mystery!\\u201d\\n\\n\\u201cI will do so, and I will show you the steps by which I reached it. And\\nlet me say to you, first, that which it is hardest for me to say and\\nfor you to hear: there has been an understanding between Sir George\\nBurnwell and your niece Mary. They have now fled together.\\u201d\\n\\n\\u201cMy Mary? Impossible!\\u201d\\n\\n\\u201cIt is unfortunately more than possible; it is certain. Neither you nor\\nyour son knew the true character of this man when you admitted him into\\nyour family circle. He is one of the most dangerous men in England\\u2014a\\nruined gambler, an absolutely desperate villain, a man without heart or\\nconscience. Your niece knew nothing of such men. When he breathed his\\nvows to her, as he had done to a hundred before her, she flattered\\nherself that she alone had touched his heart. The devil knows best what\\nhe said, but at least she became his tool and was in the habit of\\nseeing him nearly every evening.\\u201d\\n\\n\\u201cI cannot, and I will not, believe it!\\u201d cried the banker with an ashen\\nface.\\n\\n\\u201cI will tell you, then, what occurred in your house last night. Your\\nniece, when you had, as she thought, gone to your room, slipped down\\nand talked to her lover through the window which leads into the stable\\nlane. His footmarks had pressed right through the snow, so long had he\\nstood there. She told him of the coronet. His wicked lust for gold\\nkindled at the news, and he bent her to his will. I have no doubt that\\nshe loved you, but there are women in whom the love of a lover\\nextinguishes all other loves, and I think that she must have been one.\\nShe had hardly listened to his instructions when she saw you coming\\ndownstairs, on which she closed the window rapidly and told you about\\none of the servants\\u2019 escapade with her wooden-legged lover, which was\\nall perfectly true.\\n\\n\\u201cYour boy, Arthur, went to bed after his interview with you but he\\nslept badly on account of his uneasiness about his club debts. In the\\nmiddle of the night he heard a soft tread pass his door, so he rose\\nand, looking out, was surprised to see his cousin walking very\\nstealthily along the passage until she disappeared into your\\ndressing-room. Petrified with astonishment, the lad slipped on some\\nclothes and waited there in the dark to see what would come of this\\nstrange affair. Presently she emerged from the room again, and in the\\nlight of the passage-lamp your son saw that she carried the precious\\ncoronet in her hands. She passed down the stairs, and he, thrilling\\nwith horror, ran along and slipped behind the curtain near your door,\\nwhence he could see what passed in the hall beneath. He saw her\\nstealthily open the window, hand out the coronet to someone in the\\ngloom, and then closing it once more hurry back to her room, passing\\nquite close to where he stood hid behind the curtain.\\n\\n\\u201cAs long as she was on the scene he could not take any action without a\\nhorrible exposure of the woman whom he loved. But the instant that she\\nwas gone he realised how crushing a misfortune this would be for you,\\nand how all-important it was to set it right. He rushed down, just as\\nhe was, in his bare feet, opened the window, sprang out into the snow,\\nand ran down the lane, where he could see a dark figure in the\\nmoonlight. Sir George Burnwell tried to get away, but Arthur caught\\nhim, and there was a struggle between them, your lad tugging at one\\nside of the coronet, and his opponent at the other. In the scuffle,\\nyour son struck Sir George and cut him over the eye. Then something\\nsuddenly snapped, and your son, finding that he had the coronet in his\\nhands, rushed back, closed the window, ascended to your room, and had\\njust observed that the coronet had been twisted in the struggle and was\\nendeavouring to straighten it when you appeared upon the scene.\\u201d\\n\\n\\u201cIs it possible?\\u201d gasped the banker.\\n\\n\\u201cYou then roused his anger by calling him names at a moment when he\\nfelt that he had deserved your warmest thanks. He could not explain the\\ntrue state of affairs without betraying one who certainly deserved\\nlittle enough consideration at his hands. He took the more chivalrous\\nview, however, and preserved her secret.\\u201d\\n\\n\\u201cAnd that was why she shrieked and fainted when she saw the coronet,\\u201d\\ncried Mr. Holder. \\u201cOh, my God! what a blind fool I have been! And his\\nasking to be allowed to go out for five minutes! The dear fellow wanted\\nto see if the missing piece were at the scene of the struggle. How\\ncruelly I have misjudged him!\\u201d\\n\\n\\u201cWhen I arrived at the house,\\u201d continued Holmes, \\u201cI at once went very\\ncarefully round it to observe if there were any traces in the snow\\nwhich might help me. I knew that none had fallen since the evening\\nbefore, and also that there had been a strong frost to preserve\\nimpressions. I passed along the tradesmen\\u2019s path, but found it all\\ntrampled down and indistinguishable. Just beyond it, however, at the\\nfar side of the kitchen door, a woman had stood and talked with a man,\\nwhose round impressions on one side showed that he had a wooden leg. I\\ncould even tell that they had been disturbed, for the woman had run\\nback swiftly to the door, as was shown by the deep toe and light heel\\nmarks, while Wooden-leg had waited a little, and then had gone away. I\\nthought at the time that this might be the maid and her sweetheart, of\\nwhom you had already spoken to me, and inquiry showed it was so. I\\npassed round the garden without seeing anything more than random\\ntracks, which I took to be the police; but when I got into the stable\\nlane a very long and complex story was written in the snow in front of\\nme.\\n\\n\\u201cThere was a double line of tracks of a booted man, and a second double\\nline which I saw with delight belonged to a man with naked feet. I was\\nat once convinced from what you had told me that the latter was your\\nson. The first had walked both ways, but the other had run swiftly, and\\nas his tread was marked in places over the depression of the boot, it\\nwas obvious that he had passed after the other. I followed them up and\\nfound they led to the hall window, where Boots had worn all the snow\\naway while waiting. Then I walked to the other end, which was a hundred\\nyards or more down the lane. I saw where Boots had faced round, where\\nthe snow was cut up as though there had been a struggle, and, finally,\\nwhere a few drops of blood had fallen, to show me that I was not\\nmistaken. Boots had then run down the lane, and another little smudge\\nof blood showed that it was he who had been hurt. When he came to the\\nhigh road at the other end, I found that the pavement had been cleared,\\nso there was an end to that clue.\\n\\n\\u201cOn entering the house, however, I examined, as you remember, the sill\\nand framework of the hall window with my lens, and I could at once see\\nthat someone had passed out. I could distinguish the outline of an\\ninstep where the wet foot had been placed in coming in. I was then\\nbeginning to be able to form an opinion as to what had occurred. A man\\nhad waited outside the window; someone had brought the gems; the deed\\nhad been overseen by your son; he had pursued the thief; had struggled\\nwith him; they had each tugged at the coronet, their united strength\\ncausing injuries which neither alone could have effected. He had\\nreturned with the prize, but had left a fragment in the grasp of his\\nopponent. So far I was clear. The question now was, who was the man, and\\nwho was it brought him the coronet?\\n\\n\\u201cIt is an old maxim of mine that when you have excluded the impossible,\\nwhatever remains, however improbable, must be the truth. Now, I knew\\nthat it was not you who had brought it down, so there only remained\\nyour niece and the maids. But if it were the maids, why should your son\\nallow himself to be accused in their place? There could be no possible\\nreason. As he loved his cousin, however, there was an excellent\\nexplanation why he should retain her secret\\u2014the more so as the secret\\nwas a disgraceful one. When I remembered that you had seen her at that\\nwindow, and how she had fainted on seeing the coronet again, my\\nconjecture became a certainty.\\n\\n\\u201cAnd who could it be who was her confederate? A lover evidently, for\\nwho else could outweigh the love and gratitude which she must feel to\\nyou? I knew that you went out little, and that your circle of friends\\nwas a very limited one. But among them was Sir George Burnwell. I had\\nheard of him before as being a man of evil reputation among women. It\\nmust have been he who wore those boots and retained the missing gems.\\nEven though he knew that Arthur had discovered him, he might still\\nflatter himself that he was safe, for the lad could not say a word\\nwithout compromising his own family.\\n\\n\\u201cWell, your own good sense will suggest what measures I took next. I\\nwent in the shape of a loafer to Sir George\\u2019s house, managed to pick up\\nan acquaintance with his valet, learned that his master had cut his\\nhead the night before, and, finally, at the expense of six shillings,\\nmade all sure by buying a pair of his cast-off shoes. With these I\\njourneyed down to Streatham and saw that they exactly fitted the\\ntracks.\\u201d\\n\\n\\u201cI saw an ill-dressed vagabond in the lane yesterday evening,\\u201d said Mr.\\nHolder.\\n\\n\\u201cPrecisely. It was I. I found that I had my man, so I came home and\\nchanged my clothes. It was a delicate part which I had to play then,\\nfor I saw that a prosecution must be avoided to avert scandal, and I\\nknew that so astute a villain would see that our hands were tied in the\\nmatter. I went and saw him. At first, of course, he denied everything.\\nBut when I gave him every particular that had occurred, he tried to\\nbluster and took down a life-preserver from the wall. I knew my man,\\nhowever, and I clapped a pistol to his head before he could strike.\\nThen he became a little more reasonable. I told him that we would give\\nhim a price for the stones he held\\u2014\\u00a3 1000 apiece. That brought out the\\nfirst signs of grief that he had shown. \\u2018Why, dash it all!\\u2019 said he,\\n\\u2018I\\u2019ve let them go at six hundred for the three!\\u2019 I soon managed to get\\nthe address of the receiver who had them, on promising him that there\\nwould be no prosecution. Off I set to him, and after much chaffering I\\ngot our stones at \\u00a3 1000 apiece. Then I looked in upon your son, told\\nhim that all was right, and eventually got to my bed about two o\\u2019clock,\\nafter what I may call a really hard day\\u2019s work.\\u201d\\n\\n\\u201cA day which has saved England from a great public scandal,\\u201d said the\\nbanker, rising. \\u201cSir, I cannot find words to thank you, but you shall\\nnot find me ungrateful for what you have done. Your skill has indeed\\nexceeded all that I have heard of it. And now I must fly to my dear boy\\nto apologise to him for the wrong which I have done him. As to what you\\ntell me of poor Mary, it goes to my very heart. Not even your skill can\\ninform me where she is now.\\u201d\\n\\n\\u201cI think that we may safely say,\\u201d returned Holmes, \\u201cthat she is\\nwherever Sir George Burnwell is. It is equally certain, too, that\\nwhatever her sins are, they will soon receive a more than sufficient\\npunishment.\\u201d\",\n          \"THE ADVENTURE OF THE NOBLE BACHELOR\\nThe Lord St. Simon marriage, and its curious termination, have long\\nceased to be a subject of interest in those exalted circles in which\\nthe unfortunate bridegroom moves. Fresh scandals have eclipsed it, and\\ntheir more piquant details have drawn the gossips away from this\\nfour-year-old drama. As I have reason to believe, however, that the\\nfull facts have never been revealed to the general public, and as my\\nfriend Sherlock Holmes had a considerable share in clearing the matter\\nup, I feel that no memoir of him would be complete without some little\\nsketch of this remarkable episode.\\n\\nIt was a few weeks before my own marriage, during the days when I was\\nstill sharing rooms with Holmes in Baker Street, that he came home from\\nan afternoon stroll to find a letter on the table waiting for him. I\\nhad remained indoors all day, for the weather had taken a sudden turn\\nto rain, with high autumnal winds, and the jezail bullet which I had\\nbrought back in one of my limbs as a relic of my Afghan campaign\\nthrobbed with dull persistence. With my body in one easy-chair and my\\nlegs upon another, I had surrounded myself with a cloud of newspapers\\nuntil at last, saturated with the news of the day, I tossed them all\\naside and lay listless, watching the huge crest and monogram upon the\\nenvelope upon the table and wondering lazily who my friend\\u2019s noble\\ncorrespondent could be.\\n\\n\\u201cHere is a very fashionable epistle,\\u201d I remarked as he entered. \\u201cYour\\nmorning letters, if I remember right, were from a fish-monger and a\\ntide-waiter.\\u201d\\n\\n\\u201cYes, my correspondence has certainly the charm of variety,\\u201d he\\nanswered, smiling, \\u201cand the humbler are usually the more interesting.\\nThis looks like one of those unwelcome social summonses which call upon\\na man either to be bored or to lie.\\u201d\\n\\nHe broke the seal and glanced over the contents.\\n\\n\\u201cOh, come, it may prove to be something of interest, after all.\\u201d\\n\\n\\u201cNot social, then?\\u201d\\n\\n\\u201cNo, distinctly professional.\\u201d\\n\\n\\u201cAnd from a noble client?\\u201d\\n\\n\\u201cOne of the highest in England.\\u201d\\n\\n\\u201cMy dear fellow, I congratulate you.\\u201d\\n\\n\\u201cI assure you, Watson, without affectation, that the status of my\\nclient is a matter of less moment to me than the interest of his case.\\nIt is just possible, however, that that also may not be wanting in this\\nnew investigation. You have been reading the papers diligently of late,\\nhave you not?\\u201d\\n\\n\\u201cIt looks like it,\\u201d said I ruefully, pointing to a huge bundle in the\\ncorner. \\u201cI have had nothing else to do.\\u201d\\n\\n\\u201cIt is fortunate, for you will perhaps be able to post me up. I read\\nnothing except the criminal news and the agony column. The latter is\\nalways instructive. But if you have followed recent events so closely\\nyou must have read about Lord St. Simon and his wedding?\\u201d\\n\\n\\u201cOh, yes, with the deepest interest.\\u201d\\n\\n\\u201cThat is well. The letter which I hold in my hand is from Lord St.\\nSimon. I will read it to you, and in return you must turn over these\\npapers and let me have whatever bears upon the matter. This is what he\\nsays:\\n\\n    \\u201c\\u2018MY DEAR MR. SHERLOCK HOLMES,\\u2014Lord Backwater tells me that I may\\n    place implicit reliance upon your judgment and discretion. I have\\n    determined, therefore, to call upon you and to consult you in\\n    reference to the very painful event which has occurred in\\n    connection with my wedding. Mr. Lestrade, of Scotland Yard, is\\n    acting already in the matter, but he assures me that he sees no\\n    objection to your co-operation, and that he even thinks that it\\n    might be of some assistance. I will call at four o\\u2019clock in the\\n    afternoon, and, should you have any other engagement at that time,\\n    I hope that you will postpone it, as this matter is of paramount\\n    importance. Yours faithfully,\\n\\n\\n    \\u201c\\u2018ROBERT ST. SIMON.\\u2019\\n\\n\\n\\u201cIt is dated from Grosvenor Mansions, written with a quill pen, and the\\nnoble lord has had the misfortune to get a smear of ink upon the outer\\nside of his right little finger,\\u201d remarked Holmes as he folded up the\\nepistle.\\n\\n\\u201cHe says four o\\u2019clock. It is three now. He will be here in an hour.\\u201d\\n\\n\\u201cThen I have just time, with your assistance, to get clear upon the\\nsubject. Turn over those papers and arrange the extracts in their order\\nof time, while I take a glance as to who our client is.\\u201d He picked a\\nred-covered volume from a line of books of reference beside the\\nmantelpiece. \\u201cHere he is,\\u201d said he, sitting down and flattening it out\\nupon his knee. \\u201c\\u2018Lord Robert Walsingham de Vere St. Simon, second son\\nof the Duke of Balmoral.\\u2019 Hum! \\u2018Arms: Azure, three caltrops in chief\\nover a fess sable. Born in 1846.\\u2019 He\\u2019s forty-one years of age, which is\\nmature for marriage. Was Under-Secretary for the colonies in a late\\nadministration. The Duke, his father, was at one time Secretary for\\nForeign Affairs. They inherit Plantagenet blood by direct descent, and\\nTudor on the distaff side. Ha! Well, there is nothing very instructive\\nin all this. I think that I must turn to you Watson, for something more\\nsolid.\\u201d\\n\\n\\u201cI have very little difficulty in finding what I want,\\u201d said I, \\u201cfor\\nthe facts are quite recent, and the matter struck me as remarkable. I\\nfeared to refer them to you, however, as I knew that you had an inquiry\\non hand and that you disliked the intrusion of other matters.\\u201d\\n\\n\\u201cOh, you mean the little problem of the Grosvenor Square furniture van.\\nThat is quite cleared up now\\u2014though, indeed, it was obvious from the\\nfirst. Pray give me the results of your newspaper selections.\\u201d\\n\\n\\u201cHere is the first notice which I can find. It is in the personal\\ncolumn of the _Morning Post_, and dates, as you see, some weeks back:\\n\\u2018A marriage has been arranged,\\u2019 it says, \\u2018and will, if rumour is\\ncorrect, very shortly take place, between Lord Robert St. Simon, second\\nson of the Duke of Balmoral, and Miss Hatty Doran, the only daughter of\\nAloysius Doran. Esq., of San Francisco, Cal., U.S.A.\\u2019 That is all.\\u201d\\n\\n\\u201cTerse and to the point,\\u201d remarked Holmes, stretching his long, thin\\nlegs towards the fire.\\n\\n\\u201cThere was a paragraph amplifying this in one of the society papers of\\nthe same week. Ah, here it is: \\u2018There will soon be a call for\\nprotection in the marriage  market, for the present free-trade\\nprinciple appears to tell heavily against our home product. One by one\\nthe management of the noble houses of Great Britain is passing into the\\nhands of our fair cousins from across the Atlantic. An important\\naddition has been made during the last week to the list of the prizes\\nwhich have been borne away by these charming invaders. Lord St. Simon,\\nwho has shown himself for over twenty years proof against the little\\ngod\\u2019s arrows, has now definitely announced his approaching marriage\\nwith Miss Hatty Doran, the fascinating daughter of a California\\nmillionaire. Miss Doran, whose graceful figure and striking face\\nattracted much attention at the Westbury House festivities, is an only\\nchild, and it is currently reported that her dowry will run to\\nconsiderably over the six figures, with expectancies for the future. As\\nit is an open secret that the Duke of Balmoral has been compelled to\\nsell his pictures within the last few years, and as Lord St. Simon has\\nno property of his own save the small estate of Birchmoor, it is\\nobvious that the Californian heiress is not the only gainer by an\\nalliance which will enable her to make the easy and common transition\\nfrom a Republican lady to a British peeress.\\u2019\\u201d\\n\\n\\u201cAnything else?\\u201d asked Holmes, yawning.\\n\\n\\u201cOh, yes; plenty. Then there is another note in the _Morning Post_ to\\nsay that the marriage would be an absolutely quiet one, that it would\\nbe at St. George\\u2019s, Hanover Square, that only half a dozen intimate\\nfriends would be invited, and that the party would return to the\\nfurnished house at Lancaster Gate which has been taken by Mr. Aloysius\\nDoran. Two days later\\u2014that is, on Wednesday last\\u2014there is a curt\\nannouncement that the wedding had taken place, and that the honeymoon\\nwould be passed at Lord Backwater\\u2019s place, near Petersfield. Those are\\nall the notices which appeared before the disappearance of the bride.\\u201d\\n\\n\\u201cBefore the what?\\u201d asked Holmes with a start.\\n\\n\\u201cThe vanishing of the lady.\\u201d\\n\\n\\u201cWhen did she vanish, then?\\u201d\\n\\n\\u201cAt the wedding breakfast.\\u201d\\n\\n\\u201cIndeed. This is more interesting than it promised to be; quite\\ndramatic, in fact.\\u201d\\n\\n\\u201cYes; it struck me as being a little out of the common.\\u201d\\n\\n\\u201cThey often vanish before the ceremony, and occasionally during the\\nhoneymoon; but I cannot call to mind anything quite so prompt as this.\\nPray let me have the details.\\u201d\\n\\n\\u201cI warn you that they are very incomplete.\\u201d\\n\\n\\u201cPerhaps we may make them less so.\\u201d\\n\\n\\u201cSuch as they are, they are set forth in a single article of a morning\\npaper of yesterday, which I will read to you. It is headed, \\u2018Singular\\nOccurrence at a Fashionable Wedding\\u2019:\\n\\n\\u201c\\u2018The family of Lord Robert St. Simon has been thrown into the greatest\\nconsternation by the strange and painful episodes which have taken\\nplace in connection with his wedding. The ceremony, as shortly\\nannounced in the papers of yesterday, occurred on the previous morning;\\nbut it is only now that it has been possible to confirm the strange\\nrumours which have been so persistently floating about. In spite of the\\nattempts of the friends to hush the matter up, so much public attention\\nhas now been drawn to it that no good purpose can be served by\\naffecting to disregard what is a common subject for conversation.\\n\\n\\u201c\\u2018The ceremony, which was performed at St. George\\u2019s, Hanover Square,\\nwas a very quiet one, no one being present save the father of the\\nbride, Mr. Aloysius Doran, the Duchess of Balmoral, Lord Backwater,\\nLord Eustace and Lady Clara St. Simon (the younger brother and sister\\nof the bridegroom), and Lady Alicia Whittington. The whole party\\nproceeded afterwards to the house of Mr. Aloysius Doran, at Lancaster\\nGate, where breakfast had been prepared. It appears that some little\\ntrouble was caused by a woman, whose name has not been ascertained, who\\nendeavoured to force her way into the house after the bridal party,\\nalleging that she had some claim upon Lord St. Simon. It was only after\\na painful and prolonged scene that she was ejected by the butler and\\nthe footman. The bride, who had fortunately entered the house before\\nthis unpleasant interruption, had sat down to breakfast with the rest,\\nwhen she complained of a sudden indisposition and retired to her room.\\nHer prolonged absence having caused some comment, her father followed\\nher, but learned from her maid that she had only come up to her chamber\\nfor an instant, caught up an ulster and bonnet, and hurried down to the\\npassage. One of the footmen declared that he had seen a lady leave the\\nhouse thus apparelled, but had refused to credit that it was his\\nmistress, believing her to be with the company. On ascertaining that\\nhis daughter had disappeared, Mr. Aloysius Doran, in conjunction with\\nthe bridegroom, instantly put themselves in communication with the\\npolice, and very energetic inquiries are being made, which will\\nprobably result in a speedy clearing up of this very singular business.\\nUp to a late hour last night, however, nothing had transpired as to the\\nwhereabouts of the missing lady. There are rumours of foul play in the\\nmatter, and it is said that the police have caused the arrest of the\\nwoman who had caused the original disturbance, in the belief that, from\\njealousy or some other motive, she may have been concerned in the\\nstrange disappearance of the bride.\\u2019\\u201d\\n\\n\\u201cAnd is that all?\\u201d\\n\\n\\u201cOnly one little item in another of the morning papers, but it is a\\nsuggestive one.\\u201d\\n\\n\\u201cAnd it is\\u2014\\u201d\\n\\n\\u201cThat Miss Flora Millar, the lady who had caused the disturbance, has\\nactually been arrested. It appears that she was formerly a _danseuse_\\nat the Allegro, and that she has known the bridegroom for some years.\\nThere are no further particulars, and the whole case is in your hands\\nnow\\u2014so far as it has been set forth in the public press.\\u201d\\n\\n\\u201cAnd an exceedingly interesting case it appears to be. I would not have\\nmissed it for worlds. But there is a ring at the bell, Watson, and as\\nthe clock makes it a few minutes after four, I have no doubt that this\\nwill prove to be our noble client. Do not dream of going, Watson, for I\\nvery much prefer having a witness, if only as a check to my own\\nmemory.\\u201d\\n\\n\\u201cLord Robert St. Simon,\\u201d announced our page-boy, throwing open the\\ndoor. A gentleman entered, with a pleasant, cultured face, high-nosed\\nand pale, with something perhaps of petulance about the mouth, and with\\nthe steady, well-opened eye of a man whose pleasant lot it had ever\\nbeen to command and to be obeyed. His manner was brisk, and yet his\\ngeneral appearance gave an undue impression of age, for he had a slight\\nforward stoop and a little bend of the knees as he walked. His hair,\\ntoo, as he swept off his very curly-brimmed hat, was grizzled round the\\nedges and thin upon the top. As to his dress, it was careful to the\\nverge of foppishness, with high collar, black frock-coat, white\\nwaistcoat, yellow gloves, patent-leather shoes, and light-coloured\\ngaiters. He advanced slowly into the room, turning his head from left\\nto right, and swinging in his right hand the cord which held his golden\\neyeglasses.\\n\\n\\u201cGood-day, Lord St. Simon,\\u201d said Holmes, rising and bowing. \\u201cPray take\\nthe basket-chair. This is my friend and colleague, Dr. Watson. Draw up\\na little to the fire, and we will talk this matter over.\\u201d\\n\\n\\u201cA most painful matter to me, as you can most readily imagine, Mr.\\nHolmes. I have been cut to the quick. I understand that you have\\nalready managed several delicate cases of this sort, sir, though I\\npresume that they were hardly from the same class of society.\\u201d\\n\\n\\u201cNo, I am descending.\\u201d\\n\\n\\u201cI beg pardon.\\u201d\\n\\n\\u201cMy last client of the sort was a king.\\u201d\\n\\n\\u201cOh, really! I had no idea. And which king?\\u201d\\n\\n\\u201cThe King of Scandinavia.\\u201d\\n\\n\\u201cWhat! Had he lost his wife?\\u201d\\n\\n\\u201cYou can understand,\\u201d said Holmes suavely, \\u201cthat I extend to the\\naffairs of my other clients the same secrecy which I promise to you in\\nyours.\\u201d\\n\\n\\u201cOf course! Very right! very right! I\\u2019m sure I beg pardon. As to my own\\ncase, I am ready to give you any information which may assist you in\\nforming an opinion.\\u201d\\n\\n\\u201cThank you. I have already learned all that is in the public prints,\\nnothing more. I presume that I may take it as correct\\u2014this article, for\\nexample, as to the disappearance of the bride.\\u201d\\n\\nLord St. Simon glanced over it. \\u201cYes, it is correct, as far as it\\ngoes.\\u201d\\n\\n\\u201cBut it needs a great deal of supplementing before anyone could offer\\nan opinion. I think that I may arrive at my facts most directly by\\nquestioning you.\\u201d\\n\\n\\u201cPray do so.\\u201d\\n\\n\\u201cWhen did you first meet Miss Hatty Doran?\\u201d\\n\\n\\u201cIn San Francisco, a year ago.\\u201d\\n\\n\\u201cYou were travelling in the States?\\u201d\\n\\n\\u201cYes.\\u201d\\n\\n\\u201cDid you become engaged then?\\u201d\\n\\n\\u201cNo.\\u201d\\n\\n\\u201cBut you were on a friendly footing?\\u201d\\n\\n\\u201cI was amused by her society, and she could see that I was amused.\\u201d\\n\\n\\u201cHer father is very rich?\\u201d\\n\\n\\u201cHe is said to be the richest man on the Pacific slope.\\u201d\\n\\n\\u201cAnd how did he make his money?\\u201d\\n\\n\\u201cIn mining. He had nothing a few years ago. Then he struck gold,\\ninvested it, and came up by leaps and bounds.\\u201d\\n\\n\\u201cNow, what is your own impression as to the young lady\\u2019s\\u2014your wife\\u2019s\\ncharacter?\\u201d\\n\\nThe nobleman swung his glasses a little faster and stared down into the\\nfire. \\u201cYou see, Mr. Holmes,\\u201d said he, \\u201cmy wife was twenty before her\\nfather became a rich man. During that time she ran free in a mining\\ncamp and wandered through woods or mountains, so that her education has\\ncome from Nature rather than from the schoolmaster. She is what we call\\nin England a tomboy, with a strong nature, wild and free, unfettered by\\nany sort of traditions. She is impetuous\\u2014volcanic, I was about to say.\\nShe is swift in making up her mind and fearless in carrying out her\\nresolutions. On the other hand, I would not have given her the name\\nwhich I have the honour to bear\\u201d\\u2014he gave a little stately cough\\u2014\\u201chad I\\nnot thought her to be at bottom a noble woman. I believe that she is\\ncapable of heroic self-sacrifice and that anything dishonourable would\\nbe repugnant to her.\\u201d\\n\\n\\u201cHave you her photograph?\\u201d\\n\\n\\u201cI brought this with me.\\u201d He opened a locket and showed us the full\\nface of a very lovely woman. It was not a photograph but an ivory\\nminiature, and the artist had brought out the full effect of the\\nlustrous black hair, the large dark eyes, and the exquisite mouth.\\nHolmes gazed long and earnestly at it. Then he closed the locket and\\nhanded it back to Lord St. Simon.\\n\\n\\u201cThe young lady came to London, then, and you renewed your\\nacquaintance?\\u201d\\n\\n\\u201cYes, her father brought her over for this last London season. I met\\nher several times, became engaged to her, and have now married her.\\u201d\\n\\n\\u201cShe brought, I understand, a considerable dowry?\\u201d\\n\\n\\u201cA fair dowry. Not more than is usual in my family.\\u201d\\n\\n\\u201cAnd this, of course, remains to you, since the marriage is a _fait\\naccompli_?\\u201d\\n\\n\\u201cI really have made no inquiries on the subject.\\u201d\\n\\n\\u201cVery naturally not. Did you see Miss Doran on the day before the\\nwedding?\\u201d\\n\\n\\u201cYes.\\u201d\\n\\n\\u201cWas she in good spirits?\\u201d\\n\\n\\u201cNever better. She kept talking of what we should do in our future\\nlives.\\u201d\\n\\n\\u201cIndeed! That is very interesting. And on the morning of the wedding?\\u201d\\n\\n\\u201cShe was as bright as possible\\u2014at least until after the ceremony.\\u201d\\n\\n\\u201cAnd did you observe any change in her then?\\u201d\\n\\n\\u201cWell, to tell the truth, I saw then the first signs that I had ever\\nseen that her temper was just a little sharp. The incident however, was\\ntoo trivial to relate and can have no possible bearing upon the case.\\u201d\\n\\n\\u201cPray let us have it, for all that.\\u201d\\n\\n\\u201cOh, it is childish. She dropped her bouquet as we went towards the\\nvestry. She was passing the front pew at the time, and it fell over\\ninto the pew. There was a moment\\u2019s delay, but the gentleman in the pew\\nhanded it up to her again, and it did not appear to be the worse for\\nthe fall. Yet when I spoke to her of the matter, she answered me\\nabruptly; and in the carriage, on our way home, she seemed absurdly\\nagitated over this trifling cause.\\u201d\\n\\n\\u201cIndeed! You say that there was a gentleman in the pew. Some of the\\ngeneral public were present, then?\\u201d\\n\\n\\u201cOh, yes. It is impossible to exclude them when the church is open.\\u201d\\n\\n\\u201cThis gentleman was not one of your wife\\u2019s friends?\\u201d\\n\\n\\u201cNo, no; I call him a gentleman by courtesy, but he was quite a\\ncommon-looking person. I hardly noticed his appearance. But really I\\nthink that we are wandering rather far from the point.\\u201d\\n\\n\\u201cLady St. Simon, then, returned from the wedding in a less cheerful\\nframe of mind than she had gone to it. What did she do on re-entering\\nher father\\u2019s house?\\u201d\\n\\n\\u201cI saw her in conversation with her maid.\\u201d\\n\\n\\u201cAnd who is her maid?\\u201d\\n\\n\\u201cAlice is her name. She is an American and came from California with\\nher.\\u201d\\n\\n\\u201cA confidential servant?\\u201d\\n\\n\\u201cA little too much so. It seemed to me that her mistress allowed her to\\ntake great liberties. Still, of course, in America they look upon these\\nthings in a different way.\\u201d\\n\\n\\u201cHow long did she speak to this Alice?\\u201d\\n\\n\\u201cOh, a few minutes. I had something else to think of.\\u201d\\n\\n\\u201cYou did not overhear what they said?\\u201d\\n\\n\\u201cLady St. Simon said something about \\u2018jumping a claim.\\u2019 She was\\naccustomed to use slang of the kind. I have no idea what she meant.\\u201d\\n\\n\\u201cAmerican slang is very expressive sometimes. And what did your wife do\\nwhen she finished speaking to her maid?\\u201d\\n\\n\\u201cShe walked into the breakfast-room.\\u201d\\n\\n\\u201cOn your arm?\\u201d\\n\\n\\u201cNo, alone. She was very independent in little matters like that. Then,\\nafter we had sat down for ten minutes or so, she rose hurriedly,\\nmuttered some words of apology, and left the room. She never came\\nback.\\u201d\\n\\n\\u201cBut this maid, Alice, as I understand, deposes that she went to her\\nroom, covered her bride\\u2019s dress with a long ulster, put on a bonnet,\\nand went out.\\u201d\\n\\n\\u201cQuite so. And she was afterwards seen walking into Hyde Park in\\ncompany with Flora Millar, a woman who is now in custody, and who had\\nalready made a disturbance at Mr. Doran\\u2019s house that morning.\\u201d\\n\\n\\u201cAh, yes. I should like a few particulars as to this young lady, and\\nyour relations to her.\\u201d\\n\\nLord St. Simon shrugged his shoulders and raised his eyebrows. \\u201cWe have\\nbeen on a friendly footing for some years\\u2014I may say on a _very_\\nfriendly footing. She used to be at the Allegro. I have not treated her\\nungenerously, and she had no just cause of complaint against me, but\\nyou know what women are, Mr. Holmes. Flora was a dear little thing, but\\nexceedingly hot-headed and devotedly attached to me. She wrote me\\ndreadful letters when she heard that I was about to be married, and, to\\ntell the truth, the reason why I had the marriage celebrated so quietly\\nwas that I feared lest there might be a scandal in the church. She came\\nto Mr. Doran\\u2019s door just after we returned, and she endeavoured to push\\nher way in, uttering very abusive expressions towards my wife, and even\\nthreatening her, but I had foreseen the possibility of something of the\\nsort, and I had two police fellows there in private clothes, who soon\\npushed her out again. She was quiet when she saw that there was no good\\nin making a row.\\u201d\\n\\n\\u201cDid your wife hear all this?\\u201d\\n\\n\\u201cNo, thank goodness, she did not.\\u201d\\n\\n\\u201cAnd she was seen walking with this very woman afterwards?\\u201d\\n\\n\\u201cYes. That is what Mr. Lestrade, of Scotland Yard, looks upon as so\\nserious. It is thought that Flora decoyed my wife out and laid some\\nterrible trap for her.\\u201d\\n\\n\\u201cWell, it is a possible supposition.\\u201d\\n\\n\\u201cYou think so, too?\\u201d\\n\\n\\u201cI did not say a probable one. But you do not yourself look upon this\\nas likely?\\u201d\\n\\n\\u201cI do not think Flora would hurt a fly.\\u201d\\n\\n\\u201cStill, jealousy is a strange transformer of characters. Pray what is\\nyour own theory as to what took place?\\u201d\\n\\n\\u201cWell, really, I came to seek a theory, not to propound one. I have\\ngiven you all the facts. Since you ask me, however, I may say that it\\nhas occurred to me as possible that the excitement of this affair, the\\nconsciousness that she had made so immense a social stride, had the\\neffect of causing some little nervous disturbance in my wife.\\u201d\\n\\n\\u201cIn short, that she had become suddenly deranged?\\u201d\\n\\n\\u201cWell, really, when I consider that she has turned her back\\u2014I will not\\nsay upon me, but upon so much that many have aspired to without\\nsuccess\\u2014I can hardly explain it in any other fashion.\\u201d\\n\\n\\u201cWell, certainly that is also a conceivable hypothesis,\\u201d said Holmes,\\nsmiling. \\u201cAnd now, Lord St. Simon, I think that I have nearly all my\\ndata. May I ask whether you were seated at the breakfast-table so that\\nyou could see out of the window?\\u201d\\n\\n\\u201cWe could see the other side of the road and the Park.\\u201d\\n\\n\\u201cQuite so. Then I do not think that I need to detain you longer. I\\nshall communicate with you.\\u201d\\n\\n\\u201cShould you be fortunate enough to solve this problem,\\u201d said our\\nclient, rising.\\n\\n\\u201cI have solved it.\\u201d\\n\\n\\u201cEh? What was that?\\u201d\\n\\n\\u201cI say that I have solved it.\\u201d\\n\\n\\u201cWhere, then, is my wife?\\u201d\\n\\n\\u201cThat is a detail which I shall speedily supply.\\u201d\\n\\nLord St. Simon shook his head. \\u201cI am afraid that it will take wiser\\nheads than yours or mine,\\u201d he remarked, and bowing in a stately,\\nold-fashioned manner he departed.\\n\\n\\u201cIt is very good of Lord St. Simon to honour my head by putting it on a\\nlevel with his own,\\u201d said Sherlock Holmes, laughing. \\u201cI think that I\\nshall have a whisky and soda and a cigar after all this\\ncross-questioning. I had formed my conclusions as to the case before\\nour client came into the room.\\u201d\\n\\n\\u201cMy dear Holmes!\\u201d\\n\\n\\u201cI have notes of several similar cases, though none, as I remarked\\nbefore, which were quite as prompt. My whole examination served to turn\\nmy conjecture into a certainty. Circumstantial evidence is occasionally\\nvery convincing, as when you find a trout in the milk, to quote\\nThoreau\\u2019s example.\\u201d\\n\\n\\u201cBut I have heard all that you have heard.\\u201d\\n\\n\\u201cWithout, however, the knowledge of pre-existing cases which serves me\\nso well. There was a parallel instance in Aberdeen some years back, and\\nsomething on very much the same lines at Munich the year after the\\nFranco-Prussian War. It is one of these cases\\u2014but, hullo, here is\\nLestrade! Good-afternoon, Lestrade! You will find an extra tumbler upon\\nthe sideboard, and there are cigars in the box.\\u201d\\n\\nThe official detective was attired in a pea-jacket and cravat, which\\ngave him a decidedly nautical appearance, and he carried a black canvas\\nbag in his hand. With a short greeting he seated himself and lit the\\ncigar which had been offered to him.\\n\\n\\u201cWhat\\u2019s up, then?\\u201d asked Holmes with a twinkle in his eye. \\u201cYou look\\ndissatisfied.\\u201d\\n\\n\\u201cAnd I feel dissatisfied. It is this infernal St. Simon marriage case.\\nI can make neither head nor tail of the business.\\u201d\\n\\n\\u201cReally! You surprise me.\\u201d\\n\\n\\u201cWho ever heard of such a mixed affair? Every clue seems to slip\\nthrough my fingers. I have been at work upon it all day.\\u201d\\n\\n\\u201cAnd very wet it seems to have made you,\\u201d said Holmes laying his hand\\nupon the arm of the pea-jacket.\\n\\n\\u201cYes, I have been dragging the Serpentine.\\u201d\\n\\n\\u201cIn Heaven\\u2019s name, what for?\\u201d\\n\\n\\u201cIn search of the body of Lady St. Simon.\\u201d\\n\\nSherlock Holmes leaned back in his chair and laughed heartily.\\n\\n\\u201cHave you dragged the basin of Trafalgar Square fountain?\\u201d he asked.\\n\\n\\u201cWhy? What do you mean?\\u201d\\n\\n\\u201cBecause you have just as good a chance of finding this lady in the one\\nas in the other.\\u201d\\n\\nLestrade shot an angry glance at my companion. \\u201cI suppose you know all\\nabout it,\\u201d he snarled.\\n\\n\\u201cWell, I have only just heard the facts, but my mind is made up.\\u201d\\n\\n\\u201cOh, indeed! Then you think that the Serpentine plays no part in the\\nmatter?\\u201d\\n\\n\\u201cI think it very unlikely.\\u201d\\n\\n\\u201cThen perhaps you will kindly explain how it is that we found this in\\nit?\\u201d He opened his bag as he spoke, and tumbled onto the floor a\\nwedding-dress of watered silk, a pair of white satin shoes and a\\nbride\\u2019s wreath and veil, all discoloured and soaked in water. \\u201cThere,\\u201d\\nsaid he, putting a new wedding-ring upon the top of the pile. \\u201cThere is\\na little nut for you to crack, Master Holmes.\\u201d\\n\\n\\u201cOh, indeed!\\u201d said my friend, blowing blue rings into the air. \\u201cYou\\ndragged them from the Serpentine?\\u201d\\n\\n\\u201cNo. They were found floating near the margin by a park-keeper. They\\nhave been identified as her clothes, and it seemed to me that if the\\nclothes were there the body would not be far off.\\u201d\\n\\n\\u201cBy the same brilliant reasoning, every man\\u2019s body is to be found in\\nthe neighbourhood of his wardrobe. And pray what did you hope to arrive\\nat through this?\\u201d\\n\\n\\u201cAt some evidence implicating Flora Millar in the disappearance.\\u201d\\n\\n\\u201cI am afraid that you will find it difficult.\\u201d\\n\\n\\u201cAre you, indeed, now?\\u201d cried Lestrade with some bitterness. \\u201cI am\\nafraid, Holmes, that you are not very practical with your deductions\\nand your inferences. You have made two blunders in as many minutes.\\nThis dress does implicate Miss Flora Millar.\\u201d\\n\\n\\u201cAnd how?\\u201d\\n\\n\\u201cIn the dress is a pocket. In the pocket is a card-case. In the\\ncard-case is a note. And here is the very note.\\u201d He slapped it down\\nupon the table in front of him. \\u201cListen to this: \\u2018You will see me when\\nall is ready. Come at once. F. H. M.\\u2019 Now my theory all along has been\\nthat Lady St. Simon was decoyed away by Flora Millar, and that she,\\nwith confederates, no doubt, was responsible for her disappearance.\\nHere, signed with her initials, is the very note which was no doubt\\nquietly slipped into her hand at the door and which lured her within\\ntheir reach.\\u201d\\n\\n\\u201cVery good, Lestrade,\\u201d said Holmes, laughing. \\u201cYou really are very fine\\nindeed. Let me see it.\\u201d He took up the paper in a listless way, but his\\nattention instantly became riveted, and he gave a little cry of\\nsatisfaction. \\u201cThis is indeed important,\\u201d said he.\\n\\n\\u201cHa! you find it so?\\u201d\\n\\n\\u201cExtremely so. I congratulate you warmly.\\u201d\\n\\nLestrade rose in his triumph and bent his head to look. \\u201cWhy,\\u201d he\\nshrieked, \\u201cyou\\u2019re looking at the wrong side!\\u201d\\n\\n\\u201cOn the contrary, this is the right side.\\u201d\\n\\n\\u201cThe right side? You\\u2019re mad! Here is the note written in pencil over\\nhere.\\u201d\\n\\n\\u201cAnd over here is what appears to be the fragment of a hotel bill,\\nwhich interests me deeply.\\u201d\\n\\n\\u201cThere\\u2019s nothing in it. I looked at it before,\\u201d said Lestrade. \\u201c\\u2018Oct.\\n4th, rooms 8_s_., breakfast 2_s_. 6_d_., cocktail 1_s_., lunch 2_s_.\\n6_d_., glass sherry, 8_d_.\\u2019 I see nothing in that.\\u201d\\n\\n\\u201cVery likely not. It is most important, all the same. As to the note,\\nit is important also, or at least the initials are, so I congratulate\\nyou again.\\u201d\\n\\n\\u201cI\\u2019ve wasted time enough,\\u201d said Lestrade, rising. \\u201cI believe in hard\\nwork and not in sitting by the fire spinning fine theories. Good-day,\\nMr. Holmes, and we shall see which gets to the bottom of the matter\\nfirst.\\u201d He gathered up the garments, thrust them into the bag, and made\\nfor the door.\\n\\n\\u201cJust one hint to you, Lestrade,\\u201d drawled Holmes before his rival\\nvanished; \\u201cI will tell you the true solution of the matter. Lady St.\\nSimon is a myth. There is not, and there never has been, any such\\nperson.\\u201d\\n\\nLestrade looked sadly at my companion. Then he turned to me, tapped his\\nforehead three times, shook his head solemnly, and hurried away.\\n\\nHe had hardly shut the door behind him when Holmes rose to put on his\\novercoat. \\u201cThere is something in what the fellow says about outdoor\\nwork,\\u201d he remarked, \\u201cso I think, Watson, that I must leave you to your\\npapers for a little.\\u201d\\n\\nIt was after five o\\u2019clock when Sherlock Holmes left me, but I had no\\ntime to be lonely, for within an hour there arrived a confectioner\\u2019s\\nman with a very large flat box. This he unpacked with the help of a\\nyouth whom he had brought with him, and presently, to my very great\\nastonishment, a quite epicurean little cold supper began to be laid out\\nupon our humble lodging-house mahogany. There were a couple of brace of\\ncold woodcock, a pheasant, a _p\\u00e2t\\u00e9 de foie gras_ pie with a group of\\nancient and cobwebby bottles. Having laid out all these luxuries, my\\ntwo visitors vanished away, like the genii of the Arabian Nights, with\\nno explanation save that the things had been paid for and were ordered\\nto this address.\\n\\nJust before nine o\\u2019clock Sherlock Holmes stepped briskly into the room.\\nHis features were gravely set, but there was a light in his eye which\\nmade me think that he had not been disappointed in his conclusions.\\n\\n\\u201cThey have laid the supper, then,\\u201d he said, rubbing his hands.\\n\\n\\u201cYou seem to expect company. They have laid for five.\\u201d\\n\\n\\u201cYes, I fancy we may have some company dropping in,\\u201d said he. \\u201cI am\\nsurprised that Lord St. Simon has not already arrived. Ha! I fancy that\\nI hear his step now upon the stairs.\\u201d\\n\\nIt was indeed our visitor of the afternoon who came bustling in,\\ndangling his glasses more vigorously than ever, and with a very\\nperturbed expression upon his aristocratic features.\\n\\n\\u201cMy messenger reached you, then?\\u201d asked Holmes.\\n\\n\\u201cYes, and I confess that the contents startled me beyond measure. Have\\nyou good authority for what you say?\\u201d\\n\\n\\u201cThe best possible.\\u201d\\n\\nLord St. Simon sank into a chair and passed his hand over his forehead.\\n\\n\\u201cWhat will the Duke say,\\u201d he murmured, \\u201cwhen he hears that one of the\\nfamily has been subjected to such humiliation?\\u201d\\n\\n\\u201cIt is the purest accident. I cannot allow that there is any\\nhumiliation.\\u201d\\n\\n\\u201cAh, you look on these things from another standpoint.\\u201d\\n\\n\\u201cI fail to see that anyone is to blame. I can hardly see how the lady\\ncould have acted otherwise, though her abrupt method of doing it was\\nundoubtedly to be regretted. Having no mother, she had no one to advise\\nher at such a crisis.\\u201d\\n\\n\\u201cIt was a slight, sir, a public slight,\\u201d said Lord St. Simon, tapping\\nhis fingers upon the table.\\n\\n\\u201cYou must make allowance for this poor girl, placed in so unprecedented\\na position.\\u201d\\n\\n\\u201cI will make no allowance. I am very angry indeed, and I have been\\nshamefully used.\\u201d\\n\\n\\u201cI think that I heard a ring,\\u201d said Holmes. \\u201cYes, there are steps on\\nthe landing. If I cannot persuade you to take a lenient view of the\\nmatter, Lord St. Simon, I have brought an advocate here who may be more\\nsuccessful.\\u201d He opened the door and ushered in a lady and gentleman.\\n\\u201cLord St. Simon,\\u201d said he \\u201callow me to introduce you to Mr. and Mrs.\\nFrancis Hay Moulton. The lady, I think, you have already met.\\u201d\\n\\nAt the sight of these newcomers our client had sprung from his seat and\\nstood very erect, with his eyes cast down and his hand thrust into the\\nbreast of his frock-coat, a picture of offended dignity. The lady had\\ntaken a quick step forward and had held out her hand to him, but he\\nstill refused to raise his eyes. It was as well for his resolution,\\nperhaps, for her pleading face was one which it was hard to resist.\\n\\n\\u201cYou\\u2019re angry, Robert,\\u201d said she. \\u201cWell, I guess you have every cause\\nto be.\\u201d\\n\\n\\u201cPray make no apology to me,\\u201d said Lord St. Simon bitterly.\\n\\n\\u201cOh, yes, I know that I have treated you real bad and that I should\\nhave spoken to you before I went; but I was kind of rattled, and from\\nthe time when I saw Frank here again I just didn\\u2019t know what I was\\ndoing or saying. I only wonder I didn\\u2019t fall down and do a faint right\\nthere before the altar.\\u201d\\n\\n\\u201cPerhaps, Mrs. Moulton, you would like my friend and me to leave the\\nroom while you explain this matter?\\u201d\\n\\n\\u201cIf I may give an opinion,\\u201d remarked the strange gentleman, \\u201cwe\\u2019ve had\\njust a little too much secrecy over this business already. For my part,\\nI should like all Europe and America to hear the rights of it.\\u201d He was\\na small, wiry, sunburnt man, clean-shaven, with a sharp face and alert\\nmanner.\\n\\n\\u201cThen I\\u2019ll tell our story right away,\\u201d said the lady. \\u201cFrank here and I\\nmet in \\u201984, in McQuire\\u2019s camp, near the Rockies, where Pa was working a\\nclaim. We were engaged to each other, Frank and I; but then one day\\nfather struck a rich pocket and made a pile, while poor Frank here had\\na claim that petered out and came to nothing. The richer Pa grew the\\npoorer was Frank; so at last Pa wouldn\\u2019t hear of our engagement lasting\\nany longer, and he took me away to \\u2019Frisco. Frank wouldn\\u2019t throw up his\\nhand, though; so he followed me there, and he saw me without Pa knowing\\nanything about it. It would only have made him mad to know, so we just\\nfixed it all up for ourselves. Frank said that he would go and make his\\npile, too, and never come back to claim me until he had as much as Pa.\\nSo then I promised to wait for him to the end of time and pledged\\nmyself not to marry anyone else while he lived. \\u2018Why shouldn\\u2019t we be\\nmarried right away, then,\\u2019 said he, \\u2018and then I will feel sure of you;\\nand I won\\u2019t claim to be your husband until I come back?\\u2019 Well, we\\ntalked it over, and he had fixed it all up so nicely, with a clergyman\\nall ready in waiting, that we just did it right there; and then Frank\\nwent off to seek his fortune, and I went back to Pa.\\n\\n\\u201cThe next I heard of Frank was that he was in Montana, and then he went\\nprospecting in Arizona, and then I heard of him from New Mexico. After\\nthat came a long newspaper story about how a miners\\u2019 camp had been\\nattacked by Apache Indians, and there was my Frank\\u2019s name among the\\nkilled. I fainted dead away, and I was very sick for months after. Pa\\nthought I had a decline and took me to half the doctors in \\u2019Frisco. Not\\na word of news came for a year and more, so that I never doubted that\\nFrank was really dead. Then Lord St. Simon came to \\u2019Frisco, and we came\\nto London, and a marriage was arranged, and Pa was very pleased, but I\\nfelt all the time that no man on this earth would ever take the place\\nin my heart that had been given to my poor Frank.\\n\\n\\u201cStill, if I had married Lord St. Simon, of course I\\u2019d have done my\\nduty by him. We can\\u2019t command our love, but we can our actions. I went\\nto the altar with him with the intention to make him just as good a\\nwife as it was in me to be. But you may imagine what I felt when, just\\nas I came to the altar rails, I glanced back and saw Frank standing and\\nlooking at me out of the first pew. I thought it was his ghost at\\nfirst; but when I looked again there he was still, with a kind of\\nquestion in his eyes, as if to ask me whether I were glad or sorry to\\nsee him. I wonder I didn\\u2019t drop. I know that everything was turning\\nround, and the words of the clergyman were just like the buzz of a bee\\nin my ear. I didn\\u2019t know what to do. Should I stop the service and make\\na scene in the church? I glanced at him again, and he seemed to know\\nwhat I was thinking, for he raised his finger to his lips to tell me to\\nbe still. Then I saw him scribble on a piece of paper, and I knew that\\nhe was writing me a note. As I passed his pew on the way out I dropped\\nmy bouquet over to him, and he slipped the note into my hand when he\\nreturned me the flowers. It was only a line asking me to join him when\\nhe made the sign to me to do so. Of course I never doubted for a moment\\nthat my first duty was now to him, and I determined to do just whatever\\nhe might direct.\\n\\n\\u201cWhen I got back I told my maid, who had known him in California, and\\nhad always been his friend. I ordered her to say nothing, but to get a\\nfew things packed and my ulster ready. I know I ought to have spoken to\\nLord St. Simon, but it was dreadful hard before his mother and all\\nthose great people. I just made up my mind to run away and explain\\nafterwards. I hadn\\u2019t been at the table ten minutes before I saw Frank\\nout of the window at the other side of the road. He beckoned to me and\\nthen began walking into the Park. I slipped out, put on my things, and\\nfollowed him. Some woman came talking something or other about Lord St.\\nSimon to me\\u2014seemed to me from the little I heard as if he had a little\\nsecret of his own before marriage also\\u2014but I managed to get away from\\nher and soon overtook Frank. We got into a cab together, and away we\\ndrove to some lodgings he had taken in Gordon Square, and that was my\\ntrue wedding after all those years of waiting. Frank had been a\\nprisoner among the Apaches, had escaped, came on to \\u2019Frisco, found that\\nI had given him up for dead and had gone to England, followed me there,\\nand had come upon me at last on the very morning of my second wedding.\\u201d\\n\\n\\u201cI saw it in a paper,\\u201d explained the American. \\u201cIt gave the name and\\nthe church but not where the lady lived.\\u201d\\n\\n\\u201cThen we had a talk as to what we should do, and Frank was all for\\nopenness, but I was so ashamed of it all that I felt as if I should\\nlike to vanish away and never see any of them again\\u2014just sending a line\\nto Pa, perhaps, to show him that I was alive. It was awful to me to\\nthink of all those lords and ladies sitting round that breakfast-table\\nand waiting for me to come back. So Frank took my wedding-clothes and\\nthings and made a bundle of them, so that I should not be traced, and\\ndropped them away somewhere where no one could find them. It is likely\\nthat we should have gone on to Paris to-morrow, only that this good\\ngentleman, Mr. Holmes, came round to us this evening, though how he\\nfound us is more than I can think, and he showed us very clearly and\\nkindly that I was wrong and that Frank was right, and that we should be\\nputting ourselves in the wrong if we were so secret. Then he offered to\\ngive us a chance of talking to Lord St. Simon alone, and so we came\\nright away round to his rooms at once. Now, Robert, you have heard it\\nall, and I am very sorry if I have given you pain, and I hope that you\\ndo not think very meanly of me.\\u201d\\n\\nLord St. Simon had by no means relaxed his rigid attitude, but had\\nlistened with a frowning brow and a compressed lip to this long\\nnarrative.\\n\\n\\u201cExcuse me,\\u201d he said, \\u201cbut it is not my custom to discuss my most\\nintimate personal affairs in this public manner.\\u201d\\n\\n\\u201cThen you won\\u2019t forgive me? You won\\u2019t shake hands before I go?\\u201d\\n\\n\\u201cOh, certainly, if it would give you any pleasure.\\u201d He put out his hand\\nand coldly grasped that which she extended to him.\\n\\n\\u201cI had hoped,\\u201d suggested Holmes, \\u201cthat you would have joined us in a\\nfriendly supper.\\u201d\\n\\n\\u201cI think that there you ask a little too much,\\u201d responded his Lordship.\\n\\u201cI may be forced to acquiesce in these recent developments, but I can\\nhardly be expected to make merry over them. I think that with your\\npermission I will now wish you all a very good-night.\\u201d He included us\\nall in a sweeping bow and stalked out of the room.\\n\\n\\u201cThen I trust that you at least will honour me with your company,\\u201d said\\nSherlock Holmes. \\u201cIt is always a joy to meet an American, Mr. Moulton,\\nfor I am one of those who believe that the folly of a monarch and the\\nblundering of a minister in far-gone years will not prevent our\\nchildren from being some day citizens of the same world-wide country\\nunder a flag which shall be a quartering of the Union Jack with the\\nStars and Stripes.\\u201d\\n\\n\\u201cThe case has been an interesting one,\\u201d remarked Holmes when our\\nvisitors had left us, \\u201cbecause it serves to show very clearly how\\nsimple the explanation may be of an affair which at first sight seems\\nto be almost inexplicable. Nothing could be more natural than the\\nsequence of events as narrated by this lady, and nothing stranger than\\nthe result when viewed, for instance, by Mr. Lestrade of Scotland\\nYard.\\u201d\\n\\n\\u201cYou were not yourself at fault at all, then?\\u201d\\n\\n\\u201cFrom the first, two facts were very obvious to me, the one that the\\nlady had been quite willing to undergo the wedding ceremony, the other\\nthat she had repented of it within a few minutes of returning home.\\nObviously something had occurred during the morning, then, to cause her\\nto change her mind. What could that something be? She could not have\\nspoken to anyone when she was out, for she had been in the company of\\nthe bridegroom. Had she seen someone, then? If she had, it must be\\nsomeone from America because she had spent so short a time in this\\ncountry that she could hardly have allowed anyone to acquire so deep an\\ninfluence over her that the mere sight of him would induce her to\\nchange her plans so completely. You see we have already arrived, by a\\nprocess of exclusion, at the idea that she might have seen an American.\\nThen who could this American be, and why should he possess so much\\ninfluence over her? It might be a lover; it might be a husband. Her\\nyoung womanhood had, I knew, been spent in rough scenes and under\\nstrange conditions. So far I had got before I ever heard Lord St.\\nSimon\\u2019s narrative. When he told us of a man in a pew, of the change in\\nthe bride\\u2019s manner, of so transparent a device for obtaining a note as\\nthe dropping of a bouquet, of her resort to her confidential maid, and\\nof her very significant allusion to claim-jumping\\u2014which in miners\\u2019\\nparlance means taking possession of that which another person has a\\nprior claim to\\u2014the whole situation became absolutely clear. She had\\ngone off with a man, and the man was either a lover or was a previous\\nhusband\\u2014the chances being in favour of the latter.\\u201d\\n\\n\\u201cAnd how in the world did you find them?\\u201d\\n\\n\\u201cIt might have been difficult, but friend Lestrade held information in\\nhis hands the value of which he did not himself know. The initials\\nwere, of course, of the highest importance, but more valuable still was\\nit to know that within a week he had settled his bill at one of the\\nmost select London hotels.\\u201d\\n\\n\\u201cHow did you deduce the select?\\u201d\\n\\n\\u201cBy the select prices. Eight shillings for a bed and eightpence for a\\nglass of sherry pointed to one of the most expensive hotels. There are\\nnot many in London which charge at that rate. In the second one which I\\nvisited in Northumberland Avenue, I learned by an inspection of the\\nbook that Francis H. Moulton, an American gentleman, had left only the\\nday before, and on looking over the entries against him, I came upon\\nthe very items which I had seen in the duplicate bill. His letters were\\nto be forwarded to 226 Gordon Square; so thither I travelled, and being\\nfortunate enough to find the loving couple at home, I ventured to give\\nthem some paternal advice and to point out to them that it would be\\nbetter in every way that they should make their position a little\\nclearer both to the general public and to Lord St. Simon in particular.\\nI invited them to meet him here, and, as you see, I made him keep the\\nappointment.\\u201d\\n\\n\\u201cBut with no very good result,\\u201d I remarked. \\u201cHis conduct was certainly\\nnot very gracious.\\u201d\\n\\n\\u201cAh, Watson,\\u201d said Holmes, smiling, \\u201cperhaps you would not be very\\ngracious either, if, after all the trouble of wooing and wedding, you\\nfound yourself deprived in an instant of wife and of fortune. I think\\nthat we may judge Lord St. Simon very mercifully and thank our stars\\nthat we are never likely to find ourselves in the same position. Draw\\nyour chair up and hand me my violin, for the only problem we have still\\nto solve is how to while away these bleak autumnal evenings.\\u201d\",\n          \"A SCANDAL IN BOHEMIA\\nTo Sherlock Holmes she is always _the_ woman. I have seldom heard him\\nmention her under any other name. In his eyes she eclipses and\\npredominates the whole of her sex. It was not that he felt any emotion\\nakin to love for Irene Adler. All emotions, and that one particularly,\\nwere abhorrent to his cold, precise but admirably balanced mind. He\\nwas, I take it, the most perfect reasoning and observing machine that\\nthe world has seen, but as a lover he would have placed himself in a\\nfalse position. He never spoke of the softer passions, save with a gibe\\nand a sneer. They were admirable things for the observer\\u2014excellent for\\ndrawing the veil from men\\u2019s motives and actions. But for the trained\\nreasoner to admit such intrusions into his own delicate and finely\\nadjusted temperament was to introduce a distracting factor which might\\nthrow a doubt upon all his mental results. Grit in a sensitive\\ninstrument, or a crack in one of his own high-power lenses, would not\\nbe more disturbing than a strong emotion in a nature such as his. And\\nyet there was but one woman to him, and that woman was the late Irene\\nAdler, of dubious and questionable memory.\\n\\nI had seen little of Holmes lately. My marriage had drifted us away\\nfrom each other. My own complete happiness, and the home-centred\\ninterests which rise up around the man who first finds himself master\\nof his own establishment, were sufficient to absorb all my attention,\\nwhile Holmes, who loathed every form of society with his whole Bohemian\\nsoul, remained in our lodgings in Baker Street, buried among his old\\nbooks, and alternating from week to week between cocaine and ambition,\\nthe drowsiness of the drug, and the fierce energy of his own keen\\nnature. He was still, as ever, deeply attracted by the study of crime,\\nand occupied his immense faculties and extraordinary powers of\\nobservation in following out those clues, and clearing up those\\nmysteries which had been abandoned as hopeless by the official police.\\nFrom time to time I heard some vague account of his doings: of his\\nsummons to Odessa in the case of the Trepoff murder, of his clearing up\\nof the singular tragedy of the Atkinson brothers at Trincomalee, and\\nfinally of the mission which he had accomplished so delicately and\\nsuccessfully for the reigning family of Holland. Beyond these signs of\\nhis activity, however, which I merely shared with all the readers of\\nthe daily press, I knew little of my former friend and companion.\\n\\nOne night\\u2014it was on the twentieth of March, 1888\\u2014I was returning from a\\njourney to a patient (for I had now returned to civil practice), when\\nmy way led me through Baker Street. As I passed the well-remembered\\ndoor, which must always be associated in my mind with my wooing, and\\nwith the dark incidents of the Study in Scarlet, I was seized with a\\nkeen desire to see Holmes again, and to know how he was employing his\\nextraordinary powers. His rooms were brilliantly lit, and, even as I\\nlooked up, I saw his tall, spare figure pass twice in a dark silhouette\\nagainst the blind. He was pacing the room swiftly, eagerly, with his\\nhead sunk upon his chest and his hands clasped behind him. To me, who\\nknew his every mood and habit, his attitude and manner told their own\\nstory. He was at work again. He had risen out of his drug-created\\ndreams and was hot upon the scent of some new problem. I rang the bell\\nand was shown up to the chamber which had formerly been in part my own.\\n\\nHis manner was not effusive. It seldom was; but he was glad, I think,\\nto see me. With hardly a word spoken, but with a kindly eye, he waved\\nme to an armchair, threw across his case of cigars, and indicated a\\nspirit case and a gasogene in the corner. Then he stood before the fire\\nand looked me over in his singular introspective fashion.\\n\\n\\u201cWedlock suits you,\\u201d he remarked. \\u201cI think, Watson, that you have put\\non seven and a half pounds since I saw you.\\u201d\\n\\n\\u201cSeven!\\u201d I answered.\\n\\n\\u201cIndeed, I should have thought a little more. Just a trifle more, I\\nfancy, Watson. And in practice again, I observe. You did not tell me\\nthat you intended to go into harness.\\u201d\\n\\n\\u201cThen, how do you know?\\u201d\\n\\n\\u201cI see it, I deduce it. How do I know that you have been getting\\nyourself very wet lately, and that you have a most clumsy and careless\\nservant girl?\\u201d\\n\\n\\u201cMy dear Holmes,\\u201d said I, \\u201cthis is too much. You would certainly have\\nbeen burned, had you lived a few centuries ago. It is true that I had a\\ncountry walk on Thursday and came home in a dreadful mess, but as I\\nhave changed my clothes I can\\u2019t imagine how you deduce it. As to Mary\\nJane, she is incorrigible, and my wife has given her notice, but there,\\nagain, I fail to see how you work it out.\\u201d\\n\\nHe chuckled to himself and rubbed his long, nervous hands together.\\n\\n\\u201cIt is simplicity itself,\\u201d said he; \\u201cmy eyes tell me that on the inside\\nof your left shoe, just where the firelight strikes it, the leather is\\nscored by six almost parallel cuts. Obviously they have been caused by\\nsomeone who has very carelessly scraped round the edges of the sole in\\norder to remove crusted mud from it. Hence, you see, my double\\ndeduction that you had been out in vile weather, and that you had a\\nparticularly malignant boot-slitting specimen of the London slavey. As\\nto your practice, if a gentleman walks into my rooms smelling of\\niodoform, with a black mark of nitrate of silver upon his right\\nforefinger, and a bulge on the right side of his top-hat to show where\\nhe has secreted his stethoscope, I must be dull, indeed, if I do not\\npronounce him to be an active member of the medical profession.\\u201d\\n\\nI could not help laughing at the ease with which he explained his\\nprocess of deduction. \\u201cWhen I hear you give your reasons,\\u201d I remarked,\\n\\u201cthe thing always appears to me to be so ridiculously simple that I\\ncould easily do it myself, though at each successive instance of your\\nreasoning I am baffled until you explain your process. And yet I\\nbelieve that my eyes are as good as yours.\\u201d\\n\\n\\u201cQuite so,\\u201d he answered, lighting a cigarette, and throwing himself\\ndown into an armchair. \\u201cYou see, but you do not observe. The\\ndistinction is clear. For example, you have frequently seen the steps\\nwhich lead up from the hall to this room.\\u201d\\n\\n\\u201cFrequently.\\u201d\\n\\n\\u201cHow often?\\u201d\\n\\n\\u201cWell, some hundreds of times.\\u201d\\n\\n\\u201cThen how many are there?\\u201d\\n\\n\\u201cHow many? I don\\u2019t know.\\u201d\\n\\n\\u201cQuite so! You have not observed. And yet you have seen. That is just\\nmy point. Now, I know that there are seventeen steps, because I have\\nboth seen and observed. By the way, since you are interested in these\\nlittle problems, and since you are good enough to chronicle one or two\\nof my trifling experiences, you may be interested in this.\\u201d He threw\\nover a sheet of thick, pink-tinted notepaper which had been lying open\\nupon the table. \\u201cIt came by the last post,\\u201d said he. \\u201cRead it aloud.\\u201d\\n\\nThe note was undated, and without either signature or address.\\n\\n\\u201cThere will call upon you to-night, at a quarter to eight o\\u2019clock,\\u201d it\\nsaid, \\u201ca gentleman who desires to consult you upon a matter of the very\\ndeepest moment. Your recent services to one of the royal houses of\\nEurope have shown that you are one who may safely be trusted with\\nmatters which are of an importance which can hardly be exaggerated.\\nThis account of you we have from all quarters received. Be in your\\nchamber then at that hour, and do not take it amiss if your visitor\\nwear a mask.\\u201d\\n\\n\\u201cThis is indeed a mystery,\\u201d I remarked. \\u201cWhat do you imagine that it\\nmeans?\\u201d\\n\\n\\u201cI have no data yet. It is a capital mistake to theorise before one has\\ndata. Insensibly one begins to twist facts to suit theories, instead of\\ntheories to suit facts. But the note itself. What do you deduce from\\nit?\\u201d\\n\\nI carefully examined the writing, and the paper upon which it was\\nwritten.\\n\\n\\u201cThe man who wrote it was presumably well to do,\\u201d I remarked,\\nendeavouring to imitate my companion\\u2019s processes. \\u201cSuch paper could not\\nbe bought under half a crown a packet. It is peculiarly strong and\\nstiff.\\u201d\\n\\n\\u201cPeculiar\\u2014that is the very word,\\u201d said Holmes. \\u201cIt is not an English\\npaper at all. Hold it up to the light.\\u201d\\n\\nI did so, and saw a large \\u201cE\\u201d with a small \\u201cg,\\u201d a \\u201cP,\\u201d and a large \\u201cG\\u201d\\nwith a small \\u201ct\\u201d woven into the texture of the paper.\\n\\n\\u201cWhat do you make of that?\\u201d asked Holmes.\\n\\n\\u201cThe name of the maker, no doubt; or his monogram, rather.\\u201d\\n\\n\\u201cNot at all. The \\u2018G\\u2019 with the small \\u2018t\\u2019 stands for \\u2018Gesellschaft,\\u2019\\nwhich is the German for \\u2018Company.\\u2019 It is a customary contraction like\\nour \\u2018Co.\\u2019 \\u2018P,\\u2019 of course, stands for \\u2018Papier.\\u2019 Now for the \\u2018Eg.\\u2019 Let us\\nglance at our Continental Gazetteer.\\u201d He took down a heavy brown volume\\nfrom his shelves. \\u201cEglow, Eglonitz\\u2014here we are, Egria. It is in a\\nGerman-speaking country\\u2014in Bohemia, not far from Carlsbad. \\u2018Remarkable\\nas being the scene of the death of Wallenstein, and for its numerous\\nglass-factories and paper-mills.\\u2019 Ha, ha, my boy, what do you make of\\nthat?\\u201d His eyes sparkled, and he sent up a great blue triumphant cloud\\nfrom his cigarette.\\n\\n\\u201cThe paper was made in Bohemia,\\u201d I said.\\n\\n\\u201cPrecisely. And the man who wrote the note is a German. Do you note the\\npeculiar construction of the sentence\\u2014\\u2018This account of you we have from\\nall quarters received.\\u2019 A Frenchman or Russian could not have written\\nthat. It is the German who is so uncourteous to his verbs. It only\\nremains, therefore, to discover what is wanted by this German who\\nwrites upon Bohemian paper and prefers wearing a mask to showing his\\nface. And here he comes, if I am not mistaken, to resolve all our\\ndoubts.\\u201d\\n\\nAs he spoke there was the sharp sound of horses\\u2019 hoofs and grating\\nwheels against the curb, followed by a sharp pull at the bell. Holmes\\nwhistled.\\n\\n\\u201cA pair, by the sound,\\u201d said he. \\u201cYes,\\u201d he continued, glancing out of\\nthe window. \\u201cA nice little brougham and a pair of beauties. A hundred\\nand fifty guineas apiece. There\\u2019s money in this case, Watson, if there\\nis nothing else.\\u201d\\n\\n\\u201cI think that I had better go, Holmes.\\u201d\\n\\n\\u201cNot a bit, Doctor. Stay where you are. I am lost without my Boswell.\\nAnd this promises to be interesting. It would be a pity to miss it.\\u201d\\n\\n\\u201cBut your client\\u2014\\u201d\\n\\n\\u201cNever mind him. I may want your help, and so may he. Here he comes.\\nSit down in that armchair, Doctor, and give us your best attention.\\u201d\\n\\nA slow and heavy step, which had been heard upon the stairs and in the\\npassage, paused immediately outside the door. Then there was a loud and\\nauthoritative tap.\\n\\n\\u201cCome in!\\u201d said Holmes.\\n\\nA man entered who could hardly have been less than six feet six inches\\nin height, with the chest and limbs of a Hercules. His dress was rich\\nwith a richness which would, in England, be looked upon as akin to bad\\ntaste. Heavy bands of astrakhan were slashed across the sleeves and\\nfronts of his double-breasted coat, while the deep blue cloak which was\\nthrown over his shoulders was lined with flame-coloured silk and\\nsecured at the neck with a brooch which consisted of a single flaming\\nberyl. Boots which extended halfway up his calves, and which were\\ntrimmed at the tops with rich brown fur, completed the impression of\\nbarbaric opulence which was suggested by his whole appearance. He\\ncarried a broad-brimmed hat in his hand, while he wore across the upper\\npart of his face, extending down past the cheekbones, a black vizard\\nmask, which he had apparently adjusted that very moment, for his hand\\nwas still raised to it as he entered. From the lower part of the face\\nhe appeared to be a man of strong character, with a thick, hanging lip,\\nand a long, straight chin suggestive of resolution pushed to the length\\nof obstinacy.\\n\\n\\u201cYou had my note?\\u201d he asked with a deep harsh voice and a strongly\\nmarked German accent. \\u201cI told you that I would call.\\u201d He looked from\\none to the other of us, as if uncertain which to address.\\n\\n\\u201cPray take a seat,\\u201d said Holmes. \\u201cThis is my friend and colleague, Dr.\\nWatson, who is occasionally good enough to help me in my cases. Whom\\nhave I the honour to address?\\u201d\\n\\n\\u201cYou may address me as the Count Von Kramm, a Bohemian nobleman. I\\nunderstand that this gentleman, your friend, is a man of honour and\\ndiscretion, whom I may trust with a matter of the most extreme\\nimportance. If not, I should much prefer to communicate with you\\nalone.\\u201d\\n\\nI rose to go, but Holmes caught me by the wrist and pushed me back into\\nmy chair. \\u201cIt is both, or none,\\u201d said he. \\u201cYou may say before this\\ngentleman anything which you may say to me.\\u201d\\n\\nThe Count shrugged his broad shoulders. \\u201cThen I must begin,\\u201d said he,\\n\\u201cby binding you both to absolute secrecy for two years; at the end of\\nthat time the matter will be of no importance. At present it is not too\\nmuch to say that it is of such weight it may have an influence upon\\nEuropean history.\\u201d\\n\\n\\u201cI promise,\\u201d said Holmes.\\n\\n\\u201cAnd I.\\u201d\\n\\n\\u201cYou will excuse this mask,\\u201d continued our strange visitor. \\u201cThe august\\nperson who employs me wishes his agent to be unknown to you, and I may\\nconfess at once that the title by which I have just called myself is\\nnot exactly my own.\\u201d\\n\\n\\u201cI was aware of it,\\u201d said Holmes dryly.\\n\\n\\u201cThe circumstances are of great delicacy, and every precaution has to\\nbe taken to quench what might grow to be an immense scandal and\\nseriously compromise one of the reigning families of Europe. To speak\\nplainly, the matter implicates the great House of Ormstein, hereditary\\nkings of Bohemia.\\u201d\\n\\n\\u201cI was also aware of that,\\u201d murmured Holmes, settling himself down in\\nhis armchair and closing his eyes.\\n\\nOur visitor glanced with some apparent surprise at the languid,\\nlounging figure of the man who had been no doubt depicted to him as the\\nmost incisive reasoner and most energetic agent in Europe. Holmes\\nslowly reopened his eyes and looked impatiently at his gigantic client.\\n\\n\\u201cIf your Majesty would condescend to state your case,\\u201d he remarked, \\u201cI\\nshould be better able to advise you.\\u201d\\n\\nThe man sprang from his chair and paced up and down the room in\\nuncontrollable agitation. Then, with a gesture of desperation, he tore\\nthe mask from his face and hurled it upon the ground. \\u201cYou are right,\\u201d\\nhe cried; \\u201cI am the King. Why should I attempt to conceal it?\\u201d\\n\\n\\u201cWhy, indeed?\\u201d murmured Holmes. \\u201cYour Majesty had not spoken before I\\nwas aware that I was addressing Wilhelm Gottsreich Sigismond von\\nOrmstein, Grand Duke of Cassel-Felstein, and hereditary King of\\nBohemia.\\u201d\\n\\n\\u201cBut you can understand,\\u201d said our strange visitor, sitting down once\\nmore and passing his hand over his high white forehead, \\u201cyou can\\nunderstand that I am not accustomed to doing such business in my own\\nperson. Yet the matter was so delicate that I could not confide it to\\nan agent without putting myself in his power. I have come _incognito_\\nfrom Prague for the purpose of consulting you.\\u201d\\n\\n\\u201cThen, pray consult,\\u201d said Holmes, shutting his eyes once more.\\n\\n\\u201cThe facts are briefly these: Some five years ago, during a lengthy\\nvisit to Warsaw, I made the acquaintance of the well-known adventuress,\\nIrene Adler. The name is no doubt familiar to you.\\u201d\\n\\n\\u201cKindly look her up in my index, Doctor,\\u201d murmured Holmes without\\nopening his eyes. For many years he had adopted a system of docketing\\nall paragraphs concerning men and things, so that it was difficult to\\nname a subject or a person on which he could not at once furnish\\ninformation. In this case I found her biography sandwiched in between\\nthat of a Hebrew rabbi and that of a staff-commander who had written a\\nmonograph upon the deep-sea fishes.\\n\\n\\u201cLet me see!\\u201d said Holmes. \\u201cHum! Born in New Jersey in the year 1858.\\nContralto\\u2014hum! La Scala, hum! Prima donna Imperial Opera of Warsaw\\u2014yes!\\nRetired from operatic stage\\u2014ha! Living in London\\u2014quite so! Your\\nMajesty, as I understand, became entangled with this young person,\\nwrote her some compromising letters, and is now desirous of getting\\nthose letters back.\\u201d\\n\\n\\u201cPrecisely so. But how\\u2014\\u201d\\n\\n\\u201cWas there a secret marriage?\\u201d\\n\\n\\u201cNone.\\u201d\\n\\n\\u201cNo legal papers or certificates?\\u201d\\n\\n\\u201cNone.\\u201d\\n\\n\\u201cThen I fail to follow your Majesty. If this young person should\\nproduce her letters for blackmailing or other purposes, how is she to\\nprove their authenticity?\\u201d\\n\\n\\u201cThere is the writing.\\u201d\\n\\n\\u201cPooh, pooh! Forgery.\\u201d\\n\\n\\u201cMy private note-paper.\\u201d\\n\\n\\u201cStolen.\\u201d\\n\\n\\u201cMy own seal.\\u201d\\n\\n\\u201cImitated.\\u201d\\n\\n\\u201cMy photograph.\\u201d\\n\\n\\u201cBought.\\u201d\\n\\n\\u201cWe were both in the photograph.\\u201d\\n\\n\\u201cOh, dear! That is very bad! Your Majesty has indeed committed an\\nindiscretion.\\u201d\\n\\n\\u201cI was mad\\u2014insane.\\u201d\\n\\n\\u201cYou have compromised yourself seriously.\\u201d\\n\\n\\u201cI was only Crown Prince then. I was young. I am but thirty now.\\u201d\\n\\n\\u201cIt must be recovered.\\u201d\\n\\n\\u201cWe have tried and failed.\\u201d\\n\\n\\u201cYour Majesty must pay. It must be bought.\\u201d\\n\\n\\u201cShe will not sell.\\u201d\\n\\n\\u201cStolen, then.\\u201d\\n\\n\\u201cFive attempts have been made. Twice burglars in my pay ransacked her\\nhouse. Once we diverted her luggage when she travelled. Twice she has\\nbeen waylaid. There has been no result.\\u201d\\n\\n\\u201cNo sign of it?\\u201d\\n\\n\\u201cAbsolutely none.\\u201d\\n\\nHolmes laughed. \\u201cIt is quite a pretty little problem,\\u201d said he.\\n\\n\\u201cBut a very serious one to me,\\u201d returned the King reproachfully.\\n\\n\\u201cVery, indeed. And what does she propose to do with the photograph?\\u201d\\n\\n\\u201cTo ruin me.\\u201d\\n\\n\\u201cBut how?\\u201d\\n\\n\\u201cI am about to be married.\\u201d\\n\\n\\u201cSo I have heard.\\u201d\\n\\n\\u201cTo Clotilde Lothman von Saxe-Meningen, second daughter of the King of\\nScandinavia. You may know the strict principles of her family. She is\\nherself the very soul of delicacy. A shadow of a doubt as to my conduct\\nwould bring the matter to an end.\\u201d\\n\\n\\u201cAnd Irene Adler?\\u201d\\n\\n\\u201cThreatens to send them the photograph. And she will do it. I know that\\nshe will do it. You do not know her, but she has a soul of steel. She\\nhas the face of the most beautiful of women, and the mind of the most\\nresolute of men. Rather than I should marry another woman, there are no\\nlengths to which she would not go\\u2014none.\\u201d\\n\\n\\u201cYou are sure that she has not sent it yet?\\u201d\\n\\n\\u201cI am sure.\\u201d\\n\\n\\u201cAnd why?\\u201d\\n\\n\\u201cBecause she has said that she would send it on the day when the\\nbetrothal was publicly proclaimed. That will be next Monday.\\u201d\\n\\n\\u201cOh, then we have three days yet,\\u201d said Holmes with a yawn. \\u201cThat is\\nvery fortunate, as I have one or two matters of importance to look into\\njust at present. Your Majesty will, of course, stay in London for the\\npresent?\\u201d\\n\\n\\u201cCertainly. You will find me at the Langham under the name of the Count\\nVon Kramm.\\u201d\\n\\n\\u201cThen I shall drop you a line to let you know how we progress.\\u201d\\n\\n\\u201cPray do so. I shall be all anxiety.\\u201d\\n\\n\\u201cThen, as to money?\\u201d\\n\\n\\u201cYou have _carte blanche_.\\u201d\\n\\n\\u201cAbsolutely?\\u201d\\n\\n\\u201cI tell you that I would give one of the provinces of my kingdom to\\nhave that photograph.\\u201d\\n\\n\\u201cAnd for present expenses?\\u201d\\n\\nThe King took a heavy chamois leather bag from under his cloak and laid\\nit on the table.\\n\\n\\u201cThere are three hundred pounds in gold and seven hundred in notes,\\u201d he\\nsaid.\\n\\nHolmes scribbled a receipt upon a sheet of his note-book and handed it\\nto him.\\n\\n\\u201cAnd Mademoiselle\\u2019s address?\\u201d he asked.\\n\\n\\u201cIs Briony Lodge, Serpentine Avenue, St. John\\u2019s Wood.\\u201d\\n\\nHolmes took a note of it. \\u201cOne other question,\\u201d said he. \\u201cWas the\\nphotograph a cabinet?\\u201d\\n\\n\\u201cIt was.\\u201d\\n\\n\\u201cThen, good-night, your Majesty, and I trust that we shall soon have\\nsome good news for you. And good-night, Watson,\\u201d he added, as the\\nwheels of the royal brougham rolled down the street. \\u201cIf you will be\\ngood enough to call to-morrow afternoon at three o\\u2019clock I should like\\nto chat this little matter over with you.\\u201d\\n\\nAt three o\\u2019clock precisely I was at Baker Street, but Holmes had not\\nyet returned. The landlady informed me that he had left the house\\nshortly after eight o\\u2019clock in the morning. I sat down beside the fire,\\nhowever, with the intention of awaiting him, however long he might be.\\nI was already deeply interested in his inquiry, for, though it was\\nsurrounded by none of the grim and strange features which were\\nassociated with the two crimes which I have already recorded, still,\\nthe nature of the case and the exalted station of his client gave it a\\ncharacter of its own. Indeed, apart from the nature of the\\ninvestigation which my friend had on hand, there was something in his\\nmasterly grasp of a situation, and his keen, incisive reasoning, which\\nmade it a pleasure to me to study his system of work, and to follow the\\nquick, subtle methods by which he disentangled the most inextricable\\nmysteries. So accustomed was I to his invariable success that the very\\npossibility of his failing had ceased to enter into my head.\\n\\nIt was close upon four before the door opened, and a drunken-looking\\ngroom, ill-kempt and side-whiskered, with an inflamed face and\\ndisreputable clothes, walked into the room. Accustomed as I was to my\\nfriend\\u2019s amazing powers in the use of disguises, I had to look three\\ntimes before I was certain that it was indeed he. With a nod he\\nvanished into the bedroom, whence he emerged in five minutes\\ntweed-suited and respectable, as of old. Putting his hands into his\\npockets, he stretched out his legs in front of the fire and laughed\\nheartily for some minutes.\\n\\n\\u201cWell, really!\\u201d he cried, and then he choked and laughed again until he\\nwas obliged to lie back, limp and helpless, in the chair.\\n\\n\\u201cWhat is it?\\u201d\\n\\n\\u201cIt\\u2019s quite too funny. I am sure you could never guess how I employed\\nmy morning, or what I ended by doing.\\u201d\\n\\n\\u201cI can\\u2019t imagine. I suppose that you have been watching the habits, and\\nperhaps the house, of Miss Irene Adler.\\u201d\\n\\n\\u201cQuite so; but the sequel was rather unusual. I will tell you, however.\\nI left the house a little after eight o\\u2019clock this morning in the\\ncharacter of a groom out of work. There is a wonderful sympathy and\\nfreemasonry among horsey men. Be one of them, and you will know all\\nthat there is to know. I soon found Briony Lodge. It is a _bijou_\\nvilla, with a garden at the back, but built out in front right up to\\nthe road, two stories. Chubb lock to the door. Large sitting-room on\\nthe right side, well furnished, with long windows almost to the floor,\\nand those preposterous English window fasteners which a child could\\nopen. Behind there was nothing remarkable, save that the passage window\\ncould be reached from the top of the coach-house. I walked round it and\\nexamined it closely from every point of view, but without noting\\nanything else of interest.\\n\\n\\u201cI then lounged down the street and found, as I expected, that there\\nwas a mews in a lane which runs down by one wall of the garden. I lent\\nthe ostlers a hand in rubbing down their horses, and received in\\nexchange twopence, a glass of half-and-half, two fills of shag tobacco,\\nand as much information as I could desire about Miss Adler, to say\\nnothing of half a dozen other people in the neighbourhood in whom I was\\nnot in the least interested, but whose biographies I was compelled to\\nlisten to.\\u201d\\n\\n\\u201cAnd what of Irene Adler?\\u201d I asked.\\n\\n\\u201cOh, she has turned all the men\\u2019s heads down in that part. She is the\\ndaintiest thing under a bonnet on this planet. So say the\\nSerpentine-mews, to a man. She lives quietly, sings at concerts, drives\\nout at five every day, and returns at seven sharp for dinner. Seldom\\ngoes out at other times, except when she sings. Has only one male\\nvisitor, but a good deal of him. He is dark, handsome, and dashing,\\nnever calls less than once a day, and often twice. He is a Mr. Godfrey\\nNorton, of the Inner Temple. See the advantages of a cabman as a\\nconfidant. They had driven him home a dozen times from Serpentine-mews,\\nand knew all about him. When I had listened to all they had to tell, I\\nbegan to walk up and down near Briony Lodge once more, and to think\\nover my plan of campaign.\\n\\n\\u201cThis Godfrey Norton was evidently an important factor in the matter.\\nHe was a lawyer. That sounded ominous. What was the relation between\\nthem, and what the object of his repeated visits? Was she his client,\\nhis friend, or his mistress? If the former, she had probably\\ntransferred the photograph to his keeping. If the latter, it was less\\nlikely. On the issue of this question depended whether I should\\ncontinue my work at Briony Lodge, or turn my attention to the\\ngentleman\\u2019s chambers in the Temple. It was a delicate point, and it\\nwidened the field of my inquiry. I fear that I bore you with these\\ndetails, but I have to let you see my little difficulties, if you are\\nto understand the situation.\\u201d\\n\\n\\u201cI am following you closely,\\u201d I answered.\\n\\n\\u201cI was still balancing the matter in my mind when a hansom cab drove up\\nto Briony Lodge, and a gentleman sprang out. He was a remarkably\\nhandsome man, dark, aquiline, and moustached\\u2014evidently the man of whom\\nI had heard. He appeared to be in a great hurry, shouted to the cabman\\nto wait, and brushed past the maid who opened the door with the air of\\na man who was thoroughly at home.\\n\\n\\u201cHe was in the house about half an hour, and I could catch glimpses of\\nhim in the windows of the sitting-room, pacing up and down, talking\\nexcitedly, and waving his arms. Of her I could see nothing. Presently\\nhe emerged, looking even more flurried than before. As he stepped up to\\nthe cab, he pulled a gold watch from his pocket and looked at it\\nearnestly, \\u2018Drive like the devil,\\u2019 he shouted, \\u2018first to Gross &\\nHankey\\u2019s in Regent Street, and then to the Church of St. Monica in the\\nEdgeware Road. Half a guinea if you do it in twenty minutes!\\u2019\\n\\n\\u201cAway they went, and I was just wondering whether I should not do well\\nto follow them when up the lane came a neat little landau, the coachman\\nwith his coat only half-buttoned, and his tie under his ear, while all\\nthe tags of his harness were sticking out of the buckles. It hadn\\u2019t\\npulled up before she shot out of the hall door and into it. I only\\ncaught a glimpse of her at the moment, but she was a lovely woman, with\\na face that a man might die for.\\n\\n\\u201c\\u2018The Church of St. Monica, John,\\u2019 she cried, \\u2018and half a sovereign if\\nyou reach it in twenty minutes.\\u2019\\n\\n\\u201cThis was quite too good to lose, Watson. I was just balancing whether\\nI should run for it, or whether I should perch behind her landau when a\\ncab came through the street. The driver looked twice at such a shabby\\nfare, but I jumped in before he could object. \\u2018The Church of St.\\nMonica,\\u2019 said I, \\u2018and half a sovereign if you reach it in twenty\\nminutes.\\u2019 It was twenty-five minutes to twelve, and of course it was\\nclear enough what was in the wind.\\n\\n\\u201cMy cabby drove fast. I don\\u2019t think I ever drove faster, but the others\\nwere there before us. The cab and the landau with their steaming horses\\nwere in front of the door when I arrived. I paid the man and hurried\\ninto the church. There was not a soul there save the two whom I had\\nfollowed and a surpliced clergyman, who seemed to be expostulating with\\nthem. They were all three standing in a knot in front of the altar. I\\nlounged up the side aisle like any other idler who has dropped into a\\nchurch. Suddenly, to my surprise, the three at the altar faced round to\\nme, and Godfrey Norton came running as hard as he could towards me.\\n\\n\\u201c\\u2018Thank God,\\u2019 he cried. \\u2018You\\u2019ll do. Come! Come!\\u2019\\n\\n\\u201c\\u2018What then?\\u2019 I asked.\\n\\n\\u201c\\u2018Come, man, come, only three minutes, or it won\\u2019t be legal.\\u2019\\n\\n\\u201cI was half-dragged up to the altar, and before I knew where I was I\\nfound myself mumbling responses which were whispered in my ear, and\\nvouching for things of which I knew nothing, and generally assisting in\\nthe secure tying up of Irene Adler, spinster, to Godfrey Norton,\\nbachelor. It was all done in an instant, and there was the gentleman\\nthanking me on the one side and the lady on the other, while the\\nclergyman beamed on me in front. It was the most preposterous position\\nin which I ever found myself in my life, and it was the thought of it\\nthat started me laughing just now. It seems that there had been some\\ninformality about their license, that the clergyman absolutely refused\\nto marry them without a witness of some sort, and that my lucky\\nappearance saved the bridegroom from having to sally out into the\\nstreets in search of a best man. The bride gave me a sovereign, and I\\nmean to wear it on my watch chain in memory of the occasion.\\u201d\\n\\n\\u201cThis is a very unexpected turn of affairs,\\u201d said I; \\u201cand what then?\\u201d\\n\\n\\u201cWell, I found my plans very seriously menaced. It looked as if the\\npair might take an immediate departure, and so necessitate very prompt\\nand energetic measures on my part. At the church door, however, they\\nseparated, he driving back to the Temple, and she to her own house. \\u2018I\\nshall drive out in the park at five as usual,\\u2019 she said as she left\\nhim. I heard no more. They drove away in different directions, and I\\nwent off to make my own arrangements.\\u201d\\n\\n\\u201cWhich are?\\u201d\\n\\n\\u201cSome cold beef and a glass of beer,\\u201d he answered, ringing the bell. \\u201cI\\nhave been too busy to think of food, and I am likely to be busier still\\nthis evening. By the way, Doctor, I shall want your co-operation.\\u201d\\n\\n\\u201cI shall be delighted.\\u201d\\n\\n\\u201cYou don\\u2019t mind breaking the law?\\u201d\\n\\n\\u201cNot in the least.\\u201d\\n\\n\\u201cNor running a chance of arrest?\\u201d\\n\\n\\u201cNot in a good cause.\\u201d\\n\\n\\u201cOh, the cause is excellent!\\u201d\\n\\n\\u201cThen I am your man.\\u201d\\n\\n\\u201cI was sure that I might rely on you.\\u201d\\n\\n\\u201cBut what is it you wish?\\u201d\\n\\n\\u201cWhen Mrs. Turner has brought in the tray I will make it clear to you.\\nNow,\\u201d he said as he turned hungrily on the simple fare that our\\nlandlady had provided, \\u201cI must discuss it while I eat, for I have not\\nmuch time. It is nearly five now. In two hours we must be on the scene\\nof action. Miss Irene, or Madame, rather, returns from her drive at\\nseven. We must be at Briony Lodge to meet her.\\u201d\\n\\n\\u201cAnd what then?\\u201d\\n\\n\\u201cYou must leave that to me. I have already arranged what is to occur.\\nThere is only one point on which I must insist. You must not interfere,\\ncome what may. You understand?\\u201d\\n\\n\\u201cI am to be neutral?\\u201d\\n\\n\\u201cTo do nothing whatever. There will probably be some small\\nunpleasantness. Do not join in it. It will end in my being conveyed\\ninto the house. Four or five minutes afterwards the sitting-room window\\nwill open. You are to station yourself close to that open window.\\u201d\\n\\n\\u201cYes.\\u201d\\n\\n\\u201cYou are to watch me, for I will be visible to you.\\u201d\\n\\n\\u201cYes.\\u201d\\n\\n\\u201cAnd when I raise my hand\\u2014so\\u2014you will throw into the room what I give\\nyou to throw, and will, at the same time, raise the cry of fire. You\\nquite follow me?\\u201d\\n\\n\\u201cEntirely.\\u201d\\n\\n\\u201cIt is nothing very formidable,\\u201d he said, taking a long cigar-shaped\\nroll from his pocket. \\u201cIt is an ordinary plumber\\u2019s smoke-rocket, fitted\\nwith a cap at either end to make it self-lighting. Your task is\\nconfined to that. When you raise your cry of fire, it will be taken up\\nby quite a number of people. You may then walk to the end of the\\nstreet, and I will rejoin you in ten minutes. I hope that I have made\\nmyself clear?\\u201d\\n\\n\\u201cI am to remain neutral, to get near the window, to watch you, and at\\nthe signal to throw in this object, then to raise the cry of fire, and\\nto wait you at the corner of the street.\\u201d\\n\\n\\u201cPrecisely.\\u201d\\n\\n\\u201cThen you may entirely rely on me.\\u201d\\n\\n\\u201cThat is excellent. I think, perhaps, it is almost time that I prepare\\nfor the new role I have to play.\\u201d\\n\\nHe disappeared into his bedroom and returned in a few minutes in the\\ncharacter of an amiable and simple-minded Nonconformist clergyman. His\\nbroad black hat, his baggy trousers, his white tie, his sympathetic\\nsmile, and general look of peering and benevolent curiosity were such\\nas Mr. John Hare alone could have equalled. It was not merely that\\nHolmes changed his costume. His expression, his manner, his very soul\\nseemed to vary with every fresh part that he assumed. The stage lost a\\nfine actor, even as science lost an acute reasoner, when he became a\\nspecialist in crime.\\n\\nIt was a quarter past six when we left Baker Street, and it still\\nwanted ten minutes to the hour when we found ourselves in Serpentine\\nAvenue. It was already dusk, and the lamps were just being lighted as\\nwe paced up and down in front of Briony Lodge, waiting for the coming\\nof its occupant. The house was just such as I had pictured it from\\nSherlock Holmes\\u2019 succinct description, but the locality appeared to be\\nless private than I expected. On the contrary, for a small street in a\\nquiet neighbourhood, it was remarkably animated. There was a group of\\nshabbily dressed men smoking and laughing in a corner, a\\nscissors-grinder with his wheel, two guardsmen who were flirting with a\\nnurse-girl, and several well-dressed young men who were lounging up and\\ndown with cigars in their mouths.\\n\\n\\u201cYou see,\\u201d remarked Holmes, as we paced to and fro in front of the\\nhouse, \\u201cthis marriage rather simplifies matters. The photograph becomes\\na double-edged weapon now. The chances are that she would be as averse\\nto its being seen by Mr. Godfrey Norton, as our client is to its coming\\nto the eyes of his princess. Now the question is, Where are we to find\\nthe photograph?\\u201d\\n\\n\\u201cWhere, indeed?\\u201d\\n\\n\\u201cIt is most unlikely that she carries it about with her. It is cabinet\\nsize. Too large for easy concealment about a woman\\u2019s dress. She knows\\nthat the King is capable of having her waylaid and searched. Two\\nattempts of the sort have already been made. We may take it, then, that\\nshe does not carry it about with her.\\u201d\\n\\n\\u201cWhere, then?\\u201d\\n\\n\\u201cHer banker or her lawyer. There is that double possibility. But I am\\ninclined to think neither. Women are naturally secretive, and they like\\nto do their own secreting. Why should she hand it over to anyone else?\\nShe could trust her own guardianship, but she could not tell what\\nindirect or political influence might be brought to bear upon a\\nbusiness man. Besides, remember that she had resolved to use it within\\na few days. It must be where she can lay her hands upon it. It must be\\nin her own house.\\u201d\\n\\n\\u201cBut it has twice been burgled.\\u201d\\n\\n\\u201cPshaw! They did not know how to look.\\u201d\\n\\n\\u201cBut how will you look?\\u201d\\n\\n\\u201cI will not look.\\u201d\\n\\n\\u201cWhat then?\\u201d\\n\\n\\u201cI will get her to show me.\\u201d\\n\\n\\u201cBut she will refuse.\\u201d\\n\\n\\u201cShe will not be able to. But I hear the rumble of wheels. It is her\\ncarriage. Now carry out my orders to the letter.\\u201d\\n\\nAs he spoke the gleam of the sidelights of a carriage came round the\\ncurve of the avenue. It was a smart little landau which rattled up to\\nthe door of Briony Lodge. As it pulled up, one of the loafing men at\\nthe corner dashed forward to open the door in the hope of earning a\\ncopper, but was elbowed away by another loafer, who had rushed up with\\nthe same intention. A fierce quarrel broke out, which was increased by\\nthe two guardsmen, who took sides with one of the loungers, and by the\\nscissors-grinder, who was equally hot upon the other side. A blow was\\nstruck, and in an instant the lady, who had stepped from her carriage,\\nwas the centre of a little knot of flushed and struggling men, who\\nstruck savagely at each other with their fists and sticks. Holmes\\ndashed into the crowd to protect the lady; but, just as he reached her,\\nhe gave a cry and dropped to the ground, with the blood running freely\\ndown his face. At his fall the guardsmen took to their heels in one\\ndirection and the loungers in the other, while a number of better\\ndressed people, who had watched the scuffle without taking part in it,\\ncrowded in to help the lady and to attend to the injured man. Irene\\nAdler, as I will still call her, had hurried up the steps; but she\\nstood at the top with her superb figure outlined against the lights of\\nthe hall, looking back into the street.\\n\\n\\u201cIs the poor gentleman much hurt?\\u201d she asked.\\n\\n\\u201cHe is dead,\\u201d cried several voices.\\n\\n\\u201cNo, no, there\\u2019s life in him!\\u201d shouted another. \\u201cBut he\\u2019ll be gone\\nbefore you can get him to hospital.\\u201d\\n\\n\\u201cHe\\u2019s a brave fellow,\\u201d said a woman. \\u201cThey would have had the lady\\u2019s\\npurse and watch if it hadn\\u2019t been for him. They were a gang, and a\\nrough one, too. Ah, he\\u2019s breathing now.\\u201d\\n\\n\\u201cHe can\\u2019t lie in the street. May we bring him in, marm?\\u201d\\n\\n\\u201cSurely. Bring him into the sitting-room. There is a comfortable sofa.\\nThis way, please!\\u201d\\n\\nSlowly and solemnly he was borne into Briony Lodge and laid out in the\\nprincipal room, while I still observed the proceedings from my post by\\nthe window. The lamps had been lit, but the blinds had not been drawn,\\nso that I could see Holmes as he lay upon the couch. I do not know\\nwhether he was seized with compunction at that moment for the part he\\nwas playing, but I know that I never felt more heartily ashamed of\\nmyself in my life than when I saw the beautiful creature against whom I\\nwas conspiring, or the grace and kindliness with which she waited upon\\nthe injured man. And yet it would be the blackest treachery to Holmes\\nto draw back now from the part which he had intrusted to me. I hardened\\nmy heart, and took the smoke-rocket from under my ulster. After all, I\\nthought, we are not injuring her. We are but preventing her from\\ninjuring another.\\n\\nHolmes had sat up upon the couch, and I saw him motion like a man who\\nis in need of air. A maid rushed across and threw open the window. At\\nthe same instant I saw him raise his hand and at the signal I tossed my\\nrocket into the room with a cry of \\u201cFire!\\u201d The word was no sooner out\\nof my mouth than the whole crowd of spectators, well dressed and\\nill\\u2014gentlemen, ostlers, and servant maids\\u2014joined in a general shriek of\\n\\u201cFire!\\u201d Thick clouds of smoke curled through the room and out at the\\nopen window. I caught a glimpse of rushing figures, and a moment later\\nthe voice of Holmes from within assuring them that it was a false\\nalarm. Slipping through the shouting crowd I made my way to the corner\\nof the street, and in ten minutes was rejoiced to find my friend\\u2019s arm\\nin mine, and to get away from the scene of uproar. He walked swiftly\\nand in silence for some few minutes until we had turned down one of the\\nquiet streets which lead towards the Edgeware Road.\\n\\n\\u201cYou did it very nicely, Doctor,\\u201d he remarked. \\u201cNothing could have been\\nbetter. It is all right.\\u201d\\n\\n\\u201cYou have the photograph?\\u201d\\n\\n\\u201cI know where it is.\\u201d\\n\\n\\u201cAnd how did you find out?\\u201d\\n\\n\\u201cShe showed me, as I told you she would.\\u201d\\n\\n\\u201cI am still in the dark.\\u201d\\n\\n\\u201cI do not wish to make a mystery,\\u201d said he, laughing. \\u201cThe matter was\\nperfectly simple. You, of course, saw that everyone in the street was\\nan accomplice. They were all engaged for the evening.\\u201d\\n\\n\\u201cI guessed as much.\\u201d\\n\\n\\u201cThen, when the row broke out, I had a little moist red paint in the\\npalm of my hand. I rushed forward, fell down, clapped my hand to my\\nface, and became a piteous spectacle. It is an old trick.\\u201d\\n\\n\\u201cThat also I could fathom.\\u201d\\n\\n\\u201cThen they carried me in. She was bound to have me in. What else could\\nshe do? And into her sitting-room, which was the very room which I\\nsuspected. It lay between that and her bedroom, and I was determined to\\nsee which. They laid me on a couch, I motioned for air, they were\\ncompelled to open the window, and you had your chance.\\u201d\\n\\n\\u201cHow did that help you?\\u201d\\n\\n\\u201cIt was all-important. When a woman thinks that her house is on fire,\\nher instinct is at once to rush to the thing which she values most. It\\nis a perfectly overpowering impulse, and I have more than once taken\\nadvantage of it. In the case of the Darlington Substitution Scandal it\\nwas of use to me, and also in the Arnsworth Castle business. A married\\nwoman grabs at her baby; an unmarried one reaches for her jewel-box.\\nNow it was clear to me that our lady of to-day had nothing in the house\\nmore precious to her than what we are in quest of. She would rush to\\nsecure it. The alarm of fire was admirably done. The smoke and shouting\\nwere enough to shake nerves of steel. She responded beautifully. The\\nphotograph is in a recess behind a sliding panel just above the right\\nbell-pull. She was there in an instant, and I caught a glimpse of it as\\nshe half drew it out. When I cried out that it was a false alarm, she\\nreplaced it, glanced at the rocket, rushed from the room, and I have\\nnot seen her since. I rose, and, making my excuses, escaped from the\\nhouse. I hesitated whether to attempt to secure the photograph at once;\\nbut the coachman had come in, and as he was watching me narrowly, it\\nseemed safer to wait. A little over-precipitance may ruin all.\\u201d\\n\\n\\u201cAnd now?\\u201d I asked.\\n\\n\\u201cOur quest is practically finished. I shall call with the King\\nto-morrow, and with you, if you care to come with us. We will be shown\\ninto the sitting-room to wait for the lady, but it is probable that\\nwhen she comes she may find neither us nor the photograph. It might be\\na satisfaction to his Majesty to regain it with his own hands.\\u201d\\n\\n\\u201cAnd when will you call?\\u201d\\n\\n\\u201cAt eight in the morning. She will not be up, so that we shall have a\\nclear field. Besides, we must be prompt, for this marriage may mean a\\ncomplete change in her life and habits. I must wire to the King without\\ndelay.\\u201d\\n\\nWe had reached Baker Street and had stopped at the door. He was\\nsearching his pockets for the key when someone passing said:\\n\\n\\u201cGood-night, Mister Sherlock Holmes.\\u201d\\n\\nThere were several people on the pavement at the time, but the greeting\\nappeared to come from a slim youth in an ulster who had hurried by.\\n\\n\\u201cI\\u2019ve heard that voice before,\\u201d said Holmes, staring down the dimly lit\\nstreet. \\u201cNow, I wonder who the deuce that could have been.\\u201d\\n\\nI slept at Baker Street that night, and we were engaged upon our toast\\nand coffee in the morning when the King of Bohemia rushed into the\\nroom.\\n\\n\\u201cYou have really got it!\\u201d he cried, grasping Sherlock Holmes by either\\nshoulder and looking eagerly into his face.\\n\\n\\u201cNot yet.\\u201d\\n\\n\\u201cBut you have hopes?\\u201d\\n\\n\\u201cI have hopes.\\u201d\\n\\n\\u201cThen, come. I am all impatience to be gone.\\u201d\\n\\n\\u201cWe must have a cab.\\u201d\\n\\n\\u201cNo, my brougham is waiting.\\u201d\\n\\n\\u201cThen that will simplify matters.\\u201d We descended and started off once\\nmore for Briony Lodge.\\n\\n\\u201cIrene Adler is married,\\u201d remarked Holmes.\\n\\n\\u201cMarried! When?\\u201d\\n\\n\\u201cYesterday.\\u201d\\n\\n\\u201cBut to whom?\\u201d\\n\\n\\u201cTo an English lawyer named Norton.\\u201d\\n\\n\\u201cBut she could not love him.\\u201d\\n\\n\\u201cI am in hopes that she does.\\u201d\\n\\n\\u201cAnd why in hopes?\\u201d\\n\\n\\u201cBecause it would spare your Majesty all fear of future annoyance. If\\nthe lady loves her husband, she does not love your Majesty. If she does\\nnot love your Majesty, there is no reason why she should interfere with\\nyour Majesty\\u2019s plan.\\u201d\\n\\n\\u201cIt is true. And yet\\u2014! Well! I wish she had been of my own station!\\nWhat a queen she would have made!\\u201d He relapsed into a moody silence,\\nwhich was not broken until we drew up in Serpentine Avenue.\\n\\nThe door of Briony Lodge was open, and an elderly woman stood upon the\\nsteps. She watched us with a sardonic eye as we stepped from the\\nbrougham.\\n\\n\\u201cMr. Sherlock Holmes, I believe?\\u201d said she.\\n\\n\\u201cI am Mr. Holmes,\\u201d answered my companion, looking at her with a\\nquestioning and rather startled gaze.\\n\\n\\u201cIndeed! My mistress told me that you were likely to call. She left\\nthis morning with her husband by the 5:15 train from Charing Cross for\\nthe Continent.\\u201d\\n\\n\\u201cWhat!\\u201d Sherlock Holmes staggered back, white with chagrin and\\nsurprise. \\u201cDo you mean that she has left England?\\u201d\\n\\n\\u201cNever to return.\\u201d\\n\\n\\u201cAnd the papers?\\u201d asked the King hoarsely. \\u201cAll is lost.\\u201d\\n\\n\\u201cWe shall see.\\u201d He pushed past the servant and rushed into the\\ndrawing-room, followed by the King and myself. The furniture was\\nscattered about in every direction, with dismantled shelves and open\\ndrawers, as if the lady had hurriedly ransacked them before her flight.\\nHolmes rushed at the bell-pull, tore back a small sliding shutter, and,\\nplunging in his hand, pulled out a photograph and a letter. The\\nphotograph was of Irene Adler herself in evening dress, the letter was\\nsuperscribed to \\u201cSherlock Holmes, Esq. To be left till called for.\\u201d My\\nfriend tore it open, and we all three read it together. It was dated at\\nmidnight of the preceding night and ran in this way:\\n\\n    \\u201cMY DEAR MR. SHERLOCK HOLMES,\\u2014You really did it very well. You took\\n    me in completely. Until after the alarm of fire, I had not a\\n    suspicion. But then, when I found how I had betrayed myself, I\\n    began to think. I had been warned against you months ago. I had\\n    been told that, if the King employed an agent, it would certainly\\n    be you. And your address had been given me. Yet, with all this, you\\n    made me reveal what you wanted to know. Even after I became\\n    suspicious, I found it hard to think evil of such a dear, kind old\\n    clergyman. But, you know, I have been trained as an actress myself.\\n    Male costume is nothing new to me. I often take advantage of the\\n    freedom which it gives. I sent John, the coachman, to watch you,\\n    ran upstairs, got into my walking clothes, as I call them, and came\\n    down just as you departed.\\n\\n    \\u201cWell, I followed you to your door, and so made sure that I was\\n    really an object of interest to the celebrated Mr. Sherlock Holmes.\\n    Then I, rather imprudently, wished you good-night, and started for\\n    the Temple to see my husband.\\n\\n    \\u201cWe both thought the best resource was flight, when pursued by so\\n    formidable an antagonist; so you will find the nest empty when you\\n    call to-morrow. As to the photograph, your client may rest in\\n    peace. I love and am loved by a better man than he. The King may do\\n    what he will without hindrance from one whom he has cruelly\\n    wronged. I keep it only to safeguard myself, and to preserve a\\n    weapon which will always secure me from any steps which he might\\n    take in the future. I leave a photograph which he might care to\\n    possess; and I remain, dear Mr. Sherlock Holmes,\\n\\n\\n    \\u201cVery truly yours,\\n\\n    \\u201cIRENE NORTON, _n\\u00e9e_ ADLER.\\u201d\\n\\n\\n\\u201cWhat a woman\\u2014oh, what a woman!\\u201d cried the King of Bohemia, when we had\\nall three read this epistle. \\u201cDid I not tell you how quick and resolute\\nshe was? Would she not have made an admirable queen? Is it not a pity\\nthat she was not on my level?\\u201d\\n\\n\\u201cFrom what I have seen of the lady, she seems, indeed, to be on a very\\ndifferent level to your Majesty,\\u201d said Holmes coldly. \\u201cI am sorry that\\nI have not been able to bring your Majesty\\u2019s business to a more\\nsuccessful conclusion.\\u201d\\n\\n\\u201cOn the contrary, my dear sir,\\u201d cried the King; \\u201cnothing could be more\\nsuccessful. I know that her word is inviolate. The photograph is now as\\nsafe as if it were in the fire.\\u201d\\n\\n\\u201cI am glad to hear your Majesty say so.\\u201d\\n\\n\\u201cI am immensely indebted to you. Pray tell me in what way I can reward\\nyou. This ring\\u2014\\u201d He slipped an emerald snake ring from his finger and\\nheld it out upon the palm of his hand.\\n\\n\\u201cYour Majesty has something which I should value even more highly,\\u201d\\nsaid Holmes.\\n\\n\\u201cYou have but to name it.\\u201d\\n\\n\\u201cThis photograph!\\u201d\\n\\nThe King stared at him in amazement.\\n\\n\\u201cIrene\\u2019s photograph!\\u201d he cried. \\u201cCertainly, if you wish it.\\u201d\\n\\n\\u201cI thank your Majesty. Then there is no more to be done in the matter.\\nI have the honour to wish you a very good morning.\\u201d He bowed, and,\\nturning away without observing the hand which the King had stretched\\nout to him, he set off in my company for his chambers.\\n\\nAnd that was how a great scandal threatened to affect the kingdom of\\nBohemia, and how the best plans of Mr. Sherlock Holmes were beaten by a\\nwoman\\u2019s wit. He used to make merry over the cleverness of women, but I\\nhave not heard him do it of late. And when he speaks of Irene Adler, or\\nwhen he refers to her photograph, it is always under the honourable\\ntitle of _the_ woman.\"\n        ],\n        \"semantic_type\": \"\",\n        \"description\": \"\"\n      }\n    }\n  ]\n}"
            }
          },
          "metadata": {},
          "execution_count": 5
        }
      ]
    },
    {
      "cell_type": "code",
      "source": [
        "new_text = \"\\n\".join(df_text[\"content\"].tolist())\n",
        "print(new_text[:500])"
      ],
      "metadata": {
        "colab": {
          "base_uri": "https://localhost:8080/"
        },
        "id": "cyvHFxpkNinv",
        "outputId": "e4b3febc-b1b7-4558-a889-533b3ba035bc"
      },
      "execution_count": 6,
      "outputs": [
        {
          "output_type": "stream",
          "name": "stdout",
          "text": [
            "A SCANDAL IN BOHEMIA\n",
            "To Sherlock Holmes she is always _the_ woman. I have seldom heard him\n",
            "mention her under any other name. In his eyes she eclipses and\n",
            "predominates the whole of her sex. It was not that he felt any emotion\n",
            "akin to love for Irene Adler. All emotions, and that one particularly,\n",
            "were abhorrent to his cold, precise but admirably balanced mind. He\n",
            "was, I take it, the most perfect reasoning and observing machine that\n",
            "the world has seen, but as a lover he would have placed himself in\n"
          ]
        }
      ]
    },
    {
      "cell_type": "code",
      "source": [
        "with open('dataset_clean.txt', 'w') as f:\n",
        "  f.write(new_text)"
      ],
      "metadata": {
        "id": "t6-4w9RRbBxT"
      },
      "execution_count": 7,
      "outputs": []
    },
    {
      "cell_type": "markdown",
      "source": [
        "Observando el dataset limpio, vemos que\n",
        "- `\\n\\n` (consecutive endline)\n",
        "- `_the_` (emphasis)\n",
        "- `“Seven!”` (punctuation)\n",
        "- `“Absolutely?”` (punctuation)\n",
        "- `John’s` (punctuation)\n",
        "- `won’t` (contractions)\n",
        "- `half-dragged` (hyphened compound-words)\n",
        "- `“‘The Church of St. Monica,` (abbreviation)\n",
        "- `\\t\\t“MY DEAR MR. SHERLOCK HOLMES` (tabs/spaces)\n",
        "- `_née_` (tilde)\n",
        "- `“‘Never.’` (quotes)\n",
        "- `“THE RED-HEADED LEAGUE IS DISSOLVED. October 9, 1890.”` (numbered date)\n",
        "- `sitting-room`\n",
        "- `“‘December 22nd. Twenty-four geese at 7_s_. 6_d_.’”`\n",
        "- `One night—it was on the twentieth of March, 1888—`  (em dash: longer and generally used to note a break, provide drama, or give an example)\n",
        "- ` to a salary of £ 4 a` (Simbols & numbers)\n",
        "\n",
        "Deberíamos aplicar un preprocesamiento al texto. Un ejemplo con nltk es el siguiente:"
      ],
      "metadata": {
        "id": "omgwSL9NbH8m"
      }
    },
    {
      "cell_type": "code",
      "source": [
        "import re\n",
        "import contractions\n",
        "import dateparser\n",
        "import string\n",
        "\n",
        "def preprocess_sherlock(text):\n",
        "    text = text.lower()\n",
        "\n",
        "    # 1. Normalize Line Breaks & Whitespace\n",
        "    text = re.sub(r'\\n+', '\\n', text)  # Reduce multiple newlines to one\n",
        "    text = re.sub(r'[ \\t]+', ' ', text)  # Replace multiple spaces/tabs with a single space\n",
        "\n",
        "\n",
        "    # 2. Remove Emphasis (_the_ → the)\n",
        "    text = re.sub(r'_([^_]+)_', r'\\1', text)\n",
        "\n",
        "    # 3. Expand Contractions (won’t → will not)\n",
        "    text = contractions.fix(text)\n",
        "\n",
        "    # 4. Standardize Quotes & Punctuation\n",
        "    text = re.sub(r\"[“”]\", '\"', text)  # Double quotes\n",
        "    text = re.sub(r\"[‘’]\", \"'\", text)  # Single quotes\n",
        "    # remove all quotes\n",
        "    text = re.sub(r'[\"]', '', text)\n",
        "    text = re.sub(r'[\\']', '', text)\n",
        "\n",
        "\n",
        "    # 5. Normalize Hyphenated Words (half-dragged → half dragged)\n",
        "    # matches both hyphens (-) and em dashes (—)\n",
        "    text = re.sub(r'—', r' ', text)\n",
        "    text = re.sub(r'-', r' ', text)\n",
        "\n",
        "    return text\n"
      ],
      "metadata": {
        "id": "EbjyQ2MR7YL0"
      },
      "execution_count": 8,
      "outputs": []
    },
    {
      "cell_type": "code",
      "source": [
        "with open('dataset_clean_preprocessed.txt', 'w') as f:\n",
        "  preprocessed_text = preprocess_sherlock(new_text)\n",
        "  f.write(preprocessed_text)"
      ],
      "metadata": {
        "id": "KQFPrXNpXvDi"
      },
      "execution_count": 9,
      "outputs": []
    },
    {
      "cell_type": "code",
      "source": [
        "print(preprocessed_text[:1500])"
      ],
      "metadata": {
        "colab": {
          "base_uri": "https://localhost:8080/"
        },
        "id": "8P7h-Z66bY7U",
        "outputId": "a20beb09-9e77-40ba-c6b0-e42590e0f02b"
      },
      "execution_count": 10,
      "outputs": [
        {
          "output_type": "stream",
          "name": "stdout",
          "text": [
            "a scandal in bohemia\n",
            "to sherlock holmes she is always the woman. i have seldom heard him\n",
            "mention her under any other name. in his eyes she eclipses and\n",
            "predominates the whole of her sex. it was not that he felt any emotion\n",
            "akin to love for irene adler. all emotions, and that one particularly,\n",
            "were abhorrent to his cold, precise but admirably balanced mind. he\n",
            "was, i take it, the most perfect reasoning and observing machine that\n",
            "the world has seen, but as a lover he would have placed himself in a\n",
            "false position. he never spoke of the softer passions, save with a gibe\n",
            "and a sneer. they were admirable things for the observer excellent for\n",
            "drawing the veil from mens motives and actions. but for the trained\n",
            "reasoner to admit such intrusions into his own delicate and finely\n",
            "adjusted temperament was to introduce a distracting factor which might\n",
            "throw a doubt upon all his mental results. grit in a sensitive\n",
            "instrument, or a crack in one of his own high power lenses, would not\n",
            "be more disturbing than a strong emotion in a nature such as his. and\n",
            "yet there was but one woman to him, and that woman was the late irene\n",
            "adler, of dubious and questionable memory.\n",
            "i had seen little of holmes lately. my marriage had drifted us away\n",
            "from each other. my own complete happiness, and the home centred\n",
            "interests which rise up around the man who first finds himself master\n",
            "of his own establishment, were sufficient to absorb all my attention,\n",
            "while holmes, who loathed every form of society with his whol\n"
          ]
        }
      ]
    },
    {
      "cell_type": "code",
      "source": [
        "import nltk\n",
        "from nltk.tokenize import word_tokenize\n",
        "from nltk.corpus import stopwords\n",
        "from nltk.stem import WordNetLemmatizer\n",
        "import string\n",
        "\n",
        "# Descargar tokenizador punkt\n",
        "nltk.download('punkt_tab')\n",
        "nltk.download(\"punkt\")\n",
        "# Descargar la red de semántica del inglés WordNet\n",
        "# Es una extensa red semántica que puede usarse (entre otras cosas)\n",
        "# para hacer POS tagging o lematizar.\n",
        "nltk.download(\"wordnet\")\n",
        "# Descargar diccionario de stopwords del inglés\n",
        "nltk.download('stopwords')\n",
        "# Para usar NLTK 3.6.6 o superior es necesario instalar OMW 1.4\n",
        "# (Open Multilingual WordNet)\n",
        "nltk.download('omw-1.4')\n"
      ],
      "metadata": {
        "colab": {
          "base_uri": "https://localhost:8080/"
        },
        "id": "1bTWTWqnUzU-",
        "outputId": "0702d56b-872e-4d67-b7bf-db9cc1c150f7"
      },
      "execution_count": 11,
      "outputs": [
        {
          "output_type": "stream",
          "name": "stderr",
          "text": [
            "[nltk_data] Downloading package punkt_tab to /root/nltk_data...\n",
            "[nltk_data]   Package punkt_tab is already up-to-date!\n",
            "[nltk_data] Downloading package punkt to /root/nltk_data...\n",
            "[nltk_data]   Package punkt is already up-to-date!\n",
            "[nltk_data] Downloading package wordnet to /root/nltk_data...\n",
            "[nltk_data]   Package wordnet is already up-to-date!\n",
            "[nltk_data] Downloading package stopwords to /root/nltk_data...\n",
            "[nltk_data]   Package stopwords is already up-to-date!\n",
            "[nltk_data] Downloading package omw-1.4 to /root/nltk_data...\n",
            "[nltk_data]   Package omw-1.4 is already up-to-date!\n"
          ]
        },
        {
          "output_type": "execute_result",
          "data": {
            "text/plain": [
              "True"
            ]
          },
          "metadata": {},
          "execution_count": 11
        }
      ]
    },
    {
      "cell_type": "code",
      "source": [
        "def nltk_process(text, debug=False):\n",
        "    # Tokenization\n",
        "    nltk_tokenList = word_tokenize(text)\n",
        "\n",
        "    # Lemmatization\n",
        "    lemmatizer = WordNetLemmatizer()\n",
        "    nltk_lemmaList = [lemmatizer.lemmatize(word, pos='v') for word in nltk_tokenList]  # Specify 'v' for verbs (was turning 'was' to 'wa')\n",
        "\n",
        "\n",
        "    if debug:\n",
        "      print(\"Lemmatization\")\n",
        "      print(nltk_lemmaList[:50])\n",
        "\n",
        "    # Stop words\n",
        "    nltk_stop_words = set(stopwords.words(\"english\"))\n",
        "    filtered_sentence = [w for w in nltk_lemmaList if w not in nltk_stop_words]\n",
        "\n",
        "    # # Filter Punctuation <-- ya filtrado\n",
        "    filtered_sentence = [w for w in filtered_sentence if w not in string.punctuation]\n",
        "\n",
        "    if debug:\n",
        "      print(\" \")\n",
        "      print(\"Remove stopword & Punctuation\")\n",
        "      print(filtered_sentence[:50])\n",
        "    return \" \".join(filtered_sentence)"
      ],
      "metadata": {
        "id": "u8iFTxnAbs4I"
      },
      "execution_count": 12,
      "outputs": []
    },
    {
      "cell_type": "code",
      "source": [
        "with open('dataset_nltk_preprocessed.txt', 'w') as f:\n",
        "  nltk_preprocessed_text = nltk_process(preprocessed_text, debug=True)\n",
        "  f.write(nltk_preprocessed_text)"
      ],
      "metadata": {
        "id": "H6We-eJZ7i-U",
        "colab": {
          "base_uri": "https://localhost:8080/"
        },
        "outputId": "a693bef1-c942-486f-ff56-ed790c3d3996"
      },
      "execution_count": 13,
      "outputs": [
        {
          "output_type": "stream",
          "name": "stdout",
          "text": [
            "Lemmatization\n",
            "['a', 'scandal', 'in', 'bohemia', 'to', 'sherlock', 'holmes', 'she', 'be', 'always', 'the', 'woman', '.', 'i', 'have', 'seldom', 'hear', 'him', 'mention', 'her', 'under', 'any', 'other', 'name', '.', 'in', 'his', 'eye', 'she', 'eclipse', 'and', 'predominate', 'the', 'whole', 'of', 'her', 'sex', '.', 'it', 'be', 'not', 'that', 'he', 'felt', 'any', 'emotion', 'akin', 'to', 'love', 'for']\n",
            " \n",
            "Remove stopword & Punctuation\n",
            "['scandal', 'bohemia', 'sherlock', 'holmes', 'always', 'woman', 'seldom', 'hear', 'mention', 'name', 'eye', 'eclipse', 'predominate', 'whole', 'sex', 'felt', 'emotion', 'akin', 'love', 'irene', 'adler', 'emotions', 'one', 'particularly', 'abhorrent', 'cold', 'precise', 'admirably', 'balance', 'mind', 'take', 'perfect', 'reason', 'observe', 'machine', 'world', 'see', 'lover', 'would', 'place', 'false', 'position', 'never', 'speak', 'softer', 'passions', 'save', 'gibe', 'sneer', 'admirable']\n"
          ]
        }
      ]
    },
    {
      "cell_type": "markdown",
      "source": [
        "## 1 - Preprocesamiento"
      ],
      "metadata": {
        "id": "cjlZz6kqZexn"
      }
    },
    {
      "cell_type": "code",
      "source": [
        "df_text[\"content\"] = df_text[\"content\"].apply(preprocess_sherlock)\n",
        "df_text[\"content\"] = df_text[\"content\"].apply(nltk_process)\n",
        "df_text.head()"
      ],
      "metadata": {
        "colab": {
          "base_uri": "https://localhost:8080/",
          "height": 206
        },
        "id": "FOA_1YbMpjLo",
        "outputId": "644502f3-c67b-43f7-c108-e94f9290b49a"
      },
      "execution_count": 14,
      "outputs": [
        {
          "output_type": "execute_result",
          "data": {
            "text/plain": [
              "                       chapter  \\\n",
              "0         A SCANDAL IN BOHEMIA   \n",
              "1        THE RED-HEADED LEAGUE   \n",
              "2           A CASE OF IDENTITY   \n",
              "3  THE BOSCOMBE VALLEY MYSTERY   \n",
              "4         THE FIVE ORANGE PIPS   \n",
              "\n",
              "                                             content  \n",
              "0  scandal bohemia sherlock holmes always woman s...  \n",
              "1  red head league call upon friend mr. sherlock ...  \n",
              "2  case identity dear fellow say sherlock holmes ...  \n",
              "3  boscombe valley mystery seat breakfast one mor...  \n",
              "4  five orange pip glance note record sherlock ho...  "
            ],
            "text/html": [
              "\n",
              "  <div id=\"df-f6157f88-855a-49f6-9cac-83315149bd77\" class=\"colab-df-container\">\n",
              "    <div>\n",
              "<style scoped>\n",
              "    .dataframe tbody tr th:only-of-type {\n",
              "        vertical-align: middle;\n",
              "    }\n",
              "\n",
              "    .dataframe tbody tr th {\n",
              "        vertical-align: top;\n",
              "    }\n",
              "\n",
              "    .dataframe thead th {\n",
              "        text-align: right;\n",
              "    }\n",
              "</style>\n",
              "<table border=\"1\" class=\"dataframe\">\n",
              "  <thead>\n",
              "    <tr style=\"text-align: right;\">\n",
              "      <th></th>\n",
              "      <th>chapter</th>\n",
              "      <th>content</th>\n",
              "    </tr>\n",
              "  </thead>\n",
              "  <tbody>\n",
              "    <tr>\n",
              "      <th>0</th>\n",
              "      <td>A SCANDAL IN BOHEMIA</td>\n",
              "      <td>scandal bohemia sherlock holmes always woman s...</td>\n",
              "    </tr>\n",
              "    <tr>\n",
              "      <th>1</th>\n",
              "      <td>THE RED-HEADED LEAGUE</td>\n",
              "      <td>red head league call upon friend mr. sherlock ...</td>\n",
              "    </tr>\n",
              "    <tr>\n",
              "      <th>2</th>\n",
              "      <td>A CASE OF IDENTITY</td>\n",
              "      <td>case identity dear fellow say sherlock holmes ...</td>\n",
              "    </tr>\n",
              "    <tr>\n",
              "      <th>3</th>\n",
              "      <td>THE BOSCOMBE VALLEY MYSTERY</td>\n",
              "      <td>boscombe valley mystery seat breakfast one mor...</td>\n",
              "    </tr>\n",
              "    <tr>\n",
              "      <th>4</th>\n",
              "      <td>THE FIVE ORANGE PIPS</td>\n",
              "      <td>five orange pip glance note record sherlock ho...</td>\n",
              "    </tr>\n",
              "  </tbody>\n",
              "</table>\n",
              "</div>\n",
              "    <div class=\"colab-df-buttons\">\n",
              "\n",
              "  <div class=\"colab-df-container\">\n",
              "    <button class=\"colab-df-convert\" onclick=\"convertToInteractive('df-f6157f88-855a-49f6-9cac-83315149bd77')\"\n",
              "            title=\"Convert this dataframe to an interactive table.\"\n",
              "            style=\"display:none;\">\n",
              "\n",
              "  <svg xmlns=\"http://www.w3.org/2000/svg\" height=\"24px\" viewBox=\"0 -960 960 960\">\n",
              "    <path d=\"M120-120v-720h720v720H120Zm60-500h600v-160H180v160Zm220 220h160v-160H400v160Zm0 220h160v-160H400v160ZM180-400h160v-160H180v160Zm440 0h160v-160H620v160ZM180-180h160v-160H180v160Zm440 0h160v-160H620v160Z\"/>\n",
              "  </svg>\n",
              "    </button>\n",
              "\n",
              "  <style>\n",
              "    .colab-df-container {\n",
              "      display:flex;\n",
              "      gap: 12px;\n",
              "    }\n",
              "\n",
              "    .colab-df-convert {\n",
              "      background-color: #E8F0FE;\n",
              "      border: none;\n",
              "      border-radius: 50%;\n",
              "      cursor: pointer;\n",
              "      display: none;\n",
              "      fill: #1967D2;\n",
              "      height: 32px;\n",
              "      padding: 0 0 0 0;\n",
              "      width: 32px;\n",
              "    }\n",
              "\n",
              "    .colab-df-convert:hover {\n",
              "      background-color: #E2EBFA;\n",
              "      box-shadow: 0px 1px 2px rgba(60, 64, 67, 0.3), 0px 1px 3px 1px rgba(60, 64, 67, 0.15);\n",
              "      fill: #174EA6;\n",
              "    }\n",
              "\n",
              "    .colab-df-buttons div {\n",
              "      margin-bottom: 4px;\n",
              "    }\n",
              "\n",
              "    [theme=dark] .colab-df-convert {\n",
              "      background-color: #3B4455;\n",
              "      fill: #D2E3FC;\n",
              "    }\n",
              "\n",
              "    [theme=dark] .colab-df-convert:hover {\n",
              "      background-color: #434B5C;\n",
              "      box-shadow: 0px 1px 3px 1px rgba(0, 0, 0, 0.15);\n",
              "      filter: drop-shadow(0px 1px 2px rgba(0, 0, 0, 0.3));\n",
              "      fill: #FFFFFF;\n",
              "    }\n",
              "  </style>\n",
              "\n",
              "    <script>\n",
              "      const buttonEl =\n",
              "        document.querySelector('#df-f6157f88-855a-49f6-9cac-83315149bd77 button.colab-df-convert');\n",
              "      buttonEl.style.display =\n",
              "        google.colab.kernel.accessAllowed ? 'block' : 'none';\n",
              "\n",
              "      async function convertToInteractive(key) {\n",
              "        const element = document.querySelector('#df-f6157f88-855a-49f6-9cac-83315149bd77');\n",
              "        const dataTable =\n",
              "          await google.colab.kernel.invokeFunction('convertToInteractive',\n",
              "                                                    [key], {});\n",
              "        if (!dataTable) return;\n",
              "\n",
              "        const docLinkHtml = 'Like what you see? Visit the ' +\n",
              "          '<a target=\"_blank\" href=https://colab.research.google.com/notebooks/data_table.ipynb>data table notebook</a>'\n",
              "          + ' to learn more about interactive tables.';\n",
              "        element.innerHTML = '';\n",
              "        dataTable['output_type'] = 'display_data';\n",
              "        await google.colab.output.renderOutput(dataTable, element);\n",
              "        const docLink = document.createElement('div');\n",
              "        docLink.innerHTML = docLinkHtml;\n",
              "        element.appendChild(docLink);\n",
              "      }\n",
              "    </script>\n",
              "  </div>\n",
              "\n",
              "\n",
              "<div id=\"df-ce9e1215-d929-4200-aeb6-a7b6f03cd1d8\">\n",
              "  <button class=\"colab-df-quickchart\" onclick=\"quickchart('df-ce9e1215-d929-4200-aeb6-a7b6f03cd1d8')\"\n",
              "            title=\"Suggest charts\"\n",
              "            style=\"display:none;\">\n",
              "\n",
              "<svg xmlns=\"http://www.w3.org/2000/svg\" height=\"24px\"viewBox=\"0 0 24 24\"\n",
              "     width=\"24px\">\n",
              "    <g>\n",
              "        <path d=\"M19 3H5c-1.1 0-2 .9-2 2v14c0 1.1.9 2 2 2h14c1.1 0 2-.9 2-2V5c0-1.1-.9-2-2-2zM9 17H7v-7h2v7zm4 0h-2V7h2v10zm4 0h-2v-4h2v4z\"/>\n",
              "    </g>\n",
              "</svg>\n",
              "  </button>\n",
              "\n",
              "<style>\n",
              "  .colab-df-quickchart {\n",
              "      --bg-color: #E8F0FE;\n",
              "      --fill-color: #1967D2;\n",
              "      --hover-bg-color: #E2EBFA;\n",
              "      --hover-fill-color: #174EA6;\n",
              "      --disabled-fill-color: #AAA;\n",
              "      --disabled-bg-color: #DDD;\n",
              "  }\n",
              "\n",
              "  [theme=dark] .colab-df-quickchart {\n",
              "      --bg-color: #3B4455;\n",
              "      --fill-color: #D2E3FC;\n",
              "      --hover-bg-color: #434B5C;\n",
              "      --hover-fill-color: #FFFFFF;\n",
              "      --disabled-bg-color: #3B4455;\n",
              "      --disabled-fill-color: #666;\n",
              "  }\n",
              "\n",
              "  .colab-df-quickchart {\n",
              "    background-color: var(--bg-color);\n",
              "    border: none;\n",
              "    border-radius: 50%;\n",
              "    cursor: pointer;\n",
              "    display: none;\n",
              "    fill: var(--fill-color);\n",
              "    height: 32px;\n",
              "    padding: 0;\n",
              "    width: 32px;\n",
              "  }\n",
              "\n",
              "  .colab-df-quickchart:hover {\n",
              "    background-color: var(--hover-bg-color);\n",
              "    box-shadow: 0 1px 2px rgba(60, 64, 67, 0.3), 0 1px 3px 1px rgba(60, 64, 67, 0.15);\n",
              "    fill: var(--button-hover-fill-color);\n",
              "  }\n",
              "\n",
              "  .colab-df-quickchart-complete:disabled,\n",
              "  .colab-df-quickchart-complete:disabled:hover {\n",
              "    background-color: var(--disabled-bg-color);\n",
              "    fill: var(--disabled-fill-color);\n",
              "    box-shadow: none;\n",
              "  }\n",
              "\n",
              "  .colab-df-spinner {\n",
              "    border: 2px solid var(--fill-color);\n",
              "    border-color: transparent;\n",
              "    border-bottom-color: var(--fill-color);\n",
              "    animation:\n",
              "      spin 1s steps(1) infinite;\n",
              "  }\n",
              "\n",
              "  @keyframes spin {\n",
              "    0% {\n",
              "      border-color: transparent;\n",
              "      border-bottom-color: var(--fill-color);\n",
              "      border-left-color: var(--fill-color);\n",
              "    }\n",
              "    20% {\n",
              "      border-color: transparent;\n",
              "      border-left-color: var(--fill-color);\n",
              "      border-top-color: var(--fill-color);\n",
              "    }\n",
              "    30% {\n",
              "      border-color: transparent;\n",
              "      border-left-color: var(--fill-color);\n",
              "      border-top-color: var(--fill-color);\n",
              "      border-right-color: var(--fill-color);\n",
              "    }\n",
              "    40% {\n",
              "      border-color: transparent;\n",
              "      border-right-color: var(--fill-color);\n",
              "      border-top-color: var(--fill-color);\n",
              "    }\n",
              "    60% {\n",
              "      border-color: transparent;\n",
              "      border-right-color: var(--fill-color);\n",
              "    }\n",
              "    80% {\n",
              "      border-color: transparent;\n",
              "      border-right-color: var(--fill-color);\n",
              "      border-bottom-color: var(--fill-color);\n",
              "    }\n",
              "    90% {\n",
              "      border-color: transparent;\n",
              "      border-bottom-color: var(--fill-color);\n",
              "    }\n",
              "  }\n",
              "</style>\n",
              "\n",
              "  <script>\n",
              "    async function quickchart(key) {\n",
              "      const quickchartButtonEl =\n",
              "        document.querySelector('#' + key + ' button');\n",
              "      quickchartButtonEl.disabled = true;  // To prevent multiple clicks.\n",
              "      quickchartButtonEl.classList.add('colab-df-spinner');\n",
              "      try {\n",
              "        const charts = await google.colab.kernel.invokeFunction(\n",
              "            'suggestCharts', [key], {});\n",
              "      } catch (error) {\n",
              "        console.error('Error during call to suggestCharts:', error);\n",
              "      }\n",
              "      quickchartButtonEl.classList.remove('colab-df-spinner');\n",
              "      quickchartButtonEl.classList.add('colab-df-quickchart-complete');\n",
              "    }\n",
              "    (() => {\n",
              "      let quickchartButtonEl =\n",
              "        document.querySelector('#df-ce9e1215-d929-4200-aeb6-a7b6f03cd1d8 button');\n",
              "      quickchartButtonEl.style.display =\n",
              "        google.colab.kernel.accessAllowed ? 'block' : 'none';\n",
              "    })();\n",
              "  </script>\n",
              "</div>\n",
              "\n",
              "    </div>\n",
              "  </div>\n"
            ],
            "application/vnd.google.colaboratory.intrinsic+json": {
              "type": "dataframe",
              "variable_name": "df_text",
              "summary": "{\n  \"name\": \"df_text\",\n  \"rows\": 12,\n  \"fields\": [\n    {\n      \"column\": \"chapter\",\n      \"properties\": {\n        \"dtype\": \"string\",\n        \"num_unique_values\": 12,\n        \"samples\": [\n          \"THE ADVENTURE OF THE BERYL CORONET\",\n          \"THE ADVENTURE OF THE NOBLE BACHELOR\",\n          \"A SCANDAL IN BOHEMIA\"\n        ],\n        \"semantic_type\": \"\",\n        \"description\": \"\"\n      }\n    },\n    {\n      \"column\": \"content\",\n      \"properties\": {\n        \"dtype\": \"string\",\n        \"num_unique_values\": 12,\n        \"samples\": [\n          \"adventure beryl coronet holmes say stand one morning bow window look street madman come along seem rather sad relatives allow come alone friend rise lazily armchair stand hand pocket dress gown look shoulder bright crisp february morning snow day still lay deep upon grind shimmer brightly wintry sun centre baker street plough brown crumbly band traffic either side heap edge footpaths still lay white fell grey pavement clean scrap still dangerously slippery fewer passengers usual indeed direction metropolitan station one come save single gentleman whose eccentric conduct draw attention man fifty tall portly impose massive strongly mark face command figure dress sombre yet rich style black frock coat shin hat neat brown gaiters well cut pearl grey trousers yet action absurd contrast dignity dress feature run hard occasional little spring weary man give little accustom set tax upon legs run jerk hand waggle head writhe face extraordinary contortions earth matter ask look number house believe come say holmes rub hand yes rather think come consult professionally think recognise symptoms ha tell speak man puff blow rush door pull bell whole house resound clang moments later room still puff still gesticulate fix look grief despair eye smile turn instant horror pity could get word sway body pluck hair like one drive extreme limit reason suddenly spring feet beat head wall force rush upon tear away centre room sherlock holmes push easy chair sit beside pat hand chat easy soothe tone know well employ come tell story say fatigue haste pray wait recover shall happy look little problem may submit man sit minute heave chest fight emotion pass handkerchief brow set lips tight turn face towards us doubt think mad say see great trouble respond holmes god know trouble enough unseat reason sudden terrible public disgrace might face although man whose character never yet bear stain private affliction also lot every man two come together frightful form enough shake soul besides alone noblest land may suffer unless way find horrible affair pray compose sir say holmes let clear account befall name answer visitor probably familiar ears alexander holder bank firm holder stevenson threadneedle street name indeed well know us belong senior partner second largest private bank concern city london could happen bring one foremost citizens london pitiable pass wait curiosity another effort brace tell story feel time value say hasten police inspector suggest secure co operation come baker street underground hurry foot cab go slowly snow breath man take little exercise feel better put facts shortly yet clearly course well know successful bank business much depend upon able find remunerative investments fund upon increase connection number depositors one lucrative mean lay money shape loan security unimpeachable good deal direction last years many noble families advance large sum upon security picture libraries plate yesterday morning seat office bank card bring one clerk start saw name none well perhaps even better say name household word earth one highest noblest exalt name england overwhelm honour attempt enter say plunge business air man wish hurry quickly disagreeable task mr. holder say inform habit advance money firm security good answer absolutely essential say \\u00a3 50,000 could course borrow trifle sum ten time friends much prefer make matter business carry business position readily understand unwise place ones self obligations long may ask want sum ask next monday large sum due shall certainly repay advance whatever interest think right charge essential money pay happy advance without parley private purse say strain would rather could bear hand name firm justice partner must insist even case every businesslike precaution take much prefer say raise square black morocco case lay beside chair doubtless hear beryl coronet one precious public possessions empire say i. precisely open case imbed soft flesh colour velvet lay magnificent piece jewellery name thirty nine enormous beryls say price gold chase incalculable lowest estimate would put worth coronet double sum ask prepare leave security take precious case hand look perplexity illustrious client doubt value ask doubt propriety leave may set mind rest dream absolutely certain able four days reclaim pure matter form security sufficient ample understand mr. holder give strong proof confidence found upon hear rely upon discreet refrain gossip upon matter preserve coronet every possible precaution need say great public scandal would cause harm befall injury would almost serious complete loss beryls world match would impossible replace leave however every confidence shall call person monday morning see client anxious leave say call cashier order pay fifty \\u00a3 1000 note alone however precious case lie upon table front could think misgivings immense responsibility entail upon could doubt national possession horrible scandal would ensue misfortune occur already regret ever consent take charge however late alter matter lock private safe turn work even come felt would imprudence leave precious thing office behind bankers safes force mine terrible would position find determine therefore next days would always carry case backward forward might never really reach intention call cab drive house streatham carry jewel breathe freely take upstairs lock bureau dress room word household mr. holmes wish thoroughly understand situation groom page sleep house may set aside altogether three maid servants number years whose absolute reliability quite suspicion another lucy parr second wait maid service months come excellent character however always give satisfaction pretty girl attract admirers occasionally hang place drawback find believe thoroughly good girl every way much servants family small take long describe widower son arthur disappointment mr. holmes grievous disappointment doubt blame people tell spoil likely dear wife die felt love could bear see smile fade even moment face never deny wish perhaps would better us sterner mean best naturally intention succeed business business turn wild wayward speak truth could trust handle large sum money young become member aristocratic club charm manners soon intimate number men long purse expensive habit learn play heavily card squander money turf come implore give advance upon allowance might settle debts honour try break away dangerous company keep time influence friend sir george burnwell enough draw back indeed could wonder man sir george burnwell gain influence frequently bring house find could hardly resist fascination manner older arthur man world finger tip one everywhere see everything brilliant talker man great personal beauty yet think cold blood far away glamour presence convince cynical speech look catch eye one deeply distrust think think little mary womans quick insight character describe niece brother die five years ago leave alone world adopt look upon ever since daughter sunbeam house sweet love beautiful wonderful manager housekeeper yet tender quiet gentle woman could right hand know could without one matter ever go wish twice boy ask marry love devotedly time refuse think anyone could draw right path would marriage might change whole life alas late forever late mr. holmes know people live roof shall continue miserable story take coffee draw room night dinner tell arthur mary experience precious treasure roof suppress name client lucy parr bring coffee sure leave room swear door close mary arthur much interest wish see famous coronet think better disturb put ask arthur bureau well hope goodness house burgle night say lock answer oh old key fit bureau youngster open key box room cupboard often wild way talk think little say follow room however night grave face look dad say eye cast let \\u00a3 200 answer sharply far generous money matter kind say must money else never show face inside club good thing cry yes would leave dishonour man say could bear disgrace must raise money way let must try mean angry third demand month shall farthing cry bow leave room without another word go unlock bureau make sure treasure safe lock start go round house see secure duty usually leave mary think well perform night come stairs saw mary side window hall close fasten approach tell dad say look think little disturb give lucy maid leave go night certainly come back door doubt side gate see someone think hardly safe stop must speak morning prefer sure everything fasten quite sure dad good night kiss go bedroom soon asleep endeavour tell everything mr. holmes may bear upon case beg question upon point make clear contrary statement singularly lucid come part story wish particularly heavy sleeper anxiety mind tend doubt make even less usual two morning awaken sound house cease ere wide awake leave impression behind though window gently close somewhere lay listen ears suddenly horror distinct sound footsteps move softly next room slip bed palpitate fear peep round corner dress room door arthur scream villain thief dare touch coronet gas half leave unhappy boy dress shirt trousers stand beside light hold coronet hand appear wrench bend strength cry drop grasp turn pale death snatch examine one gold corner three beryls miss blackguard shout beside rage destroy dishonour forever jewel steal steal cry yes thief roar shake shoulder none miss miss say three miss know must call liar well thief see try tear another piece call name enough say stand longer shall say another word business since choose insult leave house morning make way world shall leave hand police cry half mad grief rage shall matter probe bottom shall learn nothing say passion think nature choose call police let police find time whole house astir raise voice anger mary first rush room sight coronet arthurs face read whole story scream fell senseless grind send housemaid police put investigation hand inspector constable enter house arthur stand sullenly arm fold ask whether intention charge theft answer cease private matter become public one since ruin coronet national property determine law way everything least say arrest would advantage well mine might leave house five minutes may get away perhaps may conceal steal say i. realise dreadful position place implore remember honour one far greater stake threaten raise scandal would convulse nation might avert would tell three miss stone may well face matter say catch act confession could make guilt heinous make reparation power tell us beryls shall forgive forget keep forgiveness ask answer turn away sneer saw harden word mine influence one way call inspector give custody search make person room every portion house could possibly conceal gems trace could find would wretched boy open mouth persuasions threats morning remove cell go police formalities hurry round implore use skill unravel matter police openly confess present make nothing may go expense think necessary already offer reward \\u00a3 1000. god shall lose honour gems son one night oh shall put hand either side head rock fro drone like child whose grief get beyond word sherlock holmes sit silent minutes brows knit eye fix upon fire receive much company ask none save partner family occasional friend arthurs sir george burnwell several time lately one else think go much society arthur mary stay home neither us care unusual young girl quiet nature besides young four twenty matter say seem shock also terrible even affect i. neither doubt sons guilt saw eye coronet hand hardly consider conclusive proof remainder coronet injure yes twist think might try straighten god bless heavy task purpose innocent say precisely guilty invent lie silence appear cut ways several singular point case police think noise awake sleep consider might cause arthurs close bedroom door likely story man bend felony would slam door wake household say disappearance gems still sound plank probe furniture hope find think look outside house yes show extraordinary energy whole garden already minutely examine dear sir say holmes obvious matter really strike much deeper either police first incline think appear simple case seem exceedingly complex consider involve theory suppose son come bed go great risk dress room open bureau take coronet break main force small portion go place conceal three gems thirty nine skill nobody find return thirty six room expose greatest danger discover ask theory tenable cry banker gesture despair motives innocent explain task find reply holmes please mr. holder set streatham together devote hour glance little closely detail friend insist upon accompany expedition eager enough curiosity sympathy deeply stir story listen confess guilt bankers son appear obvious unhappy father still faith holmes judgment felt must ground hope long dissatisfy accept explanation hardly speak word whole way southern suburb sit chin upon breast hat draw eye sink deepest think client appear take fresh heart little glimpse hope present even break desultory chat business affairs short railway journey shorter walk bring us fairbank modest residence great financier fairbank good size square house white stone stand back little road double carriage sweep snow clothe lawn stretch front two large iron gate close entrance right side small wooden thicket lead narrow path two neat hedge stretch road kitchen door form tradesmens entrance leave run lane lead stable within ground public though little use thoroughfare holmes leave us stand door walk slowly round house across front tradesmens path round garden behind stable lane long mr. holder go din room wait fire return sit silence door open young lady come rather middle height slim dark hair eye seem darker absolute pallor skin think ever see deadly paleness womans face lips bloodless eye flush cry sweep silently room impress greater sense grief banker morning strike evidently woman strong character immense capacity self restraint disregard presence go straight uncle pass hand head sweet womanly caress give order arthur liberate dad ask girl matter must probe bottom sure innocent know womans instincts know harm sorry act harshly silent innocent know perhaps angry suspect could help suspect actually saw coronet hand oh pick look oh take word innocent let matter drop say dreadful think dear arthur prison shall never let drop gems find never mary affection arthur blind awful consequences far hush thing bring gentleman london inquire deeply gentleman ask face round friend wish us leave alone round stable lane stable lane raise dark eyebrows hope find ah suppose trust sir succeed prove feel sure truth cousin arthur innocent crime fully share opinion trust may prove return holmes go back mat knock snow shoe believe honour address miss mary holder might ask question two pray sir may help clear horrible affair hear nothing last night nothing uncle begin speak loudly hear come shut windows doors night fasten windows yes fasten morning yes maid sweetheart think remark uncle last night see yes girl wait draw room may hear uncles remark coronet see infer may go tell sweetheart two may plan robbery good vague theories cry banker impatiently tell saw arthur coronet hand wait little mr. holder must come back girl miss holder saw return kitchen door presume yes go see door fasten night meet slip saw man gloom know oh yes greengrocer bring vegetables round name francis prosper stand say holmes leave door say farther path necessary reach door yes man wooden leg something like fear spring young ladys expressive black eye like magician say know smile answer smile holmes thin eager face glad go upstairs say shall probably wish go outside house perhaps better take look lower windows go walk swiftly round one pause large one look hall onto stable lane open make careful examination sill powerful magnify lens shall go upstairs say last bankers dress room plainly furnish little chamber grey carpet large bureau long mirror holmes go bureau first look hard lock key use open ask son indicate cupboard lumber room dress table sherlock holmes take open bureau noiseless lock say wonder wake case presume contain coronet must look open case take diadem lay upon table magnificent specimen jewellers art thirty six stone finest ever see one side coronet crack edge corner hold three gems tear away mr. holder say holmes corner correspond unfortunately lose might beg break banker recoil horror dream try say holmes suddenly bend strength upon without result feel give little say though exceptionally strong finger would take time break ordinary man could think would happen break mr. holder would noise like pistol shoot tell happen within yards bed hear nothing know think dark perhaps may grow lighter go think miss holder confess still share uncles perplexity son shoe slippers saw nothing save trousers shirt thank certainly favour extraordinary luck inquiry entirely fault succeed clear matter permission mr. holder shall continue investigations outside go alone request explain unnecessary footmarks might make task difficult hour work return last feet heavy snow feature inscrutable ever think see see mr. holder say serve best return room gems mr. holmes tell banker wring hand shall never see cry son give hop opinion way alter gods sake dark business act house last night call upon baker street room morrow morning nine ten shall happy make clearer understand give carte blanche act provide get back gems place limit sum may draw would give fortune back good shall look matter good bye possible may come even obvious companion mind make case although conclusions could even dimly imagine several time homeward journey endeavour sound upon point always glide away topic last give despair yet three find room hurry chamber minutes dress common loafer collar turn shiny seedy coat red cravat wear boot perfect sample class think say glance glass fireplace wish could come watson fear may trail matter may follow wisp shall soon know hope may back hours cut slice beef joint upon sideboard sandwich two round bread thrust rude meal pocket start upon expedition finish tea return evidently excellent spirit swing old elastic side boot hand chuck corner help cup tea look pass say go right oh side west end may time get back wait case late get oh nothing complain streatham since saw last call house sweet little problem would miss good deal however must sit gossip must get disreputable clothe return highly respectable self could see manner stronger reason satisfaction word alone would imply eye twinkle even touch colour upon sallow cheek hasten upstairs minutes later hear slam hall door tell upon congenial hunt wait midnight sign return retire room uncommon thing away days nights end hot upon scent lateness cause surprise know hour come come breakfast morning cup coffee one hand paper fresh trim possible excuse begin without watson say remember client rather early appointment morning nine answer surprise think hear ring indeed friend financier shock change come face naturally broad massive mould pinch fall hair seem least shade whiter enter weariness lethargy even painful violence morning drop heavily armchair push forward know severely try say two days ago happy prosperous man without care world leave lonely dishonour age one sorrow come close upon heel another niece mary desert desert yes bed morning sleep room empty note lay upon hall table say last night sorrow anger marry boy might well perhaps thoughtless say remark refer note dearest uncle feel bring trouble upon act differently terrible misfortune might never occur think mind ever happy roof feel must leave forever worry future provide search fruitless labour ill service life death ever love mary could mean note mr. holmes think point suicide nothing kind perhaps best possible solution trust mr. holder near end trouble ha say hear something mr. holmes learn something gems would think \\u00a3 1000 apiece excessive sum would pay ten would unnecessary three thousand cover matter little reward fancy cheque book pen better make \\u00a3 4000. daze face banker make require check holmes walk desk take little triangular piece gold three gems throw upon table shriek joy client clutch gasp save save reaction joy passionate grief hug recover gems bosom one thing owe mr. holder say sherlock holmes rather sternly owe catch pen name sum pay debt owe humble apology noble lad son carry matter proud see son ever chance one arthur take tell yesterday repeat day sure let us hurry let know truth know know already clear interview find would tell story tell confess right add detail yet quite clear news morning however may open lips heavens sake tell extraordinary mystery show step reach let say first hardest say hear understand sir george burnwell niece mary flee together mary impossible unfortunately possible certain neither son know true character man admit family circle one dangerous men england ruin gambler absolutely desperate villain man without heart conscience niece know nothing men breathe vow hundred flatter alone touch heart devil know best say least become tool habit see nearly every even believe cry banker ashen face tell occur house last night niece think go room slip talk lover window lead stable lane footmarks press right snow long stand tell coronet wicked lust gold kindle news bend doubt love women love lover extinguish love think must one hardly listen instructions saw come downstairs close window rapidly tell one servants escapade wooden legged lover perfectly true boy arthur go bed interview sleep badly account uneasiness club debts middle night hear soft tread pass door rise look surprise see cousin walk stealthily along passage disappear dress room petrify astonishment lad slip clothe wait dark see would come strange affair presently emerge room light passage lamp son saw carry precious coronet hand pass stairs thrill horror run along slip behind curtain near door whence could see pass hall beneath saw stealthily open window hand coronet someone gloom close hurry back room pass quite close stand hide behind curtain long scene could take action without horrible exposure woman love instant go realise crush misfortune would important set right rush bare feet open window spring snow run lane could see dark figure moonlight sir george burnwell try get away arthur catch struggle lad tug one side coronet opponent scuffle son strike sir george cut eye something suddenly snap son find coronet hand rush back close window ascend room observe coronet twist struggle endeavour straighten appear upon scene possible gasp banker rouse anger call name moment felt deserve warmest thank could explain true state affairs without betray one certainly deserve little enough consideration hand take chivalrous view however preserve secret shriek faint saw coronet cry mr. holder oh god blind fool ask allow go five minutes dear fellow want see miss piece scene struggle cruelly misjudge arrive house continue holmes go carefully round observe trace snow might help know none fall since even also strong frost preserve impressions pass along tradesmens path find trample indistinguishable beyond however far side kitchen door woman stand talk man whose round impressions one side show wooden leg could even tell disturb woman run back swiftly door show deep toe light heel mark wooden leg wait little go away think time might maid sweetheart already speak inquiry show pass round garden without see anything random track take police get stable lane long complex story write snow front double line track boot man second double line saw delight belong man naked feet convince tell latter son first walk ways run swiftly tread mark place depression boot obvious pass follow find lead hall window boot wear snow away wait walk end hundred yards lane saw boot face round snow cut though struggle finally drop blood fall show mistake boot run lane another little smudge blood show hurt come high road end find pavement clear end clue enter house however examine remember sill framework hall window lens could see someone pass could distinguish outline instep wet foot place come begin able form opinion occur man wait outside window someone bring gems deed oversee son pursue thief struggle tug coronet unite strength cause injuries neither alone could effect return prize leave fragment grasp opponent far clear question man bring coronet old maxim mine exclude impossible whatever remain however improbable must truth know bring remain niece maids maids son allow accuse place could possible reason love cousin however excellent explanation retain secret secret disgraceful one remember see window faint see coronet conjecture become certainty could confederate lover evidently else could outweigh love gratitude must feel know go little circle friends limit one among sir george burnwell hear man evil reputation among women must wear boot retain miss gems even though know arthur discover might still flatter safe lad could say word without compromise family well good sense suggest measure take next go shape loafer sir georges house manage pick acquaintance valet learn master cut head night finally expense six shillings make sure buy pair cast shoe journey streatham saw exactly fit track saw ill dress vagabond lane yesterday even say mr. holder precisely i. find man come home change clothe delicate part play saw prosecution must avoid avert scandal know astute villain would see hand tie matter go saw first course deny everything give every particular occur try bluster take life preserver wall know man however clap pistol head could strike become little reasonable tell would give price stone hold \\u00a3 1000 apiece bring first sign grief show dash say let go six hundred three soon manage get address receiver promise would prosecution set much chaffer get stone \\u00a3 1000 apiece look upon son tell right eventually get bed two clock may call really hard days work day save england great public scandal say banker rise sir find word thank shall find ungrateful skill indeed exceed hear must fly dear boy apologise wrong tell poor mary go heart even skill inform think may safely say return holmes wherever sir george burnwell equally certain whatever sin soon receive sufficient punishment\",\n          \"adventure noble bachelor lord st. simon marriage curious termination long cease subject interest exalt circle unfortunate bridegroom move fresh scandals eclipse piquant detail draw gossip away four year old drama reason believe however full facts never reveal general public friend sherlock holmes considerable share clear matter feel memoir would complete without little sketch remarkable episode weeks marriage days still share room holmes baker street come home afternoon stroll find letter table wait remain indoors day weather take sudden turn rain high autumnal wind jezail bullet bring back one limbs relic afghan campaign throb dull persistence body one easy chair legs upon another surround cloud newspapers last saturate news day toss aside lay listless watch huge crest monogram upon envelope upon table wonder lazily friends noble correspondent could fashionable epistle remark enter morning letter remember right fish monger tide waiter yes correspondence certainly charm variety answer smile humbler usually interest look like one unwelcome social summons call upon man either bore lie break seal glance content oh come may prove something interest social distinctly professional noble client one highest england dear fellow congratulate assure watson without affectation status client matter less moment interest case possible however also may want new investigation read paper diligently late look like say ruefully point huge bundle corner nothing else fortunate perhaps able post read nothing except criminal news agony column latter always instructive follow recent events closely must read lord st. simon wed oh yes deepest interest well letter hold hand lord st. simon read return must turn paper let whatever bear upon matter say dear mr. sherlock holmes lord backwater tell may place implicit reliance upon judgment discretion determine therefore call upon consult reference painful event occur connection wed mr. lestrade scotland yard act already matter assure see objection co operation even think might assistance call four clock afternoon engagement time hope postpone matter paramount importance faithfully robert st. simon date grosvenor mansions write quill pen noble lord misfortune get smear ink upon outer side right little finger remark holmes fold epistle say four clock three hour time assistance get clear upon subject turn paper arrange extract order time take glance client pick red cover volume line book reference beside mantelpiece say sit flatten upon knee lord robert walsingham de vere st. simon second son duke balmoral hum arm azure three caltrops chief fess sable bear 1846. forty one years age mature marriage secretary colonies late administration duke father one time secretary foreign affairs inherit plantagenet blood direct descent tudor distaff side ha well nothing instructive think must turn watson something solid little difficulty find want say facts quite recent matter strike remarkable fear refer however know inquiry hand dislike intrusion matter oh mean little problem grosvenor square furniture van quite clear though indeed obvious first pray give result newspaper selections first notice find personal column morning post date see weeks back marriage arrange say rumour correct shortly take place lord robert st. simon second son duke balmoral miss hatty doran daughter aloysius doran esq. san francisco cal. you.s.a terse point remark holmes stretch long thin legs towards fire paragraph amplify one society paper week ah soon call protection marriage market present free trade principle appear tell heavily home product one one management noble house great britain pass hand fair cousins across atlantic important addition make last week list prize bear away charm invaders lord st. simon show twenty years proof little gods arrows definitely announce approach marriage miss hatty doran fascinate daughter california millionaire miss doran whose graceful figure strike face attract much attention westbury house festivities child currently report dowry run considerably six figure expectancies future open secret duke balmoral compel sell picture within last years lord st. simon property save small estate birchmoor obvious californian heiress gainer alliance enable make easy common transition republican lady british peeress anything else ask holmes yawn oh yes plenty another note morning post say marriage would absolutely quiet one would st. georges hanover square half dozen intimate friends would invite party would return furnish house lancaster gate take mr. aloysius doran two days later wednesday last curt announcement wed take place honeymoon would pass lord backwaters place near petersfield notice appear disappearance bride ask holmes start vanish lady vanish wed breakfast indeed interest promise quite dramatic fact yes strike little common often vanish ceremony occasionally honeymoon call mind anything quite prompt pray let detail warn incomplete perhaps may make less set forth single article morning paper yesterday read head singular occurrence fashionable wed family lord robert st. simon throw greatest consternation strange painful episodes take place connection wed ceremony shortly announce paper yesterday occur previous morning possible confirm strange rumour persistently float spite attempt friends hush matter much public attention draw good purpose serve affect disregard common subject conversation ceremony perform st. georges hanover square quiet one one present save father bride mr. aloysius doran duchess balmoral lord backwater lord eustace lady clara st. simon younger brother sister bridegroom lady alicia whittington whole party proceed afterwards house mr. aloysius doran lancaster gate breakfast prepare appear little trouble cause woman whose name ascertain endeavour force way house bridal party allege claim upon lord st. simon painful prolong scene eject butler footman bride fortunately enter house unpleasant interruption sit breakfast rest complain sudden indisposition retire room prolong absence cause comment father follow learn maid come chamber instant catch ulster bonnet hurry passage one footmen declare see lady leave house thus apparelled refuse credit mistress believe company ascertain daughter disappear mr. aloysius doran conjunction bridegroom instantly put communication police energetic inquiries make probably result speedy clear singular business late hour last night however nothing transpire whereabouts miss lady rumour foul play matter say police cause arrest woman cause original disturbance belief jealousy motive may concern strange disappearance bride one little item another morning paper suggestive one miss flora millar lady cause disturbance actually arrest appear formerly danseuse allegro know bridegroom years particulars whole case hand far set forth public press exceedingly interest case appear would miss worlds ring bell watson clock make minutes four doubt prove noble client dream go watson much prefer witness check memory lord robert st. simon announce page boy throw open door gentleman enter pleasant culture face high nose pale something perhaps petulance mouth steady well open eye man whose pleasant lot ever command obey manner brisk yet general appearance give undue impression age slight forward stoop little bend knees walk hair sweep curly brim hat grizzle round edge thin upon top dress careful verge foppishness high collar black frock coat white waistcoat yellow gloves patent leather shoe light colour gaiters advance slowly room turn head leave right swing right hand cord hold golden eyeglasses good day lord st. simon say holmes rise bow pray take basket chair friend colleague dr. watson draw little fire talk matter painful matter readily imagine mr. holmes cut quick understand already manage several delicate case sort sir though presume hardly class society descend beg pardon last client sort king oh really idea king king scandinavia lose wife understand say holmes suavely extend affairs clients secrecy promise course right right sure beg pardon case ready give information may assist form opinion thank already learn public print nothing presume may take correct article example disappearance bride lord st. simon glance yes correct far go need great deal supplement anyone could offer opinion think may arrive facts directly question pray first meet miss hatty doran san francisco year ago travel state yes become engage friendly foot amuse society could see amuse father rich say richest man pacific slope make money mine nothing years ago strike gold invest come leap bound impression young ladys wifes character nobleman swing glass little faster star fire see mr. holmes say wife twenty father become rich man time run free mine camp wander woods mountains education come nature rather schoolmaster call england tomboy strong nature wild free unfettered sort traditions impetuous volcanic say swift make mind fearless carry resolutions hand would give name honour bear give little stately cough think bottom noble woman believe capable heroic self sacrifice anything dishonourable would repugnant photograph bring open locket show us full face lovely woman photograph ivory miniature artist bring full effect lustrous black hair large dark eye exquisite mouth holmes gaze long earnestly close locket hand back lord st. simon young lady come london renew acquaintance yes father bring last london season meet several time become engage marry bring understand considerable dowry fair dowry usual family course remain since marriage fait accompli really make inquiries subject naturally see miss doran day wed yes good spirit never better keep talk future live indeed interest morning wed bright possible least ceremony observe change well tell truth saw first sign ever see temper little sharp incident however trivial relate possible bear upon case pray let us oh childish drop bouquet go towards vestry pass front pew time fell pew moments delay gentleman pew hand appear worse fall yet speak matter answer abruptly carriage way home seem absurdly agitate trifle indeed say gentleman pew general public present oh yes impossible exclude church open gentleman one wifes friends call gentleman courtesy quite common look person hardly notice appearance really think wander rather far point lady st. simon return wed less cheerful frame mind go enter father house saw conversation maid maid alice name american come california confidential servant little much seem mistress allow take great liberties still course america look upon things different way long speak alice oh minutes something else think overhear say lady st. simon say something jump claim accustom use slang kind idea mean american slang expressive sometimes wife finish speak maid walk breakfast room arm alone independent little matter like sit ten minutes rise hurriedly mutter word apology leave room never come back maid alice understand depose go room cover brides dress long ulster put bonnet go quite afterwards see walk hyde park company flora millar woman custody already make disturbance mr. dorans house morning ah yes like particulars young lady relations lord st. simon shrug shoulder raise eyebrows friendly foot years may say friendly foot use allegro treat ungenerously complaint know women mr. holmes flora dear little thing exceedingly hot head devotedly attach write dreadful letter hear marry tell truth reason marriage celebrate quietly fear lest might scandal church come mr. dorans door return endeavour push way utter abusive expressions towards wife even threaten foresee possibility something sort two police fellows private clothe soon push quiet saw good make row wife hear thank goodness see walk woman afterwards yes mr. lestrade scotland yard look upon serious think flora decoy wife lay terrible trap well possible supposition think say probable one look upon likely think flora would hurt fly still jealousy strange transformer character pray theory take place well really come seek theory propound one give facts since ask however may say occur possible excitement affair consciousness make immense social stride effect cause little nervous disturbance wife short become suddenly derange well really consider turn back say upon upon much many aspire without success hardly explain fashion well certainly also conceivable hypothesis say holmes smile lord st. simon think nearly data may ask whether seat breakfast table could see window could see side road park quite think need detain longer shall communicate fortunate enough solve problem say client rise solve eh say solve wife detail shall speedily supply lord st. simon shake head afraid take wiser head mine remark bow stately old fashion manner depart good lord st. simon honour head put level say sherlock holmes laugh think shall whisky soda cigar cross question form conclusions case client come room dear holmes note several similar case though none remark quite prompt whole examination serve turn conjecture certainty circumstantial evidence occasionally convince find trout milk quote thoreaus example hear hear without however knowledge pre exist case serve well parallel instance aberdeen years back something much line munich year franco prussian war one case hullo lestrade good afternoon lestrade find extra tumbler upon sideboard cigars box official detective attire pea jacket cravat give decidedly nautical appearance carry black canvas bag hand short greet seat light cigar offer ask holmes twinkle eye look dissatisfy feel dissatisfy infernal st. simon marriage case make neither head tail business really surprise ever hear mix affair every clue seem slip finger work upon day wet seem make say holmes lay hand upon arm pea jacket yes drag serpentine heavens name search body lady st. simon sherlock holmes lean back chair laugh heartily drag basin trafalgar square fountain ask mean good chance find lady one lestrade shoot angry glance companion suppose know snarl well hear facts mind make oh indeed think serpentine play part matter think unlikely perhaps kindly explain find open bag speak tumble onto floor wed dress water silk pair white satin shoe brides wreath veil discolour soak water say put new wed ring upon top pile little nut crack master holmes oh indeed say friend blow blue ring air drag serpentine find float near margin park keeper identify clothe seem clothe body would far brilliant reason every man body find neighbourhood wardrobe pray hope arrive evidence implicate flora millar disappearance afraid find difficult indeed cry lestrade bitterness afraid holmes practical deductions inferences make two blunder many minutes dress implicate miss flora millar dress pocket pocket card case card case note note slap upon table front listen see ready come f. h. m. theory along lady st. simon decoy away flora millar confederate doubt responsible disappearance sign initial note doubt quietly slip hand door lure within reach good lestrade say holmes laugh really fine indeed let see take paper listless way attention instantly become rivet give little cry satisfaction indeed important say ha find extremely congratulate warmly lestrade rise triumph bend head look shriek look wrong side contrary right side right side mad note write pencil appear fragment hotel bill interest deeply nothing look say lestrade october 4th room 8s. breakfast 2s 6d. cocktail 1s. lunch 2s 6d. glass sherry 8d see nothing likely important note important also least initial congratulate waste time enough say lestrade rise believe hard work sit fire spin fine theories good day mr. holmes shall see get bottom matter first gather garment thrust bag make door one hint lestrade drawl holmes rival vanish tell true solution matter lady st. simon myth never person lestrade look sadly companion turn tap forehead three time shake head solemnly hurry away hardly shut door behind holmes rise put overcoat something fellow say outdoor work remark think watson must leave paper little five clock sherlock holmes leave time lonely within hour arrive confectioners man large flat box unpack help youth bring presently great astonishment quite epicurean little cold supper begin lay upon humble lodge house mahogany couple brace cold woodcock pheasant p\\u00e2t\\u00e9 de foie gras pie group ancient cobwebby bottle lay luxuries two visitors vanish away like genii arabian nights explanation save things pay order address nine clock sherlock holmes step briskly room feature gravely set light eye make think disappoint conclusions lay supper say rub hand seem expect company lay five yes fancy may company drop say surprise lord st. simon already arrive ha fancy hear step upon stairs indeed visitor afternoon come bustle dangle glass vigorously ever perturb expression upon aristocratic feature messenger reach ask holmes yes confess content startle beyond measure good authority say best possible lord st. simon sink chair pass hand forehead duke say murmur hear one family subject humiliation purest accident allow humiliation ah look things another standpoint fail see anyone blame hardly see lady could act otherwise though abrupt method undoubtedly regret mother one advise crisis slight sir public slight say lord st. simon tap finger upon table must make allowance poor girl place unprecedented position make allowance angry indeed shamefully use think hear ring say holmes yes step land persuade take lenient view matter lord st. simon bring advocate may successful open door usher lady gentleman lord st. simon say allow introduce mr. mrs. francis hay moulton lady think already meet sight newcomers client spring seat stand erect eye cast hand thrust breast frock coat picture offend dignity lady take quick step forward hold hand still refuse raise eye well resolution perhaps plead face one hard resist angry robert say well guess every pray make apology say lord st. simon bitterly oh yes know treat real bad speak go kind rattle time saw frank know say wonder fall faint right altar perhaps mrs. moulton would like friend leave room explain matter may give opinion remark strange gentleman little much secrecy business already part like europe america hear right small wiry sunburnt man clean shave sharp face alert manner tell story right away say lady frank meet 84 mcquires camp near rockies pa work claim engage frank one day father strike rich pocket make pile poor frank claim petered come nothing richer pa grow poorer frank last pa would hear engagement last longer take away frisco frank would throw hand though follow saw without pa know anything would make mad know fix frank say would go make pile never come back claim much pa. promise wait end time pledge marry anyone else live marry right away say feel sure claim husband come back well talk fix nicely clergyman ready wait right frank go seek fortune go back pa. next hear frank montana go prospect arizona hear new mexico come long newspaper story miners camp attack apache indians frank name among kill faint dead away sick months pa think decline take half doctor frisco word news come year never doubt frank really dead lord st. simon come frisco come london marriage arrange pa please felt time man earth would ever take place heart give poor frank still marry lord st. simon course would duty command love action go altar intention make good wife may imagine felt come altar rail glance back saw frank stand look first pew think ghost first look still kind question eye ask whether glad sorry see wonder drop know everything turn round word clergyman like buzz bee ear know stop service make scene church glance seem know think raise finger lips tell still saw scribble piece paper know write note pass pew way drop bouquet slip note hand return flower line ask join make sign course never doubt moment first duty determine whatever might direct get back tell maid know california always friend order say nothing get things pack ulster ready know ought speak lord st. simon dreadful hard mother great people make mind run away explain afterwards table ten minutes saw frank window side road beckon begin walk park slip put things follow woman come talk something lord st. simon seem little hear little secret marriage also manage get away soon overtake frank get cab together away drive lodgings take gordon square true wed years wait frank prisoner among apaches escape come frisco find give dead go england follow come upon last morning second wed saw paper explain american give name church lady live talk frank openness ashamed felt like vanish away never see send line pa perhaps show alive awful think lord ladies sit round breakfast table wait come back frank take wed clothe things make bundle trace drop away somewhere one could find likely go paris morrow good gentleman mr. holmes come round us even though find us think show us clearly kindly wrong frank right put wrong secret offer give us chance talk lord st. simon alone come right away round room robert hear sorry give pain hope think meanly lord st. simon mean relax rigid attitude listen frown brow compress lip long narrative excuse say custom discuss intimate personal affairs public manner forgive shake hand go oh certainly would give pleasure put hand coldly grasp extend hop suggest holmes would join us friendly supper think ask little much respond lordship may force acquiesce recent developments hardly expect make merry think permission wish good night include us sweep bow stalk room trust least honour company say sherlock holmes always joy meet american mr. moulton one believe folly monarch blunder minister far go years prevent children day citizens world wide country flag shall quarter union jack star strip case interest one remark holmes visitors leave us serve show clearly simple explanation may affair first sight seem almost inexplicable nothing could natural sequence events narrate lady nothing stranger result view instance mr. lestrade scotland yard fault first two facts obvious one lady quite undergo wed ceremony repent within minutes return home obviously something occur morning cause change mind could something could speak anyone company bridegroom see someone must someone america spend short time country could hardly allow anyone acquire deep influence mere sight would induce change plan completely see already arrive process exclusion idea might see american could american possess much influence might lover might husband young womanhood know spend rough scenes strange condition far get ever hear lord st. simons narrative tell us man pew change brides manner transparent device obtain note drop bouquet resort confidential maid significant allusion claim jump miners parlance mean take possession another person prior claim whole situation become absolutely clear go man man either lover previous husband chance favour latter world find might difficult friend lestrade hold information hand value know initial course highest importance valuable still know within week settle bill one select london hotels deduce select select price eight shillings bed eightpence glass sherry point one expensive hotels many london charge rate second one visit northumberland avenue learn inspection book francis h. moulton american gentleman leave day look entries come upon items see duplicate bill letter forward 226 gordon square thither travel fortunate enough find love couple home venture give paternal advice point would better every way make position little clearer general public lord st. simon particular invite meet see make keep appointment good result remark conduct certainly gracious ah watson say holmes smile perhaps would gracious either trouble woo wed find deprive instant wife fortune think may judge lord st. simon mercifully thank star never likely find position draw chair hand violin problem still solve away bleak autumnal evenings\",\n          \"scandal bohemia sherlock holmes always woman seldom hear mention name eye eclipse predominate whole sex felt emotion akin love irene adler emotions one particularly abhorrent cold precise admirably balance mind take perfect reason observe machine world see lover would place false position never speak softer passions save gibe sneer admirable things observer excellent draw veil mens motives action train reasoner admit intrusions delicate finely adjust temperament introduce distract factor might throw doubt upon mental result grit sensitive instrument crack one high power lenses would disturb strong emotion nature yet one woman woman late irene adler dubious questionable memory see little holmes lately marriage drift us away complete happiness home centre interest rise around man first find master establishment sufficient absorb attention holmes loathe every form society whole bohemian soul remain lodgings baker street bury among old book alternate week week cocaine ambition drowsiness drug fierce energy keen nature still ever deeply attract study crime occupy immense faculties extraordinary power observation follow clue clear mysteries abandon hopeless official police time time hear vague account doings summon odessa case trepoff murder clear singular tragedy atkinson brothers trincomalee finally mission accomplish delicately successfully reign family holland beyond sign activity however merely share readers daily press know little former friend companion one night twentieth march 1888 return journey patient return civil practice way lead baker street pass well remember door must always associate mind woo dark incidents study scarlet seize keen desire see holmes know employ extraordinary power room brilliantly light even look saw tall spare figure pass twice dark silhouette blind pace room swiftly eagerly head sink upon chest hand clasp behind know every mood habit attitude manner tell story work rise drug create dream hot upon scent new problem ring bell show chamber formerly part manner effusive seldom glad think see hardly word speak kindly eye wave armchair throw across case cigars indicate spirit case gasogene corner stand fire look singular introspective fashion wedlock suit remark think watson put seven half pound since saw seven answer indeed think little trifle fancy watson practice observe tell intend go harness know see deduce know get wet lately clumsy careless servant girl dear holmes say much would certainly burn live centuries ago true country walk thursday come home dreadful mess change clothe imagine deduce mary jane incorrigible wife give notice fail see work chuckle rub long nervous hand together simplicity say eye tell inside leave shoe firelight strike leather score six almost parallel cut obviously cause someone carelessly scrap round edge sole order remove crust mud hence see double deduction vile weather particularly malignant boot slit specimen london slavey practice gentleman walk room smell iodoform black mark nitrate silver upon right forefinger bulge right side top hat show secrete stethoscope must dull indeed pronounce active member medical profession could help laugh ease explain process deduction hear give reason remark thing always appear ridiculously simple could easily though successive instance reason baffle explain process yet believe eye good quite answer light cigarette throw armchair see observe distinction clear example frequently see step lead hall room frequently often well hundreds time many many know quite observe yet see point know seventeen step see observe way since interest little problems since good enough chronicle one two trifle experience may interest throw sheet thick pink tint notepaper lie open upon table come last post say read aloud note undated without either signature address call upon night quarter eight clock say gentleman desire consult upon matter deepest moment recent service one royal house europe show one may safely trust matter importance hardly exaggerate account quarter receive chamber hour take amiss visitor wear mask indeed mystery remark imagine mean data yet capital mistake theorise one data insensibly one begin twist facts suit theories instead theories suit facts note deduce carefully examine write paper upon write man write presumably well remark endeavour imitate companion process paper could buy half crown packet peculiarly strong stiff peculiar word say holmes english paper hold light saw large e small g p large g small weave texture paper make ask holmes name maker doubt monogram rather g small stand gesellschaft german company customary contraction like co. p course stand papier eg let us glance continental gazetteer take heavy brown volume shelve eglow eglonitz egria german speak country bohemia far carlsbad remarkable scene death wallenstein numerous glass factories paper mill ha ha boy make eye sparkle send great blue triumphant cloud cigarette paper make bohemia say precisely man write note german note peculiar construction sentence account quarter receive frenchman russian could write german uncourteous verbs remain therefore discover want german write upon bohemian paper prefer wear mask show face come mistake resolve doubt speak sharp sound horse hoof grate wheel curb follow sharp pull bell holmes whistle pair sound say yes continue glance window nice little brougham pair beauties hundred fifty guineas apiece money case watson nothing else think better go holmes bite doctor stay lose without boswell promise interest would pity miss client never mind may want help may come sit armchair doctor give us best attention slow heavy step hear upon stairs passage pause immediately outside door loud authoritative tap come say holmes man enter could hardly less six feet six inch height chest limbs hercules dress rich richness would england look upon akin bad taste heavy band astrakhan slash across sleeves front double breast coat deep blue cloak throw shoulder line flame colour silk secure neck brooch consist single flame beryl boot extend halfway calve trim top rich brown fur complete impression barbaric opulence suggest whole appearance carry broad brim hat hand wear across upper part face extend past cheekbones black vizard mask apparently adjust moment hand still raise enter lower part face appear man strong character thick hang lip long straight chin suggestive resolution push length obstinacy note ask deep harsh voice strongly mark german accent tell would call look one us uncertain address pray take seat say holmes friend colleague dr. watson occasionally good enough help case honour address may address count von kramm bohemian nobleman understand gentleman friend man honour discretion may trust matter extreme importance much prefer communicate alone rise go holmes catch wrist push back chair none say may say gentleman anything may say count shrug broad shoulder must begin say bind absolute secrecy two years end time matter importance present much say weight may influence upon european history promise say holmes i. excuse mask continue strange visitor august person employ wish agent unknown may confess title call exactly aware say holmes dryly circumstances great delicacy every precaution take quench might grow immense scandal seriously compromise one reign families europe speak plainly matter implicate great house ormstein hereditary kings bohemia also aware murmur holmes settle armchair close eye visitor glance apparent surprise languid lounge figure man doubt depict incisive reasoner energetic agent europe holmes slowly reopen eye look impatiently gigantic client majesty would condescend state case remark better able advise man spring chair pace room uncontrollable agitation gesture desperation tear mask face hurl upon grind right cry king attempt conceal indeed murmur holmes majesty speak aware address wilhelm gottsreich sigismond von ormstein grand duke cassel felstein hereditary king bohemia understand say strange visitor sit pass hand high white forehead understand accustom business person yet matter delicate could confide agent without put power come incognito prague purpose consult pray consult say holmes shut eye facts briefly five years ago lengthy visit warsaw make acquaintance well know adventuress irene adler name doubt familiar kindly look index doctor murmur holmes without open eye many years adopt system docket paragraph concern men things difficult name subject person could furnish information case find biography sandwich hebrew rabbi staff commander write monograph upon deep sea fish let see say holmes hum bear new jersey year 1858. contralto hum la scala hum prima donna imperial opera warsaw yes retire operatic stage ha live london quite majesty understand become entangle young person write compromise letter desirous get letter back precisely secret marriage none legal paper certificate none fail follow majesty young person produce letter blackmail purpose prove authenticity write pooh pooh forgery private note paper steal seal imitate photograph buy photograph oh dear bad majesty indeed commit indiscretion mad insane compromise seriously crown prince young thirty must recover try fail majesty must pay must buy sell steal five attempt make twice burglars pay ransack house divert luggage travel twice waylay result sign absolutely none holmes laugh quite pretty little problem say serious one return king reproachfully indeed propose photograph ruin marry hear clotilde lothman von saxe meningen second daughter king scandinavia may know strict principles family soul delicacy shadow doubt conduct would bring matter end irene adler threaten send photograph know know soul steel face beautiful women mind resolute men rather marry another woman lengths would go none sure send yet sure say would send day betrothal publicly proclaim next monday oh three days yet say holmes yawn fortunate one two matter importance look present majesty course stay london present certainly find langham name count von kramm shall drop line let know progress pray shall anxiety money carte blanche absolutely tell would give one provinces kingdom photograph present expense king take heavy chamois leather bag cloak lay table three hundred pound gold seven hundred note say holmes scribble receipt upon sheet note book hand mademoiselles address ask briony lodge serpentine avenue st. johns wood holmes take note one question say photograph cabinet good night majesty trust shall soon good news good night watson add wheel royal brougham roll street good enough call morrow afternoon three clock like chat little matter three clock precisely baker street holmes yet return landlady inform leave house shortly eight clock morning sit beside fire however intention await however long might already deeply interest inquiry though surround none grim strange feature associate two crimes already record still nature case exalt station client give character indeed apart nature investigation friend hand something masterly grasp situation keen incisive reason make pleasure study system work follow quick subtle methods disentangle inextricable mysteries accustom invariable success possibility fail cease enter head close upon four door open drunken look groom ill kempt side whisker inflame face disreputable clothe walk room accustom friends amaze power use disguise look three time certain indeed nod vanish bedroom whence emerge five minutes tweed suit respectable old put hand pocket stretch legs front fire laugh heartily minutes well really cry choke laugh oblige lie back limp helpless chair quite funny sure could never guess employ morning end imagine suppose watch habit perhaps house miss irene adler quite sequel rather unusual tell however leave house little eight clock morning character groom work wonderful sympathy freemasonry among horsey men one know know soon find briony lodge bijou villa garden back build front right road two stories chubb lock door large sit room right side well furnish long windows almost floor preposterous english window fasteners child could open behind nothing remarkable save passage window could reach top coach house walk round examine closely every point view without note anything else interest lounge street find expect mew lane run one wall garden lend ostlers hand rub horse receive exchange twopence glass half half two fill shag tobacco much information could desire miss adler say nothing half dozen people neighbourhood least interest whose biographies compel listen irene adler ask oh turn mens head part daintiest thing bonnet planet say serpentine mew man live quietly sing concert drive five every day return seven sharp dinner seldom go time except sing one male visitor good deal dark handsome dash never call less day often twice mr. godfrey norton inner temple see advantage cabman confidant drive home dozen time serpentine mew know listen tell begin walk near briony lodge think plan campaign godfrey norton evidently important factor matter lawyer sound ominous relation object repeat visit client friend mistress former probably transfer photograph keep latter less likely issue question depend whether continue work briony lodge turn attention gentlemans chamber temple delicate point widen field inquiry fear bore detail let see little difficulties understand situation follow closely answer still balance matter mind hansom cab drive briony lodge gentleman spring remarkably handsome man dark aquiline moustached evidently man hear appear great hurry shout cabman wait brush past maid open door air man thoroughly home house half hour could catch glimpse windows sit room pace talk excitedly wave arm could see nothing presently emerge look even flurry step cab pull gold watch pocket look earnestly drive like devil shout first gross hankeys regent street church st. monica edgeware road half guinea twenty minutes away go wonder whether well follow lane come neat little landau coachman coat half button tie ear tag harness stick buckle pull shoot hall door catch glimpse moment lovely woman face man might die church st. monica john cry half sovereign reach twenty minutes quite good lose watson balance whether run whether perch behind landau cab come street driver look twice shabby fare jump could object church st. monica say half sovereign reach twenty minutes twenty five minutes twelve course clear enough wind cabby drive fast think ever drive faster others us cab landau steam horse front door arrive pay man hurry church soul save two follow surpliced clergyman seem expostulate three stand knot front altar lounge side aisle like idler drop church suddenly surprise three altar face round godfrey norton come run hard could towards thank god cry come come ask come man come three minutes legal half drag altar know find mumble responses whisper ear vouch things know nothing generally assist secure tie irene adler spinster godfrey norton bachelor instant gentleman thank one side lady clergyman beam front preposterous position ever find life think start laugh seem informality license clergyman absolutely refuse marry without witness sort lucky appearance save bridegroom sally streets search best man bride give sovereign mean wear watch chain memory occasion unexpected turn affairs say well find plan seriously menace look pair might take immediate departure necessitate prompt energetic measure part church door however separate drive back temple house shall drive park five usual say leave hear drive away different directions go make arrangements cold beef glass beer answer ring bell busy think food likely busier still even way doctor shall want co operation shall delight mind break law least run chance arrest good oh excellent man sure might rely wish mrs. turner bring tray make clear say turn hungrily simple fare landlady provide must discuss eat much time nearly five two hours must scene action miss irene madame rather return drive seven must briony lodge meet must leave already arrange occur one point must insist must interfere come may understand neutral nothing whatever probably small unpleasantness join end convey house four five minutes afterwards sit room window open station close open window yes watch visible yes raise hand throw room give throw time raise cry fire quite follow entirely nothing formidable say take long cigar shape roll pocket ordinary plumbers smoke rocket fit cap either end make self light task confine raise cry fire take quite number people may walk end street rejoin ten minutes hope make clear remain neutral get near window watch signal throw object raise cry fire wait corner street precisely may entirely rely excellent think perhaps almost time prepare new role play disappear bedroom return minutes character amiable simple mind nonconformist clergyman broad black hat baggy trousers white tie sympathetic smile general look peer benevolent curiosity mr. john hare alone could equal merely holmes change costume expression manner soul seem vary every fresh part assume stage lose fine actor even science lose acute reasoner become specialist crime quarter past six leave baker street still want ten minutes hour find serpentine avenue already dusk lamps light pace front briony lodge wait come occupant house picture sherlock holmes succinct description locality appear less private expect contrary small street quiet neighbourhood remarkably animate group shabbily dress men smoke laugh corner scissor grinder wheel two guardsmen flirt nurse girl several well dress young men lounge cigars mouth see remark holmes pace fro front house marriage rather simplify matter photograph become double edge weapon chance would averse see mr. godfrey norton client come eye princess question find photograph indeed unlikely carry cabinet size large easy concealment womans dress know king capable waylay search two attempt sort already make may take carry banker lawyer double possibility incline think neither women naturally secretive like secrete hand anyone else could trust guardianship could tell indirect political influence might bring bear upon business man besides remember resolve use within days must lay hand upon must house twice burgle pshaw know look look look get show refuse able hear rumble wheel carriage carry order letter speak gleam sidelights carriage come round curve avenue smart little landau rattle door briony lodge pull one loaf men corner dash forward open door hope earn copper elbow away another loafer rush intention fierce quarrel break increase two guardsmen take side one loungers scissor grinder equally hot upon side blow strike instant lady step carriage centre little knot flush struggle men strike savagely fists stick holmes dash crowd protect lady reach give cry drop grind blood run freely face fall guardsmen take heel one direction loungers number better dress people watch scuffle without take part crowd help lady attend injure man irene adler still call hurry step stand top superb figure outline light hall look back street poor gentleman much hurt ask dead cry several voice life shout another go get hospital brave fellow say woman would ladys purse watch gang rough one ah breathe lie street may bring marm surely bring sit room comfortable sofa way please slowly solemnly bear briony lodge lay principal room still observe proceedings post window lamps light blind draw could see holmes lay upon couch know whether seize compunction moment part play know never felt heartily ashamed life saw beautiful creature conspire grace kindliness wait upon injure man yet would blackest treachery holmes draw back part intrust harden heart take smoke rocket ulster think injure prevent injure another holmes sit upon couch saw motion like man need air maid rush across throw open window instant saw raise hand signal toss rocket room cry fire word sooner mouth whole crowd spectators well dress ill gentlemen ostlers servant maids join general shriek fire thick cloud smoke curl room open window catch glimpse rush figure moment later voice holmes within assure false alarm slip shout crowd make way corner street ten minutes rejoice find friends arm mine get away scene uproar walk swiftly silence minutes turn one quiet streets lead towards edgeware road nicely doctor remark nothing could better right photograph know find show tell would still dark wish make mystery say laugh matter perfectly simple course saw everyone street accomplice engage even guess much row break little moist red paint palm hand rush forward fell clap hand face become piteous spectacle old trick also could fathom carry bind else could sit room room suspect lay bedroom determine see lay couch motion air compel open window chance help important woman think house fire instinct rush thing value perfectly overpower impulse take advantage case darlington substitution scandal use also arnsworth castle business marry woman grab baby unmarried one reach jewel box clear lady day nothing house precious quest would rush secure alarm fire admirably smoke shout enough shake nerve steel respond beautifully photograph recess behind slide panel right bell pull instant catch glimpse half draw cry false alarm replace glance rocket rush room see since rise make excuse escape house hesitate whether attempt secure photograph coachman come watch narrowly seem safer wait little precipitance may ruin ask quest practically finish shall call king morrow care come us show sit room wait lady probable come may find neither us photograph might satisfaction majesty regain hand call eight morning shall clear field besides must prompt marriage may mean complete change life habit must wire king without delay reach baker street stop door search pocket key someone pass say good night mister sherlock holmes several people pavement time greet appear come slim youth ulster hurry hear voice say holmes star dimly light street wonder deuce could sleep baker street night engage upon toast coffee morning king bohemia rush room really get cry grasp sherlock holmes either shoulder look eagerly face yet hop hop come impatience go must cab brougham wait simplify matter descend start briony lodge irene adler marry remark holmes marry yesterday english lawyer name norton could love hop hop would spare majesty fear future annoyance lady love husband love majesty love majesty reason interfere majestys plan true yet well wish station queen would make relapse moody silence break draw serpentine avenue door briony lodge open elderly woman stand upon step watch us sardonic eye step brougham mr. sherlock holmes believe say mr. holmes answer companion look question rather startle gaze indeed mistress tell likely call leave morning husband 5:15 train char cross continent sherlock holmes stagger back white chagrin surprise mean leave england never return paper ask king hoarsely lose shall see push past servant rush draw room follow king furniture scatter every direction dismantle shelve open drawers lady hurriedly ransack flight holmes rush bell pull tear back small slide shutter plunge hand pull photograph letter photograph irene adler even dress letter superscribe sherlock holmes esq leave till call friend tear open three read together date midnight precede night run way dear mr. sherlock holmes really well take completely alarm fire suspicion find betray begin think warn months ago tell king employ agent would certainly address give yet make reveal want know even become suspicious find hard think evil dear kind old clergyman know train actress male costume nothing new often take advantage freedom give send john coachman watch run upstairs get walk clothe call come depart well follow door make sure really object interest celebrate mr. sherlock holmes rather imprudently wish good night start temple see husband think best resource flight pursue formidable antagonist find nest empty call morrow photograph client may rest peace love love better man king may without hindrance one cruelly wrong keep safeguard preserve weapon always secure step might take future leave photograph might care possess remain dear mr. sherlock holmes truly irene norton n\\u00e9e adler woman oh woman cry king bohemia three read epistle tell quick resolute would make admirable queen pity level see lady seem indeed different level majesty say holmes coldly sorry able bring majestys business successful conclusion contrary dear sir cry king nothing could successful know word inviolate photograph safe fire glad hear majesty say immensely indebted pray tell way reward ring slip emerald snake ring finger hold upon palm hand majesty something value even highly say holmes name photograph king star amazement irenes photograph cry certainly wish thank majesty matter honour wish good morning bow turn away without observe hand king stretch set company chamber great scandal threaten affect kingdom bohemia best plan mr. sherlock holmes beat womans wit use make merry cleverness women hear late speak irene adler refer photograph always honourable title woman\"\n        ],\n        \"semantic_type\": \"\",\n        \"description\": \"\"\n      }\n    }\n  ]\n}"
            }
          },
          "metadata": {},
          "execution_count": 14
        }
      ]
    },
    {
      "cell_type": "code",
      "source": [
        "print(\"Cantidad de documentos:\", df_text.shape[0])"
      ],
      "metadata": {
        "colab": {
          "base_uri": "https://localhost:8080/"
        },
        "id": "szc70eRtp-Wr",
        "outputId": "e2430109-7463-4853-8c0e-57ec2e4e550c"
      },
      "execution_count": 15,
      "outputs": [
        {
          "output_type": "stream",
          "name": "stdout",
          "text": [
            "Cantidad de documentos: 12\n"
          ]
        }
      ]
    },
    {
      "cell_type": "code",
      "source": [
        "from tensorflow.keras.preprocessing.text import text_to_word_sequence\n",
        "\n",
        "doc_tokens = []\n",
        "# Recorrer todas las filas y transformar las oraciones\n",
        "# en una secuencia de palabras (esto podría realizarse con NLTK o spaCy también)\n",
        "for _, row in df_text.iterrows():\n",
        "    doc_tokens.append(text_to_word_sequence(row[\"content\"]))\n",
        "\n"
      ],
      "metadata": {
        "id": "d0j6ndLma8pv"
      },
      "execution_count": 16,
      "outputs": []
    },
    {
      "cell_type": "code",
      "source": [
        "for doc_token in doc_tokens:\n",
        "  print(doc_token[:10])\n",
        "# sentence_tokens[:100]"
      ],
      "metadata": {
        "colab": {
          "base_uri": "https://localhost:8080/"
        },
        "id": "a0f5W3K-qExF",
        "outputId": "79f75fbf-6075-4468-ac35-1d1c9f547357"
      },
      "execution_count": 17,
      "outputs": [
        {
          "output_type": "stream",
          "name": "stdout",
          "text": [
            "['scandal', 'bohemia', 'sherlock', 'holmes', 'always', 'woman', 'seldom', 'hear', 'mention', 'name']\n",
            "['red', 'head', 'league', 'call', 'upon', 'friend', 'mr', 'sherlock', 'holmes', 'one']\n",
            "['case', 'identity', 'dear', 'fellow', 'say', 'sherlock', 'holmes', 'sit', 'either', 'side']\n",
            "['boscombe', 'valley', 'mystery', 'seat', 'breakfast', 'one', 'morning', 'wife', 'maid', 'bring']\n",
            "['five', 'orange', 'pip', 'glance', 'note', 'record', 'sherlock', 'holmes', 'case', 'years']\n",
            "['man', 'twist', 'lip', 'isa', 'whitney', 'brother', 'late', 'elias', 'whitney', 'd']\n",
            "['adventure', 'blue', 'carbuncle', 'call', 'upon', 'friend', 'sherlock', 'holmes', 'upon', 'second']\n",
            "['adventure', 'speckle', 'band', 'glance', 'note', 'seventy', 'odd', 'case', 'last', 'eight']\n",
            "['adventure', 'engineer', 'thumb', 'problems', 'submit', 'friend', 'mr', 'sherlock', 'holmes', 'solution']\n",
            "['adventure', 'noble', 'bachelor', 'lord', 'st', 'simon', 'marriage', 'curious', 'termination', 'long']\n",
            "['adventure', 'beryl', 'coronet', 'holmes', 'say', 'stand', 'one', 'morning', 'bow', 'window']\n",
            "['adventure', 'copper', 'beeches', 'man', 'love', 'art', 'sake', 'remark', 'sherlock', 'holmes']\n"
          ]
        }
      ]
    },
    {
      "cell_type": "markdown",
      "source": [
        "### 2 - Crear los vectores (word2vec)"
      ],
      "metadata": {
        "id": "i1WH3HqvqMnq"
      }
    },
    {
      "cell_type": "code",
      "source": [
        "from gensim.models.callbacks import CallbackAny2Vec\n",
        "\n",
        "class callback(CallbackAny2Vec):\n",
        "    \"\"\"\n",
        "    Callback to print loss after each epoch\n",
        "    \"\"\"\n",
        "    def __init__(self):\n",
        "        self.epoch = 0\n",
        "\n",
        "    def on_epoch_end(self, model):\n",
        "        loss = model.get_latest_training_loss()\n",
        "        if self.epoch == 0:\n",
        "            print('Loss after epoch {}: {}'.format(self.epoch, loss))\n",
        "        # else:\n",
        "        if self.epoch != 0 and self.epoch % 10 == 0:\n",
        "            print('Loss after epoch {}: {}'.format(self.epoch, loss- self.loss_previous_step))\n",
        "        self.epoch += 1\n",
        "        self.loss_previous_step = loss"
      ],
      "metadata": {
        "id": "JPjIYXPWqMKP"
      },
      "execution_count": 18,
      "outputs": []
    },
    {
      "cell_type": "code",
      "source": [
        "from gensim.models import Word2Vec\n",
        "# Crearmos el modelo generador de vectores\n",
        "# En este caso utilizaremos la estructura modelo Skipgram\n",
        "w2v_model = Word2Vec(min_count=5,    # frecuencia mínima de palabra para incluirla en el vocabulario\n",
        "                     window=2,       # cant de palabras antes y desp de la predicha\n",
        "                     vector_size=300,       # dimensionalidad de los vectores\n",
        "                     negative=20,    # cantidad de negative samples... 0 es no se usa\n",
        "                     workers=1,      # si tienen más cores pueden cambiar este valor\n",
        "                     sg=1)           # modelo 0:CBOW  1:skipgram"
      ],
      "metadata": {
        "id": "i7f1XjAK2KLe"
      },
      "execution_count": 19,
      "outputs": []
    },
    {
      "cell_type": "code",
      "source": [
        "# Obtener el vocabulario con los tokens\n",
        "w2v_model.build_vocab(doc_tokens)"
      ],
      "metadata": {
        "id": "2yPvxBmO2S_x"
      },
      "execution_count": 20,
      "outputs": []
    },
    {
      "cell_type": "code",
      "source": [
        "# Cantidad de filas/docs encontradas en el corpus\n",
        "print(\"Cantidad de docs en el corpus:\", w2v_model.corpus_count)"
      ],
      "metadata": {
        "colab": {
          "base_uri": "https://localhost:8080/"
        },
        "id": "t-4gpWYk2VSH",
        "outputId": "34185987-ae72-443c-9342-3256049261ca"
      },
      "execution_count": 21,
      "outputs": [
        {
          "output_type": "stream",
          "name": "stdout",
          "text": [
            "Cantidad de docs en el corpus: 12\n"
          ]
        }
      ]
    },
    {
      "cell_type": "code",
      "source": [
        "# Cantidad de words encontradas en el corpus\n",
        "print(\"Cantidad de words distintas en el corpus:\", len(w2v_model.wv.index_to_key))"
      ],
      "metadata": {
        "colab": {
          "base_uri": "https://localhost:8080/"
        },
        "id": "dJBl2MGx2YQN",
        "outputId": "e3ebf827-5311-4b95-b6c9-d97dbfd2900c"
      },
      "execution_count": 22,
      "outputs": [
        {
          "output_type": "stream",
          "name": "stdout",
          "text": [
            "Cantidad de words distintas en el corpus: 1761\n"
          ]
        }
      ]
    },
    {
      "cell_type": "markdown",
      "source": [
        "3 - Entrenar embeddings"
      ],
      "metadata": {
        "id": "PLfpd8Jj2a4-"
      }
    },
    {
      "cell_type": "code",
      "source": [
        "# Entrenamos el modelo generador de vectores\n",
        "# Utilizamos nuestro callback\n",
        "w2v_model.train(doc_tokens,\n",
        "                 total_examples=w2v_model.corpus_count,\n",
        "                 epochs=200,\n",
        "                 compute_loss = True,\n",
        "                 callbacks=[callback()]\n",
        "                 )"
      ],
      "metadata": {
        "colab": {
          "base_uri": "https://localhost:8080/"
        },
        "id": "xEZoUx_o2b0X",
        "outputId": "353d282d-0cd0-4b69-edf3-32f2dc852b1c"
      },
      "execution_count": 23,
      "outputs": [
        {
          "output_type": "stream",
          "name": "stdout",
          "text": [
            "Loss after epoch 0: 711945.25\n",
            "Loss after epoch 10: 315665.25\n",
            "Loss after epoch 20: 257323.0\n",
            "Loss after epoch 30: 216560.0\n",
            "Loss after epoch 40: 205909.0\n",
            "Loss after epoch 50: 201692.0\n",
            "Loss after epoch 60: 198725.0\n",
            "Loss after epoch 70: 170026.0\n",
            "Loss after epoch 80: 169006.0\n",
            "Loss after epoch 90: 166178.0\n",
            "Loss after epoch 100: 163550.0\n",
            "Loss after epoch 110: 161976.0\n",
            "Loss after epoch 120: 159618.0\n",
            "Loss after epoch 130: 157672.0\n",
            "Loss after epoch 140: 155604.0\n",
            "Loss after epoch 150: 152702.0\n",
            "Loss after epoch 160: 150108.0\n",
            "Loss after epoch 170: 146982.0\n",
            "Loss after epoch 180: 97384.0\n",
            "Loss after epoch 190: 93740.0\n"
          ]
        },
        {
          "output_type": "execute_result",
          "data": {
            "text/plain": [
              "(7156592, 9424400)"
            ]
          },
          "metadata": {},
          "execution_count": 23
        }
      ]
    },
    {
      "cell_type": "markdown",
      "source": [
        "### 4 - Ensayar"
      ],
      "metadata": {
        "id": "Rcdu2Q7O3GQe"
      }
    },
    {
      "cell_type": "code",
      "source": [
        "# Palabras que MÁS se relacionan con...:\n",
        "w2v_model.wv.most_similar(positive=[\"holmes\"], topn=10)"
      ],
      "metadata": {
        "colab": {
          "base_uri": "https://localhost:8080/"
        },
        "id": "eQjwF0DUOm06",
        "outputId": "83d156f7-95f2-43a9-cf6c-b070226b0061"
      },
      "execution_count": 29,
      "outputs": [
        {
          "output_type": "execute_result",
          "data": {
            "text/plain": [
              "[('sherlock', 0.31480851769447327),\n",
              " ('duncan', 0.2673177421092987),\n",
              " ('mr', 0.2506963908672333),\n",
              " ('tut', 0.24674837291240692),\n",
              " ('leadenhall', 0.24650242924690247),\n",
              " ('narrative', 0.24618887901306152),\n",
              " ('found', 0.24282191693782806),\n",
              " ('speckle', 0.23919610679149628),\n",
              " ('neville', 0.23918063938617706),\n",
              " ('eventually', 0.23867033421993256)]"
            ]
          },
          "metadata": {},
          "execution_count": 29
        }
      ]
    },
    {
      "cell_type": "code",
      "source": [
        "# Palabras que MÁS se relacionan con...:\n",
        "w2v_model.wv.most_similar(positive=[\"sherlock\"], topn=10)"
      ],
      "metadata": {
        "colab": {
          "base_uri": "https://localhost:8080/"
        },
        "id": "ndwnSBEq3FlO",
        "outputId": "41f08dd5-dc58-45e4-c37c-3fb7fabc7029"
      },
      "execution_count": 30,
      "outputs": [
        {
          "output_type": "execute_result",
          "data": {
            "text/plain": [
              "[('holmes', 0.31480854749679565),\n",
              " ('custom', 0.30555611848831177),\n",
              " ('inn', 0.2916117012500763),\n",
              " ('associate', 0.28934550285339355),\n",
              " ('pen', 0.28260719776153564),\n",
              " ('art', 0.277919739484787),\n",
              " ('fold', 0.2764796018600464),\n",
              " ('offices', 0.27618879079818726),\n",
              " ('rule', 0.2747381627559662),\n",
              " ('lysander', 0.27125275135040283)]"
            ]
          },
          "metadata": {},
          "execution_count": 30
        }
      ]
    },
    {
      "cell_type": "code",
      "source": [
        "# Palabras que MÁS se relacionan con...:\n",
        "w2v_model.wv.most_similar(positive=[\"watson\"], topn=10)"
      ],
      "metadata": {
        "colab": {
          "base_uri": "https://localhost:8080/"
        },
        "id": "NufwC_z0JFoz",
        "outputId": "cd71e364-cd7e-4887-f865-22d04a1c8f3e"
      },
      "execution_count": 31,
      "outputs": [
        {
          "output_type": "execute_result",
          "data": {
            "text/plain": [
              "[('scoundrel', 0.3240799307823181),\n",
              " ('roylott', 0.30476751923561096),\n",
              " ('nervous', 0.28471583127975464),\n",
              " ('supper', 0.28310444951057434),\n",
              " ('things', 0.2802175283432007),\n",
              " ('niece', 0.27739405632019043),\n",
              " ('stoner', 0.2746654152870178),\n",
              " ('grimesby', 0.27122586965560913),\n",
              " ('glad', 0.2665504515171051),\n",
              " ('impossible', 0.26202866435050964)]"
            ]
          },
          "metadata": {},
          "execution_count": 31
        }
      ]
    },
    {
      "cell_type": "code",
      "source": [
        "# Palabras que MÁS se relacionan con...:\n",
        "w2v_model.wv.most_similar(positive=[\"detective\"], topn=10)"
      ],
      "metadata": {
        "colab": {
          "base_uri": "https://localhost:8080/"
        },
        "id": "nyB8A1HuJIy2",
        "outputId": "1e15de63-b1d5-4380-ae7e-7f7b7691a949"
      },
      "execution_count": 32,
      "outputs": [
        {
          "output_type": "execute_result",
          "data": {
            "text/plain": [
              "[('stoper', 0.34211307764053345),\n",
              " ('sideboard', 0.3415271043777466),\n",
              " ('solution', 0.336597740650177),\n",
              " ('official', 0.33461782336235046),\n",
              " ('goodness', 0.3319486379623413),\n",
              " ('swandam', 0.32684096693992615),\n",
              " ('pain', 0.32170018553733826),\n",
              " ('slip', 0.32121652364730835),\n",
              " ('neck', 0.31688380241394043),\n",
              " ('nervous', 0.3085125982761383)]"
            ]
          },
          "metadata": {},
          "execution_count": 32
        }
      ]
    },
    {
      "cell_type": "code",
      "source": [
        "# Palabras que MÁS se relacionan con...:\n",
        "w2v_model.wv.most_similar(positive=[\"case\"], topn=10)"
      ],
      "metadata": {
        "colab": {
          "base_uri": "https://localhost:8080/"
        },
        "id": "LN_Rgw7eJMLP",
        "outputId": "e5fdb517-5d4c-4839-8f6a-2a6fdbb35d52"
      },
      "execution_count": 33,
      "outputs": [
        {
          "output_type": "execute_result",
          "data": {
            "text/plain": [
              "[('innocence', 0.30823269486427307),\n",
              " ('incline', 0.2733447551727295),\n",
              " ('spite', 0.27135947346687317),\n",
              " ('trivial', 0.2701475918292999),\n",
              " ('conviction', 0.2697224020957947),\n",
              " ('forever', 0.268420934677124),\n",
              " ('1000', 0.2684140205383301),\n",
              " ('postmark', 0.2674146294593811),\n",
              " ('visitors', 0.2671177089214325),\n",
              " ('ones', 0.26599249243736267)]"
            ]
          },
          "metadata": {},
          "execution_count": 33
        }
      ]
    }
  ]
}