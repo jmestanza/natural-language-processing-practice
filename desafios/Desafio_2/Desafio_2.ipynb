{
  "nbformat": 4,
  "nbformat_minor": 0,
  "metadata": {
    "colab": {
      "provenance": [],
      "authorship_tag": "ABX9TyNKJtWEYX3cGM8vJRSS4BWz",
      "include_colab_link": true
    },
    "kernelspec": {
      "name": "python3",
      "display_name": "Python 3"
    },
    "language_info": {
      "name": "python"
    }
  },
  "cells": [
    {
      "cell_type": "markdown",
      "metadata": {
        "id": "view-in-github",
        "colab_type": "text"
      },
      "source": [
        "<a href=\"https://colab.research.google.com/github/jmestanza/natural-language-processing-practice/blob/main/desafios/Desafio_2/Desafio_2.ipynb\" target=\"_parent\"><img src=\"https://colab.research.google.com/assets/colab-badge.svg\" alt=\"Open In Colab\"/></a>"
      ]
    },
    {
      "cell_type": "markdown",
      "source": [
        "Crear sus propios vectores con Gensim\n",
        "basado en lo visto en clase con otro\n",
        "dataset.\n",
        "Probar términos de interés y explicar\n",
        "similitudes en el espacio de embeddings.\n",
        "Intentar plantear y probar tests de\n",
        "analogías. Graficar los embeddings\n",
        "resultantes.\n",
        "Sacar conclusiones."
      ],
      "metadata": {
        "id": "ItlvXdgo_tqp"
      }
    },
    {
      "cell_type": "markdown",
      "source": [
        "Algunos de los sitios de textos sugeridos fueron:\n",
        "- [Project Gutenberg](https://www.gutenberg.org/browse/scores/top)\n",
        "- [Textos.info](https://www.textos.info/)\n",
        "\n",
        "Se eligió analizar los textos pertenecientes a [The Project Gutenberg eBook of The Adventures of Sherlock Holmes](https://www.gutenberg.org/cache/epub/1661/pg1661.txt)\n"
      ],
      "metadata": {
        "id": "pFC94kllBtua"
      }
    },
    {
      "cell_type": "code",
      "source": [],
      "metadata": {
        "id": "09tfCYCUBwGE"
      },
      "execution_count": null,
      "outputs": []
    }
  ]
}