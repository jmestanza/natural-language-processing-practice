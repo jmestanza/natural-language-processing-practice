{
  "nbformat": 4,
  "nbformat_minor": 0,
  "metadata": {
    "colab": {
      "provenance": [],
      "authorship_tag": "ABX9TyNaf1v7V+A6caL05sglwuP0",
      "include_colab_link": true
    },
    "kernelspec": {
      "name": "python3",
      "display_name": "Python 3"
    },
    "language_info": {
      "name": "python"
    }
  },
  "cells": [
    {
      "cell_type": "markdown",
      "metadata": {
        "id": "view-in-github",
        "colab_type": "text"
      },
      "source": [
        "<a href=\"https://colab.research.google.com/github/jmestanza/natural-language-processing-practice/blob/main/desafios/Desafio_2/Desafio_2.ipynb\" target=\"_parent\"><img src=\"https://colab.research.google.com/assets/colab-badge.svg\" alt=\"Open In Colab\"/></a>"
      ]
    },
    {
      "cell_type": "markdown",
      "source": [
        "Crear sus propios vectores con Gensim\n",
        "basado en lo visto en clase con otro\n",
        "dataset.\n",
        "Probar términos de interés y explicar\n",
        "similitudes en el espacio de embeddings.\n",
        "Intentar plantear y probar tests de\n",
        "analogías. Graficar los embeddings\n",
        "resultantes.\n",
        "Sacar conclusiones."
      ],
      "metadata": {
        "id": "ItlvXdgo_tqp"
      }
    },
    {
      "cell_type": "markdown",
      "source": [
        "Algunos de los sitios de textos sugeridos fueron:\n",
        "- [Project Gutenberg](https://www.gutenberg.org/browse/scores/top)\n",
        "- [Textos.info](https://www.textos.info/)\n",
        "\n",
        "Se eligió analizar los textos pertenecientes a [The Project Gutenberg eBook of The Adventures of Sherlock Holmes](https://www.gutenberg.org/cache/epub/1661/pg1661.txt)\n"
      ],
      "metadata": {
        "id": "pFC94kllBtua"
      }
    },
    {
      "cell_type": "code",
      "source": [
        "import os\n",
        "filename = 'dataset.txt'\n",
        "text_path = 'https://raw.githubusercontent.com/jmestanza/natural-language-processing-practice/refs/heads/main/desafios/Desafio_2/the_adventures_of_sherlock_holmes.txt'\n",
        "curr_dir = os.getcwd()\n",
        "dataset_path = os.path.join(curr_dir, filename)\n",
        "if not os.path.exists(dataset_path):\n",
        "  !wget {text_path} -O {filename}\n",
        "\n",
        "os.listdir(curr_dir)\n"
      ],
      "metadata": {
        "colab": {
          "base_uri": "https://localhost:8080/"
        },
        "id": "FgdNH4GdFvk7",
        "outputId": "d4bb40f7-196c-42c2-d445-87c22a283d69"
      },
      "execution_count": 9,
      "outputs": [
        {
          "output_type": "execute_result",
          "data": {
            "text/plain": [
              "['.config', 'dataset.txt', '.ipynb_checkpoints', 'sample_data']"
            ]
          },
          "metadata": {},
          "execution_count": 9
        }
      ]
    },
    {
      "cell_type": "code",
      "source": [
        "with open(dataset_path, 'r') as f:\n",
        "  text = f.read()\n",
        "\n",
        "print(text[:1500])"
      ],
      "metadata": {
        "colab": {
          "base_uri": "https://localhost:8080/"
        },
        "id": "X-2-XwJ7G7Eq",
        "outputId": "acfb5af8-c9d8-4a69-8b8a-d6b65dae42e4"
      },
      "execution_count": 15,
      "outputs": [
        {
          "output_type": "stream",
          "name": "stdout",
          "text": [
            "The Project Gutenberg eBook of The Adventures of Sherlock Holmes\n",
            "    \n",
            "This ebook is for the use of anyone anywhere in the United States and\n",
            "most other parts of the world at no cost and with almost no restrictions\n",
            "whatsoever. You may copy it, give it away or re-use it under the terms\n",
            "of the Project Gutenberg License included with this ebook or online\n",
            "at www.gutenberg.org. If you are not located in the United States,\n",
            "you will have to check the laws of the country where you are located\n",
            "before using this eBook.\n",
            "\n",
            "Title: The Adventures of Sherlock Holmes\n",
            "\n",
            "Author: Arthur Conan Doyle\n",
            "\n",
            "Release date: March 1, 1999 [eBook #1661]\n",
            "                Most recently updated: October 10, 2023\n",
            "\n",
            "Language: English\n",
            "\n",
            "Credits: an anonymous Project Gutenberg volunteer and Jose Menendez\n",
            "\n",
            "\n",
            "*** START OF THE PROJECT GUTENBERG EBOOK THE ADVENTURES OF SHERLOCK HOLMES ***\n",
            "\n",
            "\n",
            "\n",
            "\n",
            "The Adventures of Sherlock Holmes\n",
            "\n",
            "by Arthur Conan Doyle\n",
            "\n",
            "\n",
            "Contents\n",
            "\n",
            "   I.     A Scandal in Bohemia\n",
            "   II.    The Red-Headed League\n",
            "   III.   A Case of Identity\n",
            "   IV.    The Boscombe Valley Mystery\n",
            "   V.     The Five Orange Pips\n",
            "   VI.    The Man with the Twisted Lip\n",
            "   VII.   The Adventure of the Blue Carbuncle\n",
            "   VIII.  The Adventure of the Speckled Band\n",
            "   IX.    The Adventure of the Engineer’s Thumb\n",
            "   X.     The Adventure of the Noble Bachelor\n",
            "   XI.    The Adventure of the Beryl Coronet\n",
            "   XII.   The Adventure of the Copper Beeches\n",
            "\n",
            "\n",
            "\n",
            "\n",
            "I. A SCANDAL IN BOHEMIA\n",
            "\n",
            "\n",
            "I.\n",
            "\n",
            "To Sherlock Holmes she is always _the_ woman. I have seldom heard \n"
          ]
        }
      ]
    },
    {
      "cell_type": "markdown",
      "source": [
        "## Limpieza de dataset\n",
        "Debemos obtener solo los textos de adentro de los capítulos y subcapítulos.\n",
        "\n",
        "Además debemos ignorar el texto que viene con la metadata de la obra (presente en el principio y final del dataset).\n",
        "\n",
        "La estructura es\n",
        "\n",
        "\n",
        "```\n",
        "I. Chapter title\n",
        "I.\n",
        "text\n",
        "II.\n",
        "text\n",
        "```\n",
        "\n"
      ],
      "metadata": {
        "id": "DHNPvr52LHLe"
      }
    },
    {
      "cell_type": "code",
      "source": [
        "import re\n",
        "\n",
        "# Read the text file\n",
        "with open(dataset_path, \"r\", encoding=\"utf-8\") as file:\n",
        "    text = file.read()\n",
        "\n",
        "# Remove everything before the actual content\n",
        "start_marker = \"*** START OF THE PROJECT GUTENBERG EBOOK\"\n",
        "end_marker = \"*** END OF THE PROJECT GUTENBERG EBOOK\"\n",
        "\n",
        "# Keep only the content between the start and end markers\n",
        "text = text.split(start_marker, 1)[-1].split(end_marker, 1)[0]\n",
        "\n",
        "# Define a pattern to match chapter titles (Roman numerals followed by title)\n",
        "chapter_pattern = re.compile(r\"\\n([IVXLCDM]+)\\.\\s([^\\n]+)\\n\")\n",
        "\n",
        "# Find all matches (chapter titles)\n",
        "matches = list(chapter_pattern.finditer(text))\n",
        "\n",
        "# Split the text into chapters\n",
        "chapters = []\n",
        "start = matches[0].end() if matches else 0  # Start at first chapter if found\n",
        "\n",
        "for i in range(len(matches)):\n",
        "    end = matches[i + 1].start() if i + 1 < len(matches) else len(text)\n",
        "\n",
        "    chapter_title = matches[i].group(2)  # Extract chapter title (ignore Roman numeral)\n",
        "    chapter_content = text[matches[i].end():end].strip()\n",
        "\n",
        "    # Remove subchapter numbers (standalone Roman numerals followed by a newline)\n",
        "    chapter_content = re.sub(r\"^\\n?[IVXLCDM]+\\.\\n+\", \"\", chapter_content, flags=re.MULTILINE).strip()\n",
        "\n",
        "    # Store as \"Chapter Title\\nContent\"\n",
        "    chapters.append(f\"{chapter_title}\\n\\n{chapter_content}\")\n",
        "\n",
        "# Print the first 300 characters of each chapter\n",
        "for i, chapter in enumerate(chapters, 1):\n",
        "    print(f\"Chapter {i}: {chapter[:300]}...\\n\")\n"
      ],
      "metadata": {
        "colab": {
          "base_uri": "https://localhost:8080/"
        },
        "id": "aAjFbkw3LEHI",
        "outputId": "ea74e7a6-3620-4ef9-b5fe-6f6c26f03e31"
      },
      "execution_count": 44,
      "outputs": [
        {
          "output_type": "stream",
          "name": "stdout",
          "text": [
            "Chapter 1: A SCANDAL IN BOHEMIA\n",
            "\n",
            "To Sherlock Holmes she is always _the_ woman. I have seldom heard him\n",
            "mention her under any other name. In his eyes she eclipses and\n",
            "predominates the whole of her sex. It was not that he felt any emotion\n",
            "akin to love for Irene Adler. All emotions, and that one particularly,\n",
            "wer...\n",
            "\n",
            "Chapter 2: THE RED-HEADED LEAGUE\n",
            "\n",
            "I had called upon my friend, Mr. Sherlock Holmes, one day in the\n",
            " autumn of last year and found him in deep conversation with a very\n",
            " stout, florid-faced, elderly gentleman with fiery red hair. With an\n",
            " apology for my intrusion, I was about to withdraw when Holmes pulled\n",
            " me a...\n",
            "\n",
            "Chapter 3: A CASE OF IDENTITY\n",
            "\n",
            "“My dear fellow,” said Sherlock Holmes as we sat on either side of the\n",
            "fire in his lodgings at Baker Street, “life is infinitely stranger than\n",
            "anything which the mind of man could invent. We would not dare to\n",
            "conceive the things which are really mere commonplaces of existence. If...\n",
            "\n",
            "Chapter 4: THE BOSCOMBE VALLEY MYSTERY\n",
            "\n",
            "We were seated at breakfast one morning, my wife and I, when the maid\n",
            "brought in a telegram. It was from Sherlock Holmes and ran in this way:\n",
            "\n",
            "“Have you a couple of days to spare? Have just been wired for from the\n",
            "west of England in connection with Boscombe Valley traged...\n",
            "\n",
            "Chapter 5: THE FIVE ORANGE PIPS\n",
            "\n",
            "When I glance over my notes and records of the Sherlock Holmes cases\n",
            "between the years ’82 and ’90, I am faced by so many which present\n",
            "strange and interesting features that it is no easy matter to know\n",
            "which to choose and which to leave. Some, however, have already gained\n",
            "publ...\n",
            "\n",
            "Chapter 6: THE MAN WITH THE TWISTED LIP\n",
            "\n",
            "Isa Whitney, brother of the late Elias Whitney, D.D., Principal of the\n",
            "Theological College of St. George’s, was much addicted to opium. The\n",
            "habit grew upon him, as I understand, from some foolish freak when he\n",
            "was at college; for having read De Quincey’s description of ...\n",
            "\n",
            "Chapter 7: THE ADVENTURE OF THE BLUE CARBUNCLE\n",
            "\n",
            "I had called upon my friend Sherlock Holmes upon the second morning\n",
            "after Christmas, with the intention of wishing him the compliments of\n",
            "the season. He was lounging upon the sofa in a purple dressing-gown, a\n",
            "pipe-rack within his reach upon the right, and a pile ...\n",
            "\n",
            "Chapter 8: THE ADVENTURE OF THE SPECKLED BAND\n",
            "\n",
            "On glancing over my notes of the seventy odd cases in which I have\n",
            "during the last eight years studied the methods of my friend Sherlock\n",
            "Holmes, I find many tragic, some comic, a large number merely strange,\n",
            "but none commonplace; for, working as he did rather for ...\n",
            "\n",
            "Chapter 9: THE ADVENTURE OF THE ENGINEER’S THUMB\n",
            "\n",
            "Of all the problems which have been submitted to my friend, Mr.\n",
            "Sherlock Holmes, for solution during the years of our intimacy, there\n",
            "were only two which I was the means of introducing to his notice—that\n",
            "of Mr. Hatherley’s thumb, and that of Colonel Warburton’s...\n",
            "\n",
            "Chapter 10: THE ADVENTURE OF THE NOBLE BACHELOR\n",
            "\n",
            "The Lord St. Simon marriage, and its curious termination, have long\n",
            "ceased to be a subject of interest in those exalted circles in which\n",
            "the unfortunate bridegroom moves. Fresh scandals have eclipsed it, and\n",
            "their more piquant details have drawn the gossips away ...\n",
            "\n",
            "Chapter 11: THE ADVENTURE OF THE BERYL CORONET\n",
            "\n",
            "“Holmes,” said I as I stood one morning in our bow-window looking down\n",
            "the street, “here is a madman coming along. It seems rather sad that\n",
            "his relatives should allow him to come out alone.”\n",
            "\n",
            "My friend rose lazily from his armchair and stood with his hands in the\n",
            "...\n",
            "\n",
            "Chapter 12: THE ADVENTURE OF THE COPPER BEECHES\n",
            "\n",
            "“To the man who loves art for its own sake,” remarked Sherlock Holmes,\n",
            "tossing aside the advertisement sheet of _The Daily Telegraph_, “it is\n",
            "frequently in its least important and lowliest manifestations that the\n",
            "keenest pleasure is to be derived. It is pleasant ...\n",
            "\n"
          ]
        }
      ]
    },
    {
      "cell_type": "code",
      "source": [
        "new_text = '\\n'.join(chapters)\n",
        "print(new_text[:1500])"
      ],
      "metadata": {
        "colab": {
          "base_uri": "https://localhost:8080/"
        },
        "id": "cyvHFxpkNinv",
        "outputId": "7eae4a3f-f594-46d7-be41-42d593933957"
      },
      "execution_count": 45,
      "outputs": [
        {
          "output_type": "stream",
          "name": "stdout",
          "text": [
            "A SCANDAL IN BOHEMIA\n",
            "\n",
            "To Sherlock Holmes she is always _the_ woman. I have seldom heard him\n",
            "mention her under any other name. In his eyes she eclipses and\n",
            "predominates the whole of her sex. It was not that he felt any emotion\n",
            "akin to love for Irene Adler. All emotions, and that one particularly,\n",
            "were abhorrent to his cold, precise but admirably balanced mind. He\n",
            "was, I take it, the most perfect reasoning and observing machine that\n",
            "the world has seen, but as a lover he would have placed himself in a\n",
            "false position. He never spoke of the softer passions, save with a gibe\n",
            "and a sneer. They were admirable things for the observer—excellent for\n",
            "drawing the veil from men’s motives and actions. But for the trained\n",
            "reasoner to admit such intrusions into his own delicate and finely\n",
            "adjusted temperament was to introduce a distracting factor which might\n",
            "throw a doubt upon all his mental results. Grit in a sensitive\n",
            "instrument, or a crack in one of his own high-power lenses, would not\n",
            "be more disturbing than a strong emotion in a nature such as his. And\n",
            "yet there was but one woman to him, and that woman was the late Irene\n",
            "Adler, of dubious and questionable memory.\n",
            "\n",
            "I had seen little of Holmes lately. My marriage had drifted us away\n",
            "from each other. My own complete happiness, and the home-centred\n",
            "interests which rise up around the man who first finds himself master\n",
            "of his own establishment, were sufficient to absorb all my attention,\n",
            "while Holmes, who loathed every form of society with his\n"
          ]
        }
      ]
    },
    {
      "cell_type": "code",
      "source": [
        "with open('dataset_clean.txt', 'w') as f:\n",
        "  f.write(new_text)"
      ],
      "metadata": {
        "id": "t6-4w9RRbBxT"
      },
      "execution_count": 46,
      "outputs": []
    },
    {
      "cell_type": "markdown",
      "source": [
        "Observando el dataset limpio, vemos que\n",
        "- `\\n\\n` (consecutive endline)\n",
        "- `_the_` (emphasis)\n",
        "- `“Seven!”` (punctuation)\n",
        "- `“Absolutely?”` (punctuation)\n",
        "- `John’s` (punctuation)\n",
        "- `won’t` (contractions)\n",
        "- `half-dragged` (hyphened compound-words)\n",
        "- `“‘The Church of St. Monica,` (abbreviation)\n",
        "- `\\t\\t“MY DEAR MR. SHERLOCK HOLMES` (tabs/spaces)\n",
        "- `_née_` (tilde)\n",
        "- `“‘Never.’` (quotes)\n",
        "- `“THE RED-HEADED LEAGUE IS DISSOLVED. October 9, 1890.”` (numbered date)\n",
        "- `sitting-room`\n",
        "- `“‘December 22nd. Twenty-four geese at 7_s_. 6_d_.’”`\n",
        "\n",
        "Deberíamos aplicar un preprocesamiento al texto.\n",
        "\n",
        "Una práctica recomendada es pasar todo a minúscula"
      ],
      "metadata": {
        "id": "omgwSL9NbH8m"
      }
    },
    {
      "cell_type": "markdown",
      "source": [
        "## 1 - Preprocesamiento"
      ],
      "metadata": {
        "id": "cjlZz6kqZexn"
      }
    },
    {
      "cell_type": "code",
      "source": [
        "import pandas as pd\n",
        "df = pd.read_csv('dataset_clean.txt', sep='/n', header=None)\n",
        "# df.head()"
      ],
      "metadata": {
        "colab": {
          "base_uri": "https://localhost:8080/"
        },
        "id": "FOA_1YbMpjLo",
        "outputId": "161bd196-de4d-4321-a678-c6c6041739a6"
      },
      "execution_count": 57,
      "outputs": [
        {
          "output_type": "stream",
          "name": "stderr",
          "text": [
            "<ipython-input-57-3f35ef7c423a>:2: ParserWarning: Falling back to the 'python' engine because the 'c' engine does not support regex separators (separators > 1 char and different from '\\s+' are interpreted as regex); you can avoid this warning by specifying engine='python'.\n",
            "  df = pd.read_csv('dataset_clean.txt', sep='/n', header=None)\n"
          ]
        }
      ]
    },
    {
      "cell_type": "code",
      "source": [
        "print(\"Cantidad de lineas:\", df.shape[0])"
      ],
      "metadata": {
        "colab": {
          "base_uri": "https://localhost:8080/"
        },
        "id": "szc70eRtp-Wr",
        "outputId": "fb1eb572-015a-4559-c817-234c3090efd4"
      },
      "execution_count": 60,
      "outputs": [
        {
          "output_type": "stream",
          "name": "stdout",
          "text": [
            "Cantidad de lineas: 9293\n"
          ]
        }
      ]
    },
    {
      "cell_type": "code",
      "source": [
        "from tensorflow.keras.preprocessing.text import text_to_word_sequence\n",
        "\n",
        "sentence_tokens = []\n",
        "# Recorrer todas las filas y transformar las oraciones\n",
        "# en una secuencia de palabras (esto podría realizarse con NLTK o spaCy también)\n",
        "for _, row in df[:None].iterrows():\n",
        "    sentence_tokens.append(text_to_word_sequence(row[0]))\n",
        "\n"
      ],
      "metadata": {
        "id": "d0j6ndLma8pv"
      },
      "execution_count": 62,
      "outputs": []
    },
    {
      "cell_type": "code",
      "source": [
        "sentence_tokens[:2]"
      ],
      "metadata": {
        "colab": {
          "base_uri": "https://localhost:8080/"
        },
        "id": "a0f5W3K-qExF",
        "outputId": "b8edf572-b3bc-4a0b-ff9a-16b182d19e28"
      },
      "execution_count": 63,
      "outputs": [
        {
          "output_type": "execute_result",
          "data": {
            "text/plain": [
              "[['a', 'scandal', 'in', 'bohemia'],\n",
              " ['to',\n",
              "  'sherlock',\n",
              "  'holmes',\n",
              "  'she',\n",
              "  'is',\n",
              "  'always',\n",
              "  'the',\n",
              "  'woman',\n",
              "  'i',\n",
              "  'have',\n",
              "  'seldom',\n",
              "  'heard',\n",
              "  'him']]"
            ]
          },
          "metadata": {},
          "execution_count": 63
        }
      ]
    },
    {
      "cell_type": "markdown",
      "source": [
        "### 2 - Crear los vectores (word2vec)"
      ],
      "metadata": {
        "id": "i1WH3HqvqMnq"
      }
    },
    {
      "cell_type": "code",
      "source": [
        "!pip install gensim"
      ],
      "metadata": {
        "colab": {
          "base_uri": "https://localhost:8080/"
        },
        "id": "l6YflgwpqSzx",
        "outputId": "ec1fb5c3-747d-4cf9-fdd1-803f71184174"
      },
      "execution_count": 66,
      "outputs": [
        {
          "output_type": "stream",
          "name": "stdout",
          "text": [
            "Collecting gensim\n",
            "  Downloading gensim-4.3.3-cp311-cp311-manylinux_2_17_x86_64.manylinux2014_x86_64.whl.metadata (8.1 kB)\n",
            "Collecting numpy<2.0,>=1.18.5 (from gensim)\n",
            "  Downloading numpy-1.26.4-cp311-cp311-manylinux_2_17_x86_64.manylinux2014_x86_64.whl.metadata (61 kB)\n",
            "\u001b[2K     \u001b[90m━━━━━━━━━━━━━━━━━━━━━━━━━━━━━━━━━━━━━━━━\u001b[0m \u001b[32m61.0/61.0 kB\u001b[0m \u001b[31m2.6 MB/s\u001b[0m eta \u001b[36m0:00:00\u001b[0m\n",
            "\u001b[?25hCollecting scipy<1.14.0,>=1.7.0 (from gensim)\n",
            "  Downloading scipy-1.13.1-cp311-cp311-manylinux_2_17_x86_64.manylinux2014_x86_64.whl.metadata (60 kB)\n",
            "\u001b[2K     \u001b[90m━━━━━━━━━━━━━━━━━━━━━━━━━━━━━━━━━━━━━━━━\u001b[0m \u001b[32m60.6/60.6 kB\u001b[0m \u001b[31m2.4 MB/s\u001b[0m eta \u001b[36m0:00:00\u001b[0m\n",
            "\u001b[?25hRequirement already satisfied: smart-open>=1.8.1 in /usr/local/lib/python3.11/dist-packages (from gensim) (7.1.0)\n",
            "Requirement already satisfied: wrapt in /usr/local/lib/python3.11/dist-packages (from smart-open>=1.8.1->gensim) (1.17.2)\n",
            "Downloading gensim-4.3.3-cp311-cp311-manylinux_2_17_x86_64.manylinux2014_x86_64.whl (26.7 MB)\n",
            "\u001b[2K   \u001b[90m━━━━━━━━━━━━━━━━━━━━━━━━━━━━━━━━━━━━━━━━\u001b[0m \u001b[32m26.7/26.7 MB\u001b[0m \u001b[31m55.7 MB/s\u001b[0m eta \u001b[36m0:00:00\u001b[0m\n",
            "\u001b[?25hDownloading numpy-1.26.4-cp311-cp311-manylinux_2_17_x86_64.manylinux2014_x86_64.whl (18.3 MB)\n",
            "\u001b[2K   \u001b[90m━━━━━━━━━━━━━━━━━━━━━━━━━━━━━━━━━━━━━━━━\u001b[0m \u001b[32m18.3/18.3 MB\u001b[0m \u001b[31m77.7 MB/s\u001b[0m eta \u001b[36m0:00:00\u001b[0m\n",
            "\u001b[?25hDownloading scipy-1.13.1-cp311-cp311-manylinux_2_17_x86_64.manylinux2014_x86_64.whl (38.6 MB)\n",
            "\u001b[2K   \u001b[90m━━━━━━━━━━━━━━━━━━━━━━━━━━━━━━━━━━━━━━━━\u001b[0m \u001b[32m38.6/38.6 MB\u001b[0m \u001b[31m15.0 MB/s\u001b[0m eta \u001b[36m0:00:00\u001b[0m\n",
            "\u001b[?25hInstalling collected packages: numpy, scipy, gensim\n",
            "  Attempting uninstall: numpy\n",
            "    Found existing installation: numpy 2.0.2\n",
            "    Uninstalling numpy-2.0.2:\n",
            "      Successfully uninstalled numpy-2.0.2\n",
            "  Attempting uninstall: scipy\n",
            "    Found existing installation: scipy 1.14.1\n",
            "    Uninstalling scipy-1.14.1:\n",
            "      Successfully uninstalled scipy-1.14.1\n",
            "Successfully installed gensim-4.3.3 numpy-1.26.4 scipy-1.13.1\n"
          ]
        }
      ]
    },
    {
      "cell_type": "code",
      "source": [
        "!pip uninstall -y numpy gensim\n",
        "!pip install --upgrade numpy gensim\n"
      ],
      "metadata": {
        "colab": {
          "base_uri": "https://localhost:8080/"
        },
        "id": "RZ35guT_qp7s",
        "outputId": "fda1e320-6226-4a3b-fd7a-b7e53e279599"
      },
      "execution_count": 68,
      "outputs": [
        {
          "output_type": "stream",
          "name": "stdout",
          "text": [
            "Found existing installation: numpy 1.26.4\n",
            "Uninstalling numpy-1.26.4:\n",
            "  Successfully uninstalled numpy-1.26.4\n",
            "Found existing installation: gensim 4.3.3\n",
            "Uninstalling gensim-4.3.3:\n",
            "  Successfully uninstalled gensim-4.3.3\n",
            "Collecting numpy\n",
            "  Downloading numpy-2.2.4-cp311-cp311-manylinux_2_17_x86_64.manylinux2014_x86_64.whl.metadata (62 kB)\n",
            "\u001b[2K     \u001b[90m━━━━━━━━━━━━━━━━━━━━━━━━━━━━━━━━━━━━━━━━\u001b[0m \u001b[32m62.0/62.0 kB\u001b[0m \u001b[31m1.4 MB/s\u001b[0m eta \u001b[36m0:00:00\u001b[0m\n",
            "\u001b[?25hCollecting gensim\n",
            "  Using cached gensim-4.3.3-cp311-cp311-manylinux_2_17_x86_64.manylinux2014_x86_64.whl.metadata (8.1 kB)\n",
            "Collecting numpy\n",
            "  Using cached numpy-1.26.4-cp311-cp311-manylinux_2_17_x86_64.manylinux2014_x86_64.whl.metadata (61 kB)\n",
            "Requirement already satisfied: scipy<1.14.0,>=1.7.0 in /usr/local/lib/python3.11/dist-packages (from gensim) (1.13.1)\n",
            "Requirement already satisfied: smart-open>=1.8.1 in /usr/local/lib/python3.11/dist-packages (from gensim) (7.1.0)\n",
            "Requirement already satisfied: wrapt in /usr/local/lib/python3.11/dist-packages (from smart-open>=1.8.1->gensim) (1.17.2)\n",
            "Using cached gensim-4.3.3-cp311-cp311-manylinux_2_17_x86_64.manylinux2014_x86_64.whl (26.7 MB)\n",
            "Using cached numpy-1.26.4-cp311-cp311-manylinux_2_17_x86_64.manylinux2014_x86_64.whl (18.3 MB)\n",
            "Installing collected packages: numpy, gensim\n",
            "Successfully installed gensim-4.3.3 numpy-1.26.4\n"
          ]
        }
      ]
    },
    {
      "cell_type": "code",
      "source": [
        "from gensim.models.callbacks import CallbackAny2Vec\n",
        "# Durante el entrenamiento gensim por defecto no informa el \"loss\" en cada época\n",
        "# Sobrecargamos el callback para poder tener esta información\n",
        "class callback(CallbackAny2Vec):\n",
        "    \"\"\"\n",
        "    Callback to print loss after each epoch\n",
        "    \"\"\"\n",
        "    def __init__(self):\n",
        "        self.epoch = 0\n",
        "\n",
        "    def on_epoch_end(self, model):\n",
        "        loss = model.get_latest_training_loss()\n",
        "        if self.epoch == 0:\n",
        "            print('Loss after epoch {}: {}'.format(self.epoch, loss))\n",
        "        else:\n",
        "            print('Loss after epoch {}: {}'.format(self.epoch, loss- self.loss_previous_step))\n",
        "        self.epoch += 1\n",
        "        self.loss_previous_step = loss"
      ],
      "metadata": {
        "colab": {
          "base_uri": "https://localhost:8080/",
          "height": 269
        },
        "id": "JPjIYXPWqMKP",
        "outputId": "aa5518f3-8ddd-4b85-d1bc-3ffa7b734cac"
      },
      "execution_count": 69,
      "outputs": [
        {
          "output_type": "error",
          "ename": "ValueError",
          "evalue": "numpy.dtype size changed, may indicate binary incompatibility. Expected 96 from C header, got 88 from PyObject",
          "traceback": [
            "\u001b[0;31m---------------------------------------------------------------------------\u001b[0m",
            "\u001b[0;31mValueError\u001b[0m                                Traceback (most recent call last)",
            "\u001b[0;32m<ipython-input-69-154ee4bf026c>\u001b[0m in \u001b[0;36m<cell line: 0>\u001b[0;34m()\u001b[0m\n\u001b[0;32m----> 1\u001b[0;31m \u001b[0;32mfrom\u001b[0m \u001b[0mgensim\u001b[0m\u001b[0;34m.\u001b[0m\u001b[0mmodels\u001b[0m\u001b[0;34m.\u001b[0m\u001b[0mcallbacks\u001b[0m \u001b[0;32mimport\u001b[0m \u001b[0mCallbackAny2Vec\u001b[0m\u001b[0;34m\u001b[0m\u001b[0;34m\u001b[0m\u001b[0m\n\u001b[0m\u001b[1;32m      2\u001b[0m \u001b[0;31m# Durante el entrenamiento gensim por defecto no informa el \"loss\" en cada época\u001b[0m\u001b[0;34m\u001b[0m\u001b[0;34m\u001b[0m\u001b[0m\n\u001b[1;32m      3\u001b[0m \u001b[0;31m# Sobrecargamos el callback para poder tener esta información\u001b[0m\u001b[0;34m\u001b[0m\u001b[0;34m\u001b[0m\u001b[0m\n\u001b[1;32m      4\u001b[0m \u001b[0;32mclass\u001b[0m \u001b[0mcallback\u001b[0m\u001b[0;34m(\u001b[0m\u001b[0mCallbackAny2Vec\u001b[0m\u001b[0;34m)\u001b[0m\u001b[0;34m:\u001b[0m\u001b[0;34m\u001b[0m\u001b[0;34m\u001b[0m\u001b[0m\n\u001b[1;32m      5\u001b[0m     \"\"\"\n",
            "\u001b[0;32m/usr/local/lib/python3.11/dist-packages/gensim/__init__.py\u001b[0m in \u001b[0;36m<module>\u001b[0;34m\u001b[0m\n\u001b[1;32m      9\u001b[0m \u001b[0;32mimport\u001b[0m \u001b[0mlogging\u001b[0m\u001b[0;34m\u001b[0m\u001b[0;34m\u001b[0m\u001b[0m\n\u001b[1;32m     10\u001b[0m \u001b[0;34m\u001b[0m\u001b[0m\n\u001b[0;32m---> 11\u001b[0;31m \u001b[0;32mfrom\u001b[0m \u001b[0mgensim\u001b[0m \u001b[0;32mimport\u001b[0m \u001b[0mparsing\u001b[0m\u001b[0;34m,\u001b[0m \u001b[0mcorpora\u001b[0m\u001b[0;34m,\u001b[0m \u001b[0mmatutils\u001b[0m\u001b[0;34m,\u001b[0m \u001b[0minterfaces\u001b[0m\u001b[0;34m,\u001b[0m \u001b[0mmodels\u001b[0m\u001b[0;34m,\u001b[0m \u001b[0msimilarities\u001b[0m\u001b[0;34m,\u001b[0m \u001b[0mutils\u001b[0m  \u001b[0;31m# noqa:F401\u001b[0m\u001b[0;34m\u001b[0m\u001b[0;34m\u001b[0m\u001b[0m\n\u001b[0m\u001b[1;32m     12\u001b[0m \u001b[0;34m\u001b[0m\u001b[0m\n\u001b[1;32m     13\u001b[0m \u001b[0;34m\u001b[0m\u001b[0m\n",
            "\u001b[0;32m/usr/local/lib/python3.11/dist-packages/gensim/corpora/__init__.py\u001b[0m in \u001b[0;36m<module>\u001b[0;34m\u001b[0m\n\u001b[1;32m      4\u001b[0m \u001b[0;34m\u001b[0m\u001b[0m\n\u001b[1;32m      5\u001b[0m \u001b[0;31m# bring corpus classes directly into package namespace, to save some typing\u001b[0m\u001b[0;34m\u001b[0m\u001b[0;34m\u001b[0m\u001b[0m\n\u001b[0;32m----> 6\u001b[0;31m \u001b[0;32mfrom\u001b[0m \u001b[0;34m.\u001b[0m\u001b[0mindexedcorpus\u001b[0m \u001b[0;32mimport\u001b[0m \u001b[0mIndexedCorpus\u001b[0m  \u001b[0;31m# noqa:F401 must appear before the other classes\u001b[0m\u001b[0;34m\u001b[0m\u001b[0;34m\u001b[0m\u001b[0m\n\u001b[0m\u001b[1;32m      7\u001b[0m \u001b[0;34m\u001b[0m\u001b[0m\n\u001b[1;32m      8\u001b[0m \u001b[0;32mfrom\u001b[0m \u001b[0;34m.\u001b[0m\u001b[0mmmcorpus\u001b[0m \u001b[0;32mimport\u001b[0m \u001b[0mMmCorpus\u001b[0m  \u001b[0;31m# noqa:F401\u001b[0m\u001b[0;34m\u001b[0m\u001b[0;34m\u001b[0m\u001b[0m\n",
            "\u001b[0;32m/usr/local/lib/python3.11/dist-packages/gensim/corpora/indexedcorpus.py\u001b[0m in \u001b[0;36m<module>\u001b[0;34m\u001b[0m\n\u001b[1;32m     12\u001b[0m \u001b[0;32mimport\u001b[0m \u001b[0mnumpy\u001b[0m\u001b[0;34m\u001b[0m\u001b[0;34m\u001b[0m\u001b[0m\n\u001b[1;32m     13\u001b[0m \u001b[0;34m\u001b[0m\u001b[0m\n\u001b[0;32m---> 14\u001b[0;31m \u001b[0;32mfrom\u001b[0m \u001b[0mgensim\u001b[0m \u001b[0;32mimport\u001b[0m \u001b[0minterfaces\u001b[0m\u001b[0;34m,\u001b[0m \u001b[0mutils\u001b[0m\u001b[0;34m\u001b[0m\u001b[0;34m\u001b[0m\u001b[0m\n\u001b[0m\u001b[1;32m     15\u001b[0m \u001b[0;34m\u001b[0m\u001b[0m\n\u001b[1;32m     16\u001b[0m \u001b[0mlogger\u001b[0m \u001b[0;34m=\u001b[0m \u001b[0mlogging\u001b[0m\u001b[0;34m.\u001b[0m\u001b[0mgetLogger\u001b[0m\u001b[0;34m(\u001b[0m\u001b[0m__name__\u001b[0m\u001b[0;34m)\u001b[0m\u001b[0;34m\u001b[0m\u001b[0;34m\u001b[0m\u001b[0m\n",
            "\u001b[0;32m/usr/local/lib/python3.11/dist-packages/gensim/interfaces.py\u001b[0m in \u001b[0;36m<module>\u001b[0;34m\u001b[0m\n\u001b[1;32m     17\u001b[0m \u001b[0;32mimport\u001b[0m \u001b[0mlogging\u001b[0m\u001b[0;34m\u001b[0m\u001b[0;34m\u001b[0m\u001b[0m\n\u001b[1;32m     18\u001b[0m \u001b[0;34m\u001b[0m\u001b[0m\n\u001b[0;32m---> 19\u001b[0;31m \u001b[0;32mfrom\u001b[0m \u001b[0mgensim\u001b[0m \u001b[0;32mimport\u001b[0m \u001b[0mutils\u001b[0m\u001b[0;34m,\u001b[0m \u001b[0mmatutils\u001b[0m\u001b[0;34m\u001b[0m\u001b[0;34m\u001b[0m\u001b[0m\n\u001b[0m\u001b[1;32m     20\u001b[0m \u001b[0;34m\u001b[0m\u001b[0m\n\u001b[1;32m     21\u001b[0m \u001b[0;34m\u001b[0m\u001b[0m\n",
            "\u001b[0;32m/usr/local/lib/python3.11/dist-packages/gensim/matutils.py\u001b[0m in \u001b[0;36m<module>\u001b[0;34m\u001b[0m\n\u001b[1;32m   1032\u001b[0m \u001b[0;32mtry\u001b[0m\u001b[0;34m:\u001b[0m\u001b[0;34m\u001b[0m\u001b[0;34m\u001b[0m\u001b[0m\n\u001b[1;32m   1033\u001b[0m     \u001b[0;31m# try to load fast, cythonized code if possible\u001b[0m\u001b[0;34m\u001b[0m\u001b[0;34m\u001b[0m\u001b[0m\n\u001b[0;32m-> 1034\u001b[0;31m     \u001b[0;32mfrom\u001b[0m \u001b[0mgensim\u001b[0m\u001b[0;34m.\u001b[0m\u001b[0m_matutils\u001b[0m \u001b[0;32mimport\u001b[0m \u001b[0mlogsumexp\u001b[0m\u001b[0;34m,\u001b[0m \u001b[0mmean_absolute_difference\u001b[0m\u001b[0;34m,\u001b[0m \u001b[0mdirichlet_expectation\u001b[0m\u001b[0;34m\u001b[0m\u001b[0;34m\u001b[0m\u001b[0m\n\u001b[0m\u001b[1;32m   1035\u001b[0m \u001b[0;34m\u001b[0m\u001b[0m\n\u001b[1;32m   1036\u001b[0m \u001b[0;32mexcept\u001b[0m \u001b[0mImportError\u001b[0m\u001b[0;34m:\u001b[0m\u001b[0;34m\u001b[0m\u001b[0;34m\u001b[0m\u001b[0m\n",
            "\u001b[0;32m/usr/local/lib/python3.11/dist-packages/gensim/_matutils.pyx\u001b[0m in \u001b[0;36minit gensim._matutils\u001b[0;34m()\u001b[0m\n",
            "\u001b[0;31mValueError\u001b[0m: numpy.dtype size changed, may indicate binary incompatibility. Expected 96 from C header, got 88 from PyObject"
          ]
        }
      ]
    }
  ]
}