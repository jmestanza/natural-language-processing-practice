{
  "nbformat": 4,
  "nbformat_minor": 0,
  "metadata": {
    "colab": {
      "provenance": [],
      "authorship_tag": "ABX9TyOvmQb/eYLorybiAZNjyV4+",
      "include_colab_link": true
    },
    "kernelspec": {
      "name": "python3",
      "display_name": "Python 3"
    },
    "language_info": {
      "name": "python"
    }
  },
  "cells": [
    {
      "cell_type": "markdown",
      "metadata": {
        "id": "view-in-github",
        "colab_type": "text"
      },
      "source": [
        "<a href=\"https://colab.research.google.com/github/jmestanza/natural-language-processing-practice/blob/main/desafios/Desafio_2/Desafio_2.ipynb\" target=\"_parent\"><img src=\"https://colab.research.google.com/assets/colab-badge.svg\" alt=\"Open In Colab\"/></a>"
      ]
    },
    {
      "cell_type": "markdown",
      "source": [
        "Crear sus propios vectores con Gensim\n",
        "basado en lo visto en clase con otro\n",
        "dataset.\n",
        "Probar términos de interés y explicar\n",
        "similitudes en el espacio de embeddings.\n",
        "Intentar plantear y probar tests de\n",
        "analogías. Graficar los embeddings\n",
        "resultantes.\n",
        "Sacar conclusiones."
      ],
      "metadata": {
        "id": "ItlvXdgo_tqp"
      }
    },
    {
      "cell_type": "markdown",
      "source": [
        "Algunos de los sitios de textos sugeridos fueron:\n",
        "- [Project Gutenberg](https://www.gutenberg.org/browse/scores/top)\n",
        "- [Textos.info](https://www.textos.info/)\n",
        "\n",
        "Se eligió analizar los textos pertenecientes a [The Project Gutenberg eBook of The Adventures of Sherlock Holmes](https://www.gutenberg.org/cache/epub/1661/pg1661.txt)\n"
      ],
      "metadata": {
        "id": "pFC94kllBtua"
      }
    },
    {
      "cell_type": "markdown",
      "source": [
        "Por razones de compatibilidad con gensim, pandas y numpy hay que correr la siguiente linea de código."
      ],
      "metadata": {
        "id": "XPzpE--p1_0L"
      }
    },
    {
      "cell_type": "code",
      "source": [
        "!pip uninstall -y numpy gensim\n",
        "!pip install --upgrade numpy gensim"
      ],
      "metadata": {
        "colab": {
          "base_uri": "https://localhost:8080/"
        },
        "id": "8aPNpbiO1uNG",
        "outputId": "66a6bcaa-b5e4-4e3e-ccc7-06a53661bd77"
      },
      "execution_count": 1,
      "outputs": [
        {
          "output_type": "stream",
          "name": "stdout",
          "text": [
            "Found existing installation: numpy 1.26.4\n",
            "Uninstalling numpy-1.26.4:\n",
            "  Successfully uninstalled numpy-1.26.4\n",
            "Found existing installation: gensim 4.3.3\n",
            "Uninstalling gensim-4.3.3:\n",
            "  Successfully uninstalled gensim-4.3.3\n",
            "Collecting numpy\n",
            "  Using cached numpy-2.2.4-cp311-cp311-manylinux_2_17_x86_64.manylinux2014_x86_64.whl.metadata (62 kB)\n",
            "Collecting gensim\n",
            "  Using cached gensim-4.3.3-cp311-cp311-manylinux_2_17_x86_64.manylinux2014_x86_64.whl.metadata (8.1 kB)\n",
            "Collecting numpy\n",
            "  Using cached numpy-1.26.4-cp311-cp311-manylinux_2_17_x86_64.manylinux2014_x86_64.whl.metadata (61 kB)\n",
            "Requirement already satisfied: scipy<1.14.0,>=1.7.0 in /usr/local/lib/python3.11/dist-packages (from gensim) (1.13.1)\n",
            "Requirement already satisfied: smart-open>=1.8.1 in /usr/local/lib/python3.11/dist-packages (from gensim) (7.1.0)\n",
            "Requirement already satisfied: wrapt in /usr/local/lib/python3.11/dist-packages (from smart-open>=1.8.1->gensim) (1.17.2)\n",
            "Using cached gensim-4.3.3-cp311-cp311-manylinux_2_17_x86_64.manylinux2014_x86_64.whl (26.7 MB)\n",
            "Using cached numpy-1.26.4-cp311-cp311-manylinux_2_17_x86_64.manylinux2014_x86_64.whl (18.3 MB)\n",
            "Installing collected packages: numpy, gensim\n",
            "Successfully installed gensim-4.3.3 numpy-1.26.4\n"
          ]
        }
      ]
    },
    {
      "cell_type": "code",
      "source": [
        "import os\n",
        "filename = 'dataset.txt'\n",
        "text_path = 'https://raw.githubusercontent.com/jmestanza/natural-language-processing-practice/refs/heads/main/desafios/Desafio_2/the_adventures_of_sherlock_holmes.txt'\n",
        "curr_dir = os.getcwd()\n",
        "dataset_path = os.path.join(curr_dir, filename)\n",
        "if not os.path.exists(dataset_path):\n",
        "  !wget {text_path} -O {filename}\n",
        "\n",
        "os.listdir(curr_dir)\n"
      ],
      "metadata": {
        "colab": {
          "base_uri": "https://localhost:8080/"
        },
        "id": "FgdNH4GdFvk7",
        "outputId": "ff03fa9d-47d6-4635-8cd9-0c7e1e240435"
      },
      "execution_count": 2,
      "outputs": [
        {
          "output_type": "execute_result",
          "data": {
            "text/plain": [
              "['.config', 'dataset_clean.txt', 'dataset.txt', 'sample_data']"
            ]
          },
          "metadata": {},
          "execution_count": 2
        }
      ]
    },
    {
      "cell_type": "code",
      "source": [
        "with open(dataset_path, 'r') as f:\n",
        "  text = f.read()\n",
        "\n",
        "print(text[:1500])"
      ],
      "metadata": {
        "colab": {
          "base_uri": "https://localhost:8080/"
        },
        "id": "X-2-XwJ7G7Eq",
        "outputId": "8d993de1-21f3-458e-af3c-6aa62c2985fc"
      },
      "execution_count": 3,
      "outputs": [
        {
          "output_type": "stream",
          "name": "stdout",
          "text": [
            "﻿The Project Gutenberg eBook of The Adventures of Sherlock Holmes\n",
            "    \n",
            "This ebook is for the use of anyone anywhere in the United States and\n",
            "most other parts of the world at no cost and with almost no restrictions\n",
            "whatsoever. You may copy it, give it away or re-use it under the terms\n",
            "of the Project Gutenberg License included with this ebook or online\n",
            "at www.gutenberg.org. If you are not located in the United States,\n",
            "you will have to check the laws of the country where you are located\n",
            "before using this eBook.\n",
            "\n",
            "Title: The Adventures of Sherlock Holmes\n",
            "\n",
            "Author: Arthur Conan Doyle\n",
            "\n",
            "Release date: March 1, 1999 [eBook #1661]\n",
            "                Most recently updated: October 10, 2023\n",
            "\n",
            "Language: English\n",
            "\n",
            "Credits: an anonymous Project Gutenberg volunteer and Jose Menendez\n",
            "\n",
            "\n",
            "*** START OF THE PROJECT GUTENBERG EBOOK THE ADVENTURES OF SHERLOCK HOLMES ***\n",
            "\n",
            "\n",
            "\n",
            "\n",
            "The Adventures of Sherlock Holmes\n",
            "\n",
            "by Arthur Conan Doyle\n",
            "\n",
            "\n",
            "Contents\n",
            "\n",
            "   I.     A Scandal in Bohemia\n",
            "   II.    The Red-Headed League\n",
            "   III.   A Case of Identity\n",
            "   IV.    The Boscombe Valley Mystery\n",
            "   V.     The Five Orange Pips\n",
            "   VI.    The Man with the Twisted Lip\n",
            "   VII.   The Adventure of the Blue Carbuncle\n",
            "   VIII.  The Adventure of the Speckled Band\n",
            "   IX.    The Adventure of the Engineer’s Thumb\n",
            "   X.     The Adventure of the Noble Bachelor\n",
            "   XI.    The Adventure of the Beryl Coronet\n",
            "   XII.   The Adventure of the Copper Beeches\n",
            "\n",
            "\n",
            "\n",
            "\n",
            "I. A SCANDAL IN BOHEMIA\n",
            "\n",
            "\n",
            "I.\n",
            "\n",
            "To Sherlock Holmes she is always _the_ woman. I have seldom heard\n"
          ]
        }
      ]
    },
    {
      "cell_type": "markdown",
      "source": [
        "## Limpieza de dataset\n",
        "Debemos obtener solo los textos de adentro de los capítulos y subcapítulos.\n",
        "\n",
        "Además debemos ignorar el texto que viene con la metadata de la obra (presente en el principio y final del dataset).\n",
        "\n",
        "La estructura es\n",
        "\n",
        "\n",
        "```\n",
        "I. Chapter title\n",
        "I.\n",
        "text\n",
        "II.\n",
        "text\n",
        "```\n",
        "\n"
      ],
      "metadata": {
        "id": "DHNPvr52LHLe"
      }
    },
    {
      "cell_type": "code",
      "source": [
        "import re\n",
        "\n",
        "# Read the text file\n",
        "with open(dataset_path, \"r\", encoding=\"utf-8\") as file:\n",
        "    text = file.read()\n",
        "\n",
        "# Remove everything before the actual content\n",
        "start_marker = \"*** START OF THE PROJECT GUTENBERG EBOOK\"\n",
        "end_marker = \"*** END OF THE PROJECT GUTENBERG EBOOK\"\n",
        "\n",
        "# Keep only the content between the start and end markers\n",
        "text = text.split(start_marker, 1)[-1].split(end_marker, 1)[0]\n",
        "\n",
        "# Define a pattern to match chapter titles (Roman numerals followed by title)\n",
        "chapter_pattern = re.compile(r\"\\n([IVXLCDM]+)\\.\\s([^\\n]+)\\n\")\n",
        "\n",
        "# Find all matches (chapter titles)\n",
        "matches = list(chapter_pattern.finditer(text))\n",
        "\n",
        "# Split the text into chapters\n",
        "chapters = []\n",
        "start = matches[0].end() if matches else 0  # Start at first chapter if found\n",
        "\n",
        "for i in range(len(matches)):\n",
        "    end = matches[i + 1].start() if i + 1 < len(matches) else len(text)\n",
        "\n",
        "    chapter_title = matches[i].group(2)  # Extract chapter title (ignore Roman numeral)\n",
        "    chapter_content = text[matches[i].end():end].strip()\n",
        "\n",
        "    # Remove subchapter numbers (standalone Roman numerals followed by a newline)\n",
        "    chapter_content = re.sub(r\"^\\n?[IVXLCDM]+\\.\\n+\", \"\", chapter_content, flags=re.MULTILINE).strip()\n",
        "\n",
        "    # Store as \"Chapter Title\\nContent\"\n",
        "    chapters.append(f\"{chapter_title}\\n\\n{chapter_content}\")\n",
        "\n",
        "# Print the first 300 characters of each chapter\n",
        "for i, chapter in enumerate(chapters, 1):\n",
        "    print(f\"Chapter {i}: {chapter[:300]}...\\n\")\n"
      ],
      "metadata": {
        "colab": {
          "base_uri": "https://localhost:8080/"
        },
        "id": "aAjFbkw3LEHI",
        "outputId": "b60228f1-a3a2-4e98-f371-974cd1eb5c7a"
      },
      "execution_count": 4,
      "outputs": [
        {
          "output_type": "stream",
          "name": "stdout",
          "text": [
            "Chapter 1: A SCANDAL IN BOHEMIA\n",
            "\n",
            "To Sherlock Holmes she is always _the_ woman. I have seldom heard him\n",
            "mention her under any other name. In his eyes she eclipses and\n",
            "predominates the whole of her sex. It was not that he felt any emotion\n",
            "akin to love for Irene Adler. All emotions, and that one particularly,\n",
            "wer...\n",
            "\n",
            "Chapter 2: THE RED-HEADED LEAGUE\n",
            "\n",
            "I had called upon my friend, Mr. Sherlock Holmes, one day in the\n",
            " autumn of last year and found him in deep conversation with a very\n",
            " stout, florid-faced, elderly gentleman with fiery red hair. With an\n",
            " apology for my intrusion, I was about to withdraw when Holmes pulled\n",
            " me a...\n",
            "\n",
            "Chapter 3: A CASE OF IDENTITY\n",
            "\n",
            "“My dear fellow,” said Sherlock Holmes as we sat on either side of the\n",
            "fire in his lodgings at Baker Street, “life is infinitely stranger than\n",
            "anything which the mind of man could invent. We would not dare to\n",
            "conceive the things which are really mere commonplaces of existence. If...\n",
            "\n",
            "Chapter 4: THE BOSCOMBE VALLEY MYSTERY\n",
            "\n",
            "We were seated at breakfast one morning, my wife and I, when the maid\n",
            "brought in a telegram. It was from Sherlock Holmes and ran in this way:\n",
            "\n",
            "“Have you a couple of days to spare? Have just been wired for from the\n",
            "west of England in connection with Boscombe Valley traged...\n",
            "\n",
            "Chapter 5: THE FIVE ORANGE PIPS\n",
            "\n",
            "When I glance over my notes and records of the Sherlock Holmes cases\n",
            "between the years ’82 and ’90, I am faced by so many which present\n",
            "strange and interesting features that it is no easy matter to know\n",
            "which to choose and which to leave. Some, however, have already gained\n",
            "publ...\n",
            "\n",
            "Chapter 6: THE MAN WITH THE TWISTED LIP\n",
            "\n",
            "Isa Whitney, brother of the late Elias Whitney, D.D., Principal of the\n",
            "Theological College of St. George’s, was much addicted to opium. The\n",
            "habit grew upon him, as I understand, from some foolish freak when he\n",
            "was at college; for having read De Quincey’s description of ...\n",
            "\n",
            "Chapter 7: THE ADVENTURE OF THE BLUE CARBUNCLE\n",
            "\n",
            "I had called upon my friend Sherlock Holmes upon the second morning\n",
            "after Christmas, with the intention of wishing him the compliments of\n",
            "the season. He was lounging upon the sofa in a purple dressing-gown, a\n",
            "pipe-rack within his reach upon the right, and a pile ...\n",
            "\n",
            "Chapter 8: THE ADVENTURE OF THE SPECKLED BAND\n",
            "\n",
            "On glancing over my notes of the seventy odd cases in which I have\n",
            "during the last eight years studied the methods of my friend Sherlock\n",
            "Holmes, I find many tragic, some comic, a large number merely strange,\n",
            "but none commonplace; for, working as he did rather for ...\n",
            "\n",
            "Chapter 9: THE ADVENTURE OF THE ENGINEER’S THUMB\n",
            "\n",
            "Of all the problems which have been submitted to my friend, Mr.\n",
            "Sherlock Holmes, for solution during the years of our intimacy, there\n",
            "were only two which I was the means of introducing to his notice—that\n",
            "of Mr. Hatherley’s thumb, and that of Colonel Warburton’s...\n",
            "\n",
            "Chapter 10: THE ADVENTURE OF THE NOBLE BACHELOR\n",
            "\n",
            "The Lord St. Simon marriage, and its curious termination, have long\n",
            "ceased to be a subject of interest in those exalted circles in which\n",
            "the unfortunate bridegroom moves. Fresh scandals have eclipsed it, and\n",
            "their more piquant details have drawn the gossips away ...\n",
            "\n",
            "Chapter 11: THE ADVENTURE OF THE BERYL CORONET\n",
            "\n",
            "“Holmes,” said I as I stood one morning in our bow-window looking down\n",
            "the street, “here is a madman coming along. It seems rather sad that\n",
            "his relatives should allow him to come out alone.”\n",
            "\n",
            "My friend rose lazily from his armchair and stood with his hands in the\n",
            "...\n",
            "\n",
            "Chapter 12: THE ADVENTURE OF THE COPPER BEECHES\n",
            "\n",
            "“To the man who loves art for its own sake,” remarked Sherlock Holmes,\n",
            "tossing aside the advertisement sheet of _The Daily Telegraph_, “it is\n",
            "frequently in its least important and lowliest manifestations that the\n",
            "keenest pleasure is to be derived. It is pleasant ...\n",
            "\n"
          ]
        }
      ]
    },
    {
      "cell_type": "code",
      "source": [
        "new_text = '\\n'.join(chapters)\n",
        "print(new_text[:1500])"
      ],
      "metadata": {
        "colab": {
          "base_uri": "https://localhost:8080/"
        },
        "id": "cyvHFxpkNinv",
        "outputId": "5784a488-a8b5-4ea1-f0a9-c2c44780b552"
      },
      "execution_count": 5,
      "outputs": [
        {
          "output_type": "stream",
          "name": "stdout",
          "text": [
            "A SCANDAL IN BOHEMIA\n",
            "\n",
            "To Sherlock Holmes she is always _the_ woman. I have seldom heard him\n",
            "mention her under any other name. In his eyes she eclipses and\n",
            "predominates the whole of her sex. It was not that he felt any emotion\n",
            "akin to love for Irene Adler. All emotions, and that one particularly,\n",
            "were abhorrent to his cold, precise but admirably balanced mind. He\n",
            "was, I take it, the most perfect reasoning and observing machine that\n",
            "the world has seen, but as a lover he would have placed himself in a\n",
            "false position. He never spoke of the softer passions, save with a gibe\n",
            "and a sneer. They were admirable things for the observer—excellent for\n",
            "drawing the veil from men’s motives and actions. But for the trained\n",
            "reasoner to admit such intrusions into his own delicate and finely\n",
            "adjusted temperament was to introduce a distracting factor which might\n",
            "throw a doubt upon all his mental results. Grit in a sensitive\n",
            "instrument, or a crack in one of his own high-power lenses, would not\n",
            "be more disturbing than a strong emotion in a nature such as his. And\n",
            "yet there was but one woman to him, and that woman was the late Irene\n",
            "Adler, of dubious and questionable memory.\n",
            "\n",
            "I had seen little of Holmes lately. My marriage had drifted us away\n",
            "from each other. My own complete happiness, and the home-centred\n",
            "interests which rise up around the man who first finds himself master\n",
            "of his own establishment, were sufficient to absorb all my attention,\n",
            "while Holmes, who loathed every form of society with his\n"
          ]
        }
      ]
    },
    {
      "cell_type": "code",
      "source": [
        "with open('dataset_clean.txt', 'w') as f:\n",
        "  f.write(new_text)"
      ],
      "metadata": {
        "id": "t6-4w9RRbBxT"
      },
      "execution_count": 6,
      "outputs": []
    },
    {
      "cell_type": "markdown",
      "source": [
        "Observando el dataset limpio, vemos que\n",
        "- `\\n\\n` (consecutive endline)\n",
        "- `_the_` (emphasis)\n",
        "- `“Seven!”` (punctuation)\n",
        "- `“Absolutely?”` (punctuation)\n",
        "- `John’s` (punctuation)\n",
        "- `won’t` (contractions)\n",
        "- `half-dragged` (hyphened compound-words)\n",
        "- `“‘The Church of St. Monica,` (abbreviation)\n",
        "- `\\t\\t“MY DEAR MR. SHERLOCK HOLMES` (tabs/spaces)\n",
        "- `_née_` (tilde)\n",
        "- `“‘Never.’` (quotes)\n",
        "- `“THE RED-HEADED LEAGUE IS DISSOLVED. October 9, 1890.”` (numbered date)\n",
        "- `sitting-room`\n",
        "- `“‘December 22nd. Twenty-four geese at 7_s_. 6_d_.’”`\n",
        "\n",
        "Deberíamos aplicar un preprocesamiento al texto.\n",
        "\n",
        "Una práctica recomendada es pasar todo a minúscula"
      ],
      "metadata": {
        "id": "omgwSL9NbH8m"
      }
    },
    {
      "cell_type": "code",
      "source": [
        "!pip install contractions dateparser"
      ],
      "metadata": {
        "colab": {
          "base_uri": "https://localhost:8080/"
        },
        "id": "Tbhrexq07bZA",
        "outputId": "be4f4540-edb1-4900-a749-502c4924ad58"
      },
      "execution_count": 31,
      "outputs": [
        {
          "output_type": "stream",
          "name": "stdout",
          "text": [
            "Collecting contractions\n",
            "  Downloading contractions-0.1.73-py2.py3-none-any.whl.metadata (1.2 kB)\n",
            "Collecting dateparser\n",
            "  Downloading dateparser-1.2.1-py3-none-any.whl.metadata (29 kB)\n",
            "Collecting textsearch>=0.0.21 (from contractions)\n",
            "  Downloading textsearch-0.0.24-py2.py3-none-any.whl.metadata (1.2 kB)\n",
            "Requirement already satisfied: python-dateutil>=2.7.0 in /usr/local/lib/python3.11/dist-packages (from dateparser) (2.8.2)\n",
            "Requirement already satisfied: pytz>=2024.2 in /usr/local/lib/python3.11/dist-packages (from dateparser) (2025.1)\n",
            "Requirement already satisfied: regex!=2019.02.19,!=2021.8.27,>=2015.06.24 in /usr/local/lib/python3.11/dist-packages (from dateparser) (2024.11.6)\n",
            "Requirement already satisfied: tzlocal>=0.2 in /usr/local/lib/python3.11/dist-packages (from dateparser) (5.3.1)\n",
            "Requirement already satisfied: six>=1.5 in /usr/local/lib/python3.11/dist-packages (from python-dateutil>=2.7.0->dateparser) (1.17.0)\n",
            "Collecting anyascii (from textsearch>=0.0.21->contractions)\n",
            "  Downloading anyascii-0.3.2-py3-none-any.whl.metadata (1.5 kB)\n",
            "Collecting pyahocorasick (from textsearch>=0.0.21->contractions)\n",
            "  Downloading pyahocorasick-2.1.0-cp311-cp311-manylinux_2_17_x86_64.manylinux2014_x86_64.whl.metadata (13 kB)\n",
            "Downloading contractions-0.1.73-py2.py3-none-any.whl (8.7 kB)\n",
            "Downloading dateparser-1.2.1-py3-none-any.whl (295 kB)\n",
            "\u001b[2K   \u001b[90m━━━━━━━━━━━━━━━━━━━━━━━━━━━━━━━━━━━━━━━━\u001b[0m \u001b[32m295.7/295.7 kB\u001b[0m \u001b[31m7.8 MB/s\u001b[0m eta \u001b[36m0:00:00\u001b[0m\n",
            "\u001b[?25hDownloading textsearch-0.0.24-py2.py3-none-any.whl (7.6 kB)\n",
            "Downloading anyascii-0.3.2-py3-none-any.whl (289 kB)\n",
            "\u001b[2K   \u001b[90m━━━━━━━━━━━━━━━━━━━━━━━━━━━━━━━━━━━━━━━━\u001b[0m \u001b[32m289.9/289.9 kB\u001b[0m \u001b[31m16.4 MB/s\u001b[0m eta \u001b[36m0:00:00\u001b[0m\n",
            "\u001b[?25hDownloading pyahocorasick-2.1.0-cp311-cp311-manylinux_2_17_x86_64.manylinux2014_x86_64.whl (118 kB)\n",
            "\u001b[2K   \u001b[90m━━━━━━━━━━━━━━━━━━━━━━━━━━━━━━━━━━━━━━━━\u001b[0m \u001b[32m118.3/118.3 kB\u001b[0m \u001b[31m7.2 MB/s\u001b[0m eta \u001b[36m0:00:00\u001b[0m\n",
            "\u001b[?25hInstalling collected packages: pyahocorasick, anyascii, textsearch, dateparser, contractions\n",
            "Successfully installed anyascii-0.3.2 contractions-0.1.73 dateparser-1.2.1 pyahocorasick-2.1.0 textsearch-0.0.24\n"
          ]
        }
      ]
    },
    {
      "cell_type": "code",
      "source": [
        "import re\n",
        "import contractions\n",
        "import dateparser\n",
        "\n",
        "def preprocess_sherlock(text):\n",
        "    # 1. Normalize Line Breaks & Whitespace\n",
        "    text = re.sub(r'\\n+', '\\n', text)  # Reduce multiple newlines to one\n",
        "    text = re.sub(r'[ \\t]+', ' ', text)  # Replace multiple spaces/tabs with a single space\n",
        "\n",
        "\n",
        "    # 2. Remove Emphasis (_the_ → the)\n",
        "    text = re.sub(r'_([^_]+)_', r'\\1', text)\n",
        "\n",
        "    # 3. Expand Contractions (won’t → will not)\n",
        "    text = contractions.fix(text)\n",
        "\n",
        "    # 4. Standardize Quotes & Punctuation\n",
        "    text = re.sub(r\"[“”]\", '\"', text)  # Double quotes\n",
        "    text = re.sub(r\"[‘’]\", \"'\", text)  # Single quotes\n",
        "    # remove all quotes\n",
        "    text = re.sub(r'[\"]', '', text)\n",
        "    text = re.sub(r'[\\']', '', text)\n",
        "\n",
        "\n",
        "    # 5. Normalize Hyphenated Words (half-dragged → half dragged)\n",
        "    # matches both hyphens (-) and em dashes (—)\n",
        "    text = re.sub(r'(\\w+)[\\-\\—](\\w+)', r'\\1 \\2', text)\n",
        "\n",
        "    # # 6. Normalize Abbreviations (St. → Saint)\n",
        "    # abbreviations = {\"St.\": \"Saint\", \"Dr.\": \"Doctor\"}\n",
        "    # for abbr, full in abbreviations.items():\n",
        "    #     text = re.sub(r'\\b' + re.escape(abbr) + r'\\b', full, text)\n",
        "\n",
        "    # # 7. Convert Numbered Dates (October 9, 1890 → 1890-10-09)\n",
        "    # text = re.sub(r'(\\b[A-Za-z]+ \\d{1,2}, \\d{4})',\n",
        "    #               lambda m: dateparser.parse(m.group(0)).strftime('%Y-%m-%d'), text)\n",
        "\n",
        "    # # 8. Normalize Money & Measurements (7_s_. 6_d_. → 7s 6d)\n",
        "    # text = re.sub(r'(\\d+)_s_\\.? (\\d+)_d_\\.?', r'\\1s \\2d', text)\n",
        "\n",
        "    return text\n"
      ],
      "metadata": {
        "id": "EbjyQ2MR7YL0"
      },
      "execution_count": 178,
      "outputs": []
    },
    {
      "cell_type": "code",
      "source": [
        "with open('dataset_clean_preprocessed.txt', 'w') as f:\n",
        "  f.write(preprocess_sherlock(new_text))"
      ],
      "metadata": {
        "id": "H6We-eJZ7i-U"
      },
      "execution_count": 179,
      "outputs": []
    },
    {
      "cell_type": "markdown",
      "source": [
        "## 1 - Preprocesamiento"
      ],
      "metadata": {
        "id": "cjlZz6kqZexn"
      }
    },
    {
      "cell_type": "code",
      "source": [
        "import pandas as pd\n",
        "df = pd.read_csv('dataset_clean_preprocessed.txt', sep='/n', header=None, engine='python')\n",
        "df.head()"
      ],
      "metadata": {
        "colab": {
          "base_uri": "https://localhost:8080/",
          "height": 206
        },
        "id": "FOA_1YbMpjLo",
        "outputId": "9814d6a4-cf27-4c7e-bca2-871b76d07c1d"
      },
      "execution_count": 180,
      "outputs": [
        {
          "output_type": "execute_result",
          "data": {
            "text/plain": [
              "                                                   0\n",
              "0                               A SCANDAL IN BOHEMIA\n",
              "1  To Sherlock Holmes she is always the woman. I ...\n",
              "2  mention her under any other name. In his eyes ...\n",
              "3  predominates the whole of her sex. It was not ...\n",
              "4  akin to love for Irene Adler. All emotions, an..."
            ],
            "text/html": [
              "\n",
              "  <div id=\"df-1145c057-f53d-4ea3-9358-0659bddd11a9\" class=\"colab-df-container\">\n",
              "    <div>\n",
              "<style scoped>\n",
              "    .dataframe tbody tr th:only-of-type {\n",
              "        vertical-align: middle;\n",
              "    }\n",
              "\n",
              "    .dataframe tbody tr th {\n",
              "        vertical-align: top;\n",
              "    }\n",
              "\n",
              "    .dataframe thead th {\n",
              "        text-align: right;\n",
              "    }\n",
              "</style>\n",
              "<table border=\"1\" class=\"dataframe\">\n",
              "  <thead>\n",
              "    <tr style=\"text-align: right;\">\n",
              "      <th></th>\n",
              "      <th>0</th>\n",
              "    </tr>\n",
              "  </thead>\n",
              "  <tbody>\n",
              "    <tr>\n",
              "      <th>0</th>\n",
              "      <td>A SCANDAL IN BOHEMIA</td>\n",
              "    </tr>\n",
              "    <tr>\n",
              "      <th>1</th>\n",
              "      <td>To Sherlock Holmes she is always the woman. I ...</td>\n",
              "    </tr>\n",
              "    <tr>\n",
              "      <th>2</th>\n",
              "      <td>mention her under any other name. In his eyes ...</td>\n",
              "    </tr>\n",
              "    <tr>\n",
              "      <th>3</th>\n",
              "      <td>predominates the whole of her sex. It was not ...</td>\n",
              "    </tr>\n",
              "    <tr>\n",
              "      <th>4</th>\n",
              "      <td>akin to love for Irene Adler. All emotions, an...</td>\n",
              "    </tr>\n",
              "  </tbody>\n",
              "</table>\n",
              "</div>\n",
              "    <div class=\"colab-df-buttons\">\n",
              "\n",
              "  <div class=\"colab-df-container\">\n",
              "    <button class=\"colab-df-convert\" onclick=\"convertToInteractive('df-1145c057-f53d-4ea3-9358-0659bddd11a9')\"\n",
              "            title=\"Convert this dataframe to an interactive table.\"\n",
              "            style=\"display:none;\">\n",
              "\n",
              "  <svg xmlns=\"http://www.w3.org/2000/svg\" height=\"24px\" viewBox=\"0 -960 960 960\">\n",
              "    <path d=\"M120-120v-720h720v720H120Zm60-500h600v-160H180v160Zm220 220h160v-160H400v160Zm0 220h160v-160H400v160ZM180-400h160v-160H180v160Zm440 0h160v-160H620v160ZM180-180h160v-160H180v160Zm440 0h160v-160H620v160Z\"/>\n",
              "  </svg>\n",
              "    </button>\n",
              "\n",
              "  <style>\n",
              "    .colab-df-container {\n",
              "      display:flex;\n",
              "      gap: 12px;\n",
              "    }\n",
              "\n",
              "    .colab-df-convert {\n",
              "      background-color: #E8F0FE;\n",
              "      border: none;\n",
              "      border-radius: 50%;\n",
              "      cursor: pointer;\n",
              "      display: none;\n",
              "      fill: #1967D2;\n",
              "      height: 32px;\n",
              "      padding: 0 0 0 0;\n",
              "      width: 32px;\n",
              "    }\n",
              "\n",
              "    .colab-df-convert:hover {\n",
              "      background-color: #E2EBFA;\n",
              "      box-shadow: 0px 1px 2px rgba(60, 64, 67, 0.3), 0px 1px 3px 1px rgba(60, 64, 67, 0.15);\n",
              "      fill: #174EA6;\n",
              "    }\n",
              "\n",
              "    .colab-df-buttons div {\n",
              "      margin-bottom: 4px;\n",
              "    }\n",
              "\n",
              "    [theme=dark] .colab-df-convert {\n",
              "      background-color: #3B4455;\n",
              "      fill: #D2E3FC;\n",
              "    }\n",
              "\n",
              "    [theme=dark] .colab-df-convert:hover {\n",
              "      background-color: #434B5C;\n",
              "      box-shadow: 0px 1px 3px 1px rgba(0, 0, 0, 0.15);\n",
              "      filter: drop-shadow(0px 1px 2px rgba(0, 0, 0, 0.3));\n",
              "      fill: #FFFFFF;\n",
              "    }\n",
              "  </style>\n",
              "\n",
              "    <script>\n",
              "      const buttonEl =\n",
              "        document.querySelector('#df-1145c057-f53d-4ea3-9358-0659bddd11a9 button.colab-df-convert');\n",
              "      buttonEl.style.display =\n",
              "        google.colab.kernel.accessAllowed ? 'block' : 'none';\n",
              "\n",
              "      async function convertToInteractive(key) {\n",
              "        const element = document.querySelector('#df-1145c057-f53d-4ea3-9358-0659bddd11a9');\n",
              "        const dataTable =\n",
              "          await google.colab.kernel.invokeFunction('convertToInteractive',\n",
              "                                                    [key], {});\n",
              "        if (!dataTable) return;\n",
              "\n",
              "        const docLinkHtml = 'Like what you see? Visit the ' +\n",
              "          '<a target=\"_blank\" href=https://colab.research.google.com/notebooks/data_table.ipynb>data table notebook</a>'\n",
              "          + ' to learn more about interactive tables.';\n",
              "        element.innerHTML = '';\n",
              "        dataTable['output_type'] = 'display_data';\n",
              "        await google.colab.output.renderOutput(dataTable, element);\n",
              "        const docLink = document.createElement('div');\n",
              "        docLink.innerHTML = docLinkHtml;\n",
              "        element.appendChild(docLink);\n",
              "      }\n",
              "    </script>\n",
              "  </div>\n",
              "\n",
              "\n",
              "<div id=\"df-8c34eadc-9748-4a31-a1ff-17542eccbe6c\">\n",
              "  <button class=\"colab-df-quickchart\" onclick=\"quickchart('df-8c34eadc-9748-4a31-a1ff-17542eccbe6c')\"\n",
              "            title=\"Suggest charts\"\n",
              "            style=\"display:none;\">\n",
              "\n",
              "<svg xmlns=\"http://www.w3.org/2000/svg\" height=\"24px\"viewBox=\"0 0 24 24\"\n",
              "     width=\"24px\">\n",
              "    <g>\n",
              "        <path d=\"M19 3H5c-1.1 0-2 .9-2 2v14c0 1.1.9 2 2 2h14c1.1 0 2-.9 2-2V5c0-1.1-.9-2-2-2zM9 17H7v-7h2v7zm4 0h-2V7h2v10zm4 0h-2v-4h2v4z\"/>\n",
              "    </g>\n",
              "</svg>\n",
              "  </button>\n",
              "\n",
              "<style>\n",
              "  .colab-df-quickchart {\n",
              "      --bg-color: #E8F0FE;\n",
              "      --fill-color: #1967D2;\n",
              "      --hover-bg-color: #E2EBFA;\n",
              "      --hover-fill-color: #174EA6;\n",
              "      --disabled-fill-color: #AAA;\n",
              "      --disabled-bg-color: #DDD;\n",
              "  }\n",
              "\n",
              "  [theme=dark] .colab-df-quickchart {\n",
              "      --bg-color: #3B4455;\n",
              "      --fill-color: #D2E3FC;\n",
              "      --hover-bg-color: #434B5C;\n",
              "      --hover-fill-color: #FFFFFF;\n",
              "      --disabled-bg-color: #3B4455;\n",
              "      --disabled-fill-color: #666;\n",
              "  }\n",
              "\n",
              "  .colab-df-quickchart {\n",
              "    background-color: var(--bg-color);\n",
              "    border: none;\n",
              "    border-radius: 50%;\n",
              "    cursor: pointer;\n",
              "    display: none;\n",
              "    fill: var(--fill-color);\n",
              "    height: 32px;\n",
              "    padding: 0;\n",
              "    width: 32px;\n",
              "  }\n",
              "\n",
              "  .colab-df-quickchart:hover {\n",
              "    background-color: var(--hover-bg-color);\n",
              "    box-shadow: 0 1px 2px rgba(60, 64, 67, 0.3), 0 1px 3px 1px rgba(60, 64, 67, 0.15);\n",
              "    fill: var(--button-hover-fill-color);\n",
              "  }\n",
              "\n",
              "  .colab-df-quickchart-complete:disabled,\n",
              "  .colab-df-quickchart-complete:disabled:hover {\n",
              "    background-color: var(--disabled-bg-color);\n",
              "    fill: var(--disabled-fill-color);\n",
              "    box-shadow: none;\n",
              "  }\n",
              "\n",
              "  .colab-df-spinner {\n",
              "    border: 2px solid var(--fill-color);\n",
              "    border-color: transparent;\n",
              "    border-bottom-color: var(--fill-color);\n",
              "    animation:\n",
              "      spin 1s steps(1) infinite;\n",
              "  }\n",
              "\n",
              "  @keyframes spin {\n",
              "    0% {\n",
              "      border-color: transparent;\n",
              "      border-bottom-color: var(--fill-color);\n",
              "      border-left-color: var(--fill-color);\n",
              "    }\n",
              "    20% {\n",
              "      border-color: transparent;\n",
              "      border-left-color: var(--fill-color);\n",
              "      border-top-color: var(--fill-color);\n",
              "    }\n",
              "    30% {\n",
              "      border-color: transparent;\n",
              "      border-left-color: var(--fill-color);\n",
              "      border-top-color: var(--fill-color);\n",
              "      border-right-color: var(--fill-color);\n",
              "    }\n",
              "    40% {\n",
              "      border-color: transparent;\n",
              "      border-right-color: var(--fill-color);\n",
              "      border-top-color: var(--fill-color);\n",
              "    }\n",
              "    60% {\n",
              "      border-color: transparent;\n",
              "      border-right-color: var(--fill-color);\n",
              "    }\n",
              "    80% {\n",
              "      border-color: transparent;\n",
              "      border-right-color: var(--fill-color);\n",
              "      border-bottom-color: var(--fill-color);\n",
              "    }\n",
              "    90% {\n",
              "      border-color: transparent;\n",
              "      border-bottom-color: var(--fill-color);\n",
              "    }\n",
              "  }\n",
              "</style>\n",
              "\n",
              "  <script>\n",
              "    async function quickchart(key) {\n",
              "      const quickchartButtonEl =\n",
              "        document.querySelector('#' + key + ' button');\n",
              "      quickchartButtonEl.disabled = true;  // To prevent multiple clicks.\n",
              "      quickchartButtonEl.classList.add('colab-df-spinner');\n",
              "      try {\n",
              "        const charts = await google.colab.kernel.invokeFunction(\n",
              "            'suggestCharts', [key], {});\n",
              "      } catch (error) {\n",
              "        console.error('Error during call to suggestCharts:', error);\n",
              "      }\n",
              "      quickchartButtonEl.classList.remove('colab-df-spinner');\n",
              "      quickchartButtonEl.classList.add('colab-df-quickchart-complete');\n",
              "    }\n",
              "    (() => {\n",
              "      let quickchartButtonEl =\n",
              "        document.querySelector('#df-8c34eadc-9748-4a31-a1ff-17542eccbe6c button');\n",
              "      quickchartButtonEl.style.display =\n",
              "        google.colab.kernel.accessAllowed ? 'block' : 'none';\n",
              "    })();\n",
              "  </script>\n",
              "</div>\n",
              "\n",
              "    </div>\n",
              "  </div>\n"
            ],
            "application/vnd.google.colaboratory.intrinsic+json": {
              "type": "dataframe",
              "variable_name": "df",
              "summary": "{\n  \"name\": \"df\",\n  \"rows\": 9293,\n  \"fields\": [\n    {\n      \"column\": 0,\n      \"properties\": {\n        \"dtype\": \"string\",\n        \"num_unique_values\": 9220,\n        \"samples\": [\n          \"my ears. Suddenly, to my horror, there was a distinct sound of\",\n          \"as I had heard that you were good enough to give advice to poor folk\",\n          \"The trap drove on, and a few minutes later we saw a sudden light spring\"\n        ],\n        \"semantic_type\": \"\",\n        \"description\": \"\"\n      }\n    }\n  ]\n}"
            }
          },
          "metadata": {},
          "execution_count": 180
        }
      ]
    },
    {
      "cell_type": "code",
      "source": [
        "print(\"Cantidad de lineas:\", df.shape[0])"
      ],
      "metadata": {
        "colab": {
          "base_uri": "https://localhost:8080/"
        },
        "id": "szc70eRtp-Wr",
        "outputId": "78a3153b-ea5b-4fa0-f037-161851cca6c3"
      },
      "execution_count": 181,
      "outputs": [
        {
          "output_type": "stream",
          "name": "stdout",
          "text": [
            "Cantidad de lineas: 9293\n"
          ]
        }
      ]
    },
    {
      "cell_type": "code",
      "source": [
        "from tensorflow.keras.preprocessing.text import text_to_word_sequence\n",
        "\n",
        "sentence_tokens = []\n",
        "# Recorrer todas las filas y transformar las oraciones\n",
        "# en una secuencia de palabras (esto podría realizarse con NLTK o spaCy también)\n",
        "for _, row in df[:None].iterrows():\n",
        "    sentence_tokens.append(text_to_word_sequence(row[0]))\n",
        "\n"
      ],
      "metadata": {
        "id": "d0j6ndLma8pv"
      },
      "execution_count": 182,
      "outputs": []
    },
    {
      "cell_type": "code",
      "source": [
        "sentence_tokens[:2]\n",
        "#sentence_tokens[:100]"
      ],
      "metadata": {
        "colab": {
          "base_uri": "https://localhost:8080/"
        },
        "id": "a0f5W3K-qExF",
        "outputId": "ff8bda88-cdce-4baa-ff4a-487496e6dff1"
      },
      "execution_count": 183,
      "outputs": [
        {
          "output_type": "execute_result",
          "data": {
            "text/plain": [
              "[['a', 'scandal', 'in', 'bohemia'],\n",
              " ['to',\n",
              "  'sherlock',\n",
              "  'holmes',\n",
              "  'she',\n",
              "  'is',\n",
              "  'always',\n",
              "  'the',\n",
              "  'woman',\n",
              "  'i',\n",
              "  'have',\n",
              "  'seldom',\n",
              "  'heard',\n",
              "  'him']]"
            ]
          },
          "metadata": {},
          "execution_count": 183
        }
      ]
    },
    {
      "cell_type": "markdown",
      "source": [
        "### 2 - Crear los vectores (word2vec)"
      ],
      "metadata": {
        "id": "i1WH3HqvqMnq"
      }
    },
    {
      "cell_type": "code",
      "source": [
        "from gensim.models.callbacks import CallbackAny2Vec\n",
        "\n",
        "class callback(CallbackAny2Vec):\n",
        "    \"\"\"\n",
        "    Callback to print loss after each epoch\n",
        "    \"\"\"\n",
        "    def __init__(self):\n",
        "        self.epoch = 0\n",
        "\n",
        "    def on_epoch_end(self, model):\n",
        "        loss = model.get_latest_training_loss()\n",
        "        if self.epoch == 0:\n",
        "            print('Loss after epoch {}: {}'.format(self.epoch, loss))\n",
        "        else:\n",
        "            print('Loss after epoch {}: {}'.format(self.epoch, loss- self.loss_previous_step))\n",
        "        self.epoch += 1\n",
        "        self.loss_previous_step = loss"
      ],
      "metadata": {
        "id": "JPjIYXPWqMKP"
      },
      "execution_count": 184,
      "outputs": []
    },
    {
      "cell_type": "code",
      "source": [
        "from gensim.models import Word2Vec\n",
        "# Crearmos el modelo generador de vectores\n",
        "# En este caso utilizaremos la estructura modelo Skipgram\n",
        "w2v_model = Word2Vec(min_count=5,    # frecuencia mínima de palabra para incluirla en el vocabulario\n",
        "                     window=2,       # cant de palabras antes y desp de la predicha\n",
        "                     vector_size=300,       # dimensionalidad de los vectores\n",
        "                     negative=20,    # cantidad de negative samples... 0 es no se usa\n",
        "                     workers=1,      # si tienen más cores pueden cambiar este valor\n",
        "                     sg=1)           # modelo 0:CBOW  1:skipgram"
      ],
      "metadata": {
        "id": "i7f1XjAK2KLe"
      },
      "execution_count": 172,
      "outputs": []
    },
    {
      "cell_type": "code",
      "source": [
        "# Obtener el vocabulario con los tokens\n",
        "w2v_model.build_vocab(sentence_tokens)"
      ],
      "metadata": {
        "colab": {
          "base_uri": "https://localhost:8080/"
        },
        "id": "2yPvxBmO2S_x",
        "outputId": "7aa699f5-a23c-48c8-fe0a-3ee3e88c3871"
      },
      "execution_count": 185,
      "outputs": [
        {
          "output_type": "stream",
          "name": "stderr",
          "text": [
            "WARNING:gensim.models.keyedvectors:sorting after vectors have been allocated is expensive & error-prone\n"
          ]
        }
      ]
    },
    {
      "cell_type": "code",
      "source": [
        "# Cantidad de filas/docs encontradas en el corpus\n",
        "print(\"Cantidad de lineas en el corpus:\", w2v_model.corpus_count)"
      ],
      "metadata": {
        "colab": {
          "base_uri": "https://localhost:8080/"
        },
        "id": "t-4gpWYk2VSH",
        "outputId": "1717e5f0-60a0-452f-89ba-22efa43d01b7"
      },
      "execution_count": 186,
      "outputs": [
        {
          "output_type": "stream",
          "name": "stdout",
          "text": [
            "Cantidad de lineas en el corpus: 9293\n"
          ]
        }
      ]
    },
    {
      "cell_type": "code",
      "source": [
        "# Cantidad de words encontradas en el corpus\n",
        "print(\"Cantidad de words distintas en el corpus:\", len(w2v_model.wv.index_to_key))"
      ],
      "metadata": {
        "colab": {
          "base_uri": "https://localhost:8080/"
        },
        "id": "dJBl2MGx2YQN",
        "outputId": "e2d9ccb8-a32a-423a-b617-2fdb85e4c81b"
      },
      "execution_count": 187,
      "outputs": [
        {
          "output_type": "stream",
          "name": "stdout",
          "text": [
            "Cantidad de words distintas en el corpus: 2047\n"
          ]
        }
      ]
    },
    {
      "cell_type": "markdown",
      "source": [
        "3 - Entrenar embeddings"
      ],
      "metadata": {
        "id": "PLfpd8Jj2a4-"
      }
    },
    {
      "cell_type": "code",
      "source": [
        "# Entrenamos el modelo generador de vectores\n",
        "# Utilizamos nuestro callback\n",
        "w2v_model.train(sentence_tokens,\n",
        "                 total_examples=w2v_model.corpus_count,\n",
        "                 epochs=25,\n",
        "                 compute_loss = True,\n",
        "                 callbacks=[callback()]\n",
        "                 )"
      ],
      "metadata": {
        "colab": {
          "base_uri": "https://localhost:8080/"
        },
        "id": "xEZoUx_o2b0X",
        "outputId": "fe824f0d-2a72-4c0d-96d1-bccc62bd80fa"
      },
      "execution_count": 188,
      "outputs": [
        {
          "output_type": "stream",
          "name": "stderr",
          "text": [
            "WARNING:gensim.models.word2vec:Effective 'alpha' higher than previous training cycles\n"
          ]
        },
        {
          "output_type": "stream",
          "name": "stdout",
          "text": [
            "Loss after epoch 0: 642889.5625\n",
            "Loss after epoch 1: 569514.1875\n",
            "Loss after epoch 2: 516744.5\n",
            "Loss after epoch 3: 493048.25\n",
            "Loss after epoch 4: 452393.0\n",
            "Loss after epoch 5: 446405.5\n",
            "Loss after epoch 6: 443909.25\n",
            "Loss after epoch 7: 438211.0\n",
            "Loss after epoch 8: 416197.75\n",
            "Loss after epoch 9: 402588.5\n",
            "Loss after epoch 10: 398912.0\n",
            "Loss after epoch 11: 396524.0\n",
            "Loss after epoch 12: 393561.5\n",
            "Loss after epoch 13: 388496.5\n",
            "Loss after epoch 14: 383790.5\n",
            "Loss after epoch 15: 384007.5\n",
            "Loss after epoch 16: 382975.0\n",
            "Loss after epoch 17: 381789.0\n",
            "Loss after epoch 18: 376731.5\n",
            "Loss after epoch 19: 359414.0\n",
            "Loss after epoch 20: 352849.0\n",
            "Loss after epoch 21: 352614.0\n",
            "Loss after epoch 22: 350995.0\n",
            "Loss after epoch 23: 348391.0\n",
            "Loss after epoch 24: 348089.0\n"
          ]
        },
        {
          "output_type": "execute_result",
          "data": {
            "text/plain": [
              "(1588099, 2640400)"
            ]
          },
          "metadata": {},
          "execution_count": 188
        }
      ]
    },
    {
      "cell_type": "markdown",
      "source": [
        "### 4 - Ensayar"
      ],
      "metadata": {
        "id": "Rcdu2Q7O3GQe"
      }
    },
    {
      "cell_type": "code",
      "source": [
        "# Palabras que MÁS se relacionan con...:\n",
        "w2v_model.wv.most_similar(positive=[\"holmes\"], topn=10)"
      ],
      "metadata": {
        "colab": {
          "base_uri": "https://localhost:8080/"
        },
        "id": "eQjwF0DUOm06",
        "outputId": "e0685a9b-43ed-4f73-b3f6-dea86a61d91c"
      },
      "execution_count": 189,
      "outputs": [
        {
          "output_type": "execute_result",
          "data": {
            "text/plain": [
              "[('gently', 0.4936835765838623),\n",
              " ('folded', 0.4825948476791382),\n",
              " ('jones', 0.47202202677726746),\n",
              " ('sherlock', 0.45471763610839844),\n",
              " ('asleep', 0.4543115496635437),\n",
              " ('ryder', 0.4538865089416504),\n",
              " ('permission', 0.45166584849357605),\n",
              " ('holding', 0.44341978430747986),\n",
              " ('lestrade', 0.4431013762950897),\n",
              " ('rucastles', 0.4414711594581604)]"
            ]
          },
          "metadata": {},
          "execution_count": 189
        }
      ]
    },
    {
      "cell_type": "code",
      "source": [
        "# Palabras que MÁS se relacionan con...:\n",
        "w2v_model.wv.most_similar(positive=[\"sherlock\"], topn=10)"
      ],
      "metadata": {
        "colab": {
          "base_uri": "https://localhost:8080/"
        },
        "id": "ndwnSBEq3FlO",
        "outputId": "adfe6d47-8b62-4e34-9236-db41d3178b68"
      },
      "execution_count": 190,
      "outputs": [
        {
          "output_type": "execute_result",
          "data": {
            "text/plain": [
              "[('folded', 0.5196881890296936),\n",
              " ('lestrade', 0.4940914511680603),\n",
              " ('records', 0.48475685715675354),\n",
              " ('gently', 0.48461127281188965),\n",
              " ('gravely', 0.476479172706604),\n",
              " ('snake', 0.4759807884693146),\n",
              " ('breckinridge', 0.47472020983695984),\n",
              " ('ryder', 0.46981534361839294),\n",
              " ('stolen', 0.46623495221138),\n",
              " ('contrary', 0.46264389157295227)]"
            ]
          },
          "metadata": {},
          "execution_count": 190
        }
      ]
    },
    {
      "cell_type": "code",
      "source": [
        "# Palabras que MÁS se relacionan con...:\n",
        "w2v_model.wv.most_similar(positive=[\"watson\"], topn=10)"
      ],
      "metadata": {
        "colab": {
          "base_uri": "https://localhost:8080/"
        },
        "id": "NufwC_z0JFoz",
        "outputId": "e2977005-fa39-4588-d2fd-f3d424e65a8d"
      },
      "execution_count": 191,
      "outputs": [
        {
          "output_type": "execute_result",
          "data": {
            "text/plain": [
              "[('fairly', 0.5378113389015198),\n",
              " ('prison', 0.5313997268676758),\n",
              " ('madam', 0.5282397270202637),\n",
              " ('scoundrel', 0.5201773643493652),\n",
              " ('ought', 0.5159301161766052),\n",
              " ('contrary', 0.5130690336227417),\n",
              " ('assure', 0.5100429058074951),\n",
              " ('stop', 0.5095928311347961),\n",
              " ('probable', 0.5079638361930847),\n",
              " ('solved', 0.4950072169303894)]"
            ]
          },
          "metadata": {},
          "execution_count": 191
        }
      ]
    },
    {
      "cell_type": "code",
      "source": [
        "# Palabras que MÁS se relacionan con...:\n",
        "w2v_model.wv.most_similar(positive=[\"detective\"], topn=10)"
      ],
      "metadata": {
        "colab": {
          "base_uri": "https://localhost:8080/"
        },
        "id": "nyB8A1HuJIy2",
        "outputId": "fb03f8b9-4e11-4724-fc94-5597452991ce"
      },
      "execution_count": 192,
      "outputs": [
        {
          "output_type": "execute_result",
          "data": {
            "text/plain": [
              "[('jury', 0.6983655095100403),\n",
              " ('acted', 0.681652307510376),\n",
              " ('swandam', 0.6696454882621765),\n",
              " ('chase', 0.6514925956726074),\n",
              " ('victim', 0.6381052732467651),\n",
              " ('shut', 0.6340851187705994),\n",
              " ('temper', 0.6331061720848083),\n",
              " ('shake', 0.6306163668632507),\n",
              " ('missed', 0.6256158351898193),\n",
              " ('finding', 0.6213852167129517)]"
            ]
          },
          "metadata": {},
          "execution_count": 192
        }
      ]
    },
    {
      "cell_type": "code",
      "source": [
        "# Palabras que MÁS se relacionan con...:\n",
        "w2v_model.wv.most_similar(positive=[\"case\"], topn=10)"
      ],
      "metadata": {
        "colab": {
          "base_uri": "https://localhost:8080/"
        },
        "id": "LN_Rgw7eJMLP",
        "outputId": "2f9ea611-4047-4adb-d7d7-186bd6329c1b"
      },
      "execution_count": 193,
      "outputs": [
        {
          "output_type": "execute_result",
          "data": {
            "text/plain": [
              "[('greatest', 0.45463672280311584),\n",
              " ('statement', 0.4525163769721985),\n",
              " ('point', 0.44930344820022583),\n",
              " ('rain', 0.4360961616039276),\n",
              " ('complete', 0.4341650903224945),\n",
              " ('perfectly', 0.43270066380500793),\n",
              " ('prompt', 0.42646175622940063),\n",
              " ('skill', 0.42043840885162354),\n",
              " ('precaution', 0.4152683913707733),\n",
              " ('recall', 0.4092711806297302)]"
            ]
          },
          "metadata": {},
          "execution_count": 193
        }
      ]
    }
  ]
}